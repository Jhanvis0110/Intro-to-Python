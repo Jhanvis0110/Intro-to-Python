{
  "nbformat": 4,
  "nbformat_minor": 0,
  "metadata": {
    "colab": {
      "provenance": [],
      "include_colab_link": true
    },
    "kernelspec": {
      "name": "python3",
      "display_name": "Python 3"
    },
    "language_info": {
      "name": "python"
    },
    "gpuClass": "standard"
  },
  "cells": [
    {
      "cell_type": "markdown",
      "metadata": {
        "id": "view-in-github",
        "colab_type": "text"
      },
      "source": [
        "<a href=\"https://colab.research.google.com/github/Jhanvis0110/Intro-to-Python/blob/main/WD_10AM.ipynb\" target=\"_parent\"><img src=\"https://colab.research.google.com/assets/colab-badge.svg\" alt=\"Open In Colab\"/></a>"
      ]
    },
    {
      "cell_type": "code",
      "execution_count": null,
      "metadata": {
        "colab": {
          "base_uri": "https://localhost:8080/"
        },
        "id": "GB4NQIFlKpCg",
        "outputId": "981f9fca-7561-44a8-9957-f09b8b038465"
      },
      "outputs": [
        {
          "output_type": "stream",
          "name": "stdout",
          "text": [
            "hello world\n"
          ]
        }
      ],
      "source": [
        "print(\"hello world\")"
      ]
    },
    {
      "cell_type": "code",
      "source": [
        "print('hello world')"
      ],
      "metadata": {
        "colab": {
          "base_uri": "https://localhost:8080/"
        },
        "id": "3boAL9FOOE8V",
        "outputId": "e28dfa6b-e066-49a0-9cc8-c929859dc9af"
      },
      "execution_count": null,
      "outputs": [
        {
          "output_type": "stream",
          "name": "stdout",
          "text": [
            "hello world\n"
          ]
        }
      ]
    },
    {
      "cell_type": "code",
      "source": [
        "print(\"\"\"Hello world\"\"\")"
      ],
      "metadata": {
        "colab": {
          "base_uri": "https://localhost:8080/"
        },
        "id": "YG9wG-FOOSpA",
        "outputId": "859b824b-7501-4b66-fb63-35b99a2d80ed"
      },
      "execution_count": null,
      "outputs": [
        {
          "output_type": "stream",
          "name": "stdout",
          "text": [
            "Hello world\n"
          ]
        }
      ]
    },
    {
      "cell_type": "code",
      "source": [
        "print('''Hello world''')"
      ],
      "metadata": {
        "colab": {
          "base_uri": "https://localhost:8080/"
        },
        "id": "kJUyq9DVOmpx",
        "outputId": "0e3b08a1-fddf-4757-f0c4-cb6102fa9f21"
      },
      "execution_count": null,
      "outputs": [
        {
          "output_type": "stream",
          "name": "stdout",
          "text": [
            "Hello world\n"
          ]
        }
      ]
    },
    {
      "cell_type": "code",
      "source": [
        "print(\"hello\",\"Krishna\",\"kumar\")"
      ],
      "metadata": {
        "colab": {
          "base_uri": "https://localhost:8080/"
        },
        "id": "pXFl7R9yOqBR",
        "outputId": "3ce4966b-674d-4b52-9931-7297883e6dad"
      },
      "execution_count": null,
      "outputs": [
        {
          "output_type": "stream",
          "name": "stdout",
          "text": [
            "hello Krishna kumar\n"
          ]
        }
      ]
    },
    {
      "cell_type": "code",
      "source": [
        "print(\"hello\"\"Krishna\"\"kumar\")"
      ],
      "metadata": {
        "colab": {
          "base_uri": "https://localhost:8080/"
        },
        "id": "Rkl-LpWVO23h",
        "outputId": "ec326a1e-feef-4950-e449-ca7b9607537f"
      },
      "execution_count": null,
      "outputs": [
        {
          "output_type": "stream",
          "name": "stdout",
          "text": [
            "helloKrishnakumar\n"
          ]
        }
      ]
    },
    {
      "cell_type": "code",
      "source": [
        "print(\"hello \"\"Krishna \"\"kumar \")"
      ],
      "metadata": {
        "colab": {
          "base_uri": "https://localhost:8080/"
        },
        "id": "JbNdMwVgPMLB",
        "outputId": "6ee20ad9-4170-4253-a354-d14660b35043"
      },
      "execution_count": null,
      "outputs": [
        {
          "output_type": "stream",
          "name": "stdout",
          "text": [
            "hello Krishna kumar \n"
          ]
        }
      ]
    },
    {
      "cell_type": "code",
      "source": [
        "import builtins            #print is a builtins function\n",
        "builtins.print(\"hello\",\"Krishna\",\"kumar\")"
      ],
      "metadata": {
        "colab": {
          "base_uri": "https://localhost:8080/"
        },
        "id": "UxgtXMS3PZXy",
        "outputId": "089e990f-cd23-406c-8871-6af8f8d46e7f"
      },
      "execution_count": null,
      "outputs": [
        {
          "output_type": "stream",
          "name": "stdout",
          "text": [
            "hello Krishna kumar\n"
          ]
        }
      ]
    },
    {
      "cell_type": "code",
      "source": [
        "print(\"hello\"?\"Krishna\"?\"kumar\")"
      ],
      "metadata": {
        "colab": {
          "base_uri": "https://localhost:8080/",
          "height": 130
        },
        "id": "dlnrva7BPuIB",
        "outputId": "48905ce6-dfb8-4888-a935-92a47ca98bac"
      },
      "execution_count": null,
      "outputs": [
        {
          "output_type": "error",
          "ename": "SyntaxError",
          "evalue": "ignored",
          "traceback": [
            "\u001b[0;36m  File \u001b[0;32m\"<ipython-input-9-93e0319482bc>\"\u001b[0;36m, line \u001b[0;32m1\u001b[0m\n\u001b[0;31m    print(\"hello\"?\"Krishna\"?\"kumar\")\u001b[0m\n\u001b[0m                 ^\u001b[0m\n\u001b[0;31mSyntaxError\u001b[0m\u001b[0;31m:\u001b[0m invalid syntax\n"
          ]
        }
      ]
    },
    {
      "cell_type": "code",
      "source": [
        "print(\"hello?\"\"Krishna?\"\"kumar\")"
      ],
      "metadata": {
        "colab": {
          "base_uri": "https://localhost:8080/"
        },
        "id": "eax7V7QBQJdy",
        "outputId": "745cda54-f1ef-48c3-862f-399a38873d47"
      },
      "execution_count": null,
      "outputs": [
        {
          "output_type": "stream",
          "name": "stdout",
          "text": [
            "hello?Krishna?kumar\n"
          ]
        }
      ]
    },
    {
      "cell_type": "code",
      "source": [
        "print(\"hello\",\"Krishna\",\"kumar\",sep='''''')"
      ],
      "metadata": {
        "colab": {
          "base_uri": "https://localhost:8080/"
        },
        "id": "g1MApAusQWe0",
        "outputId": "bc1c093b-10af-4104-8ab1-c8f7d5bc3d99"
      },
      "execution_count": null,
      "outputs": [
        {
          "output_type": "stream",
          "name": "stdout",
          "text": [
            "helloKrishnakumar\n"
          ]
        }
      ]
    },
    {
      "cell_type": "code",
      "source": [
        "print(\"hello\",\"Krishna\",\"kumar\",sep=' ');print(\"this is krishna\");print(\"Hello\");"
      ],
      "metadata": {
        "colab": {
          "base_uri": "https://localhost:8080/"
        },
        "id": "6MXhx2IhQv6R",
        "outputId": "2b2cb99e-7aa4-4972-808f-375a49571906"
      },
      "execution_count": null,
      "outputs": [
        {
          "output_type": "stream",
          "name": "stdout",
          "text": [
            "hello Krishna kumar\n",
            "this is krishna\n",
            "Hello\n"
          ]
        }
      ]
    },
    {
      "cell_type": "code",
      "source": [
        "print(\"hello\",\"Krishna\",\"kumar\",sep=' ',end='\\n');\n",
        "print(\"this is krishna\");\n",
        "print(\"Hello\");"
      ],
      "metadata": {
        "colab": {
          "base_uri": "https://localhost:8080/"
        },
        "id": "aUjblHwMRWRR",
        "outputId": "e629422e-9554-4821-e08c-986aa6ac4174"
      },
      "execution_count": null,
      "outputs": [
        {
          "output_type": "stream",
          "name": "stdout",
          "text": [
            "hello Krishna kumar\n",
            "this is krishna\n",
            "Hello\n"
          ]
        }
      ]
    },
    {
      "cell_type": "code",
      "source": [
        "print(\"hello\",\"Krishna\",\"kumar\",sep=' ',end='\\t');\n",
        "print(\"this is krishna\",end='\\t');\n",
        "print(\"Hello\");"
      ],
      "metadata": {
        "colab": {
          "base_uri": "https://localhost:8080/"
        },
        "id": "AxKgUuv5R_RB",
        "outputId": "d257380e-ca99-47d9-93b7-111764ced30e"
      },
      "execution_count": null,
      "outputs": [
        {
          "output_type": "stream",
          "name": "stdout",
          "text": [
            "hello Krishna kumar\tthis is krishna\tHello\n"
          ]
        }
      ]
    },
    {
      "cell_type": "code",
      "source": [
        "print(\"hello\",\"Krishna\",\"kumar\",sep=' ',end='    ');\n",
        "print(\"this is krishna\",end='    ');\n",
        "print(\"Hello\");"
      ],
      "metadata": {
        "colab": {
          "base_uri": "https://localhost:8080/"
        },
        "id": "wOpSKObzSDqx",
        "outputId": "7277196a-2b91-4e28-ef50-51ba3677c5d4"
      },
      "execution_count": null,
      "outputs": [
        {
          "output_type": "stream",
          "name": "stdout",
          "text": [
            "hello Krishna kumar    this is krishna    Hello\n"
          ]
        }
      ]
    },
    {
      "cell_type": "code",
      "source": [
        "print(\"mango\\n\",\"apple\\n\",\"banana\")"
      ],
      "metadata": {
        "colab": {
          "base_uri": "https://localhost:8080/"
        },
        "id": "GYgyVdx6Sk4e",
        "outputId": "b3012444-4a8b-4aa6-fa66-d2a5386537f2"
      },
      "execution_count": null,
      "outputs": [
        {
          "output_type": "stream",
          "name": "stdout",
          "text": [
            "mango\n",
            " apple\n",
            " banana\n"
          ]
        }
      ]
    },
    {
      "cell_type": "code",
      "source": [
        "print(\"mango\",\"apple\",\"banana\",sep='USA\\n',end=\"USA\")"
      ],
      "metadata": {
        "colab": {
          "base_uri": "https://localhost:8080/"
        },
        "id": "hi_6u3P_SyFR",
        "outputId": "e97264f4-4435-471c-abee-b51bc0972921"
      },
      "execution_count": null,
      "outputs": [
        {
          "output_type": "stream",
          "name": "stdout",
          "text": [
            "mangoUSA\n",
            "appleUSA\n",
            "bananaUSA"
          ]
        }
      ]
    },
    {
      "cell_type": "code",
      "source": [
        "print(\"mango\",\"apple\",\"banana\",sep='\\nUSA\\t',end=\"USA\")"
      ],
      "metadata": {
        "colab": {
          "base_uri": "https://localhost:8080/"
        },
        "id": "Z8_nmxcWTF5h",
        "outputId": "4cecb1d5-865e-4276-b4b5-ba2cdea2db1d"
      },
      "execution_count": null,
      "outputs": [
        {
          "output_type": "stream",
          "name": "stdout",
          "text": [
            "mango\n",
            "USA\tapple\n",
            "USA\tbananaUSA"
          ]
        }
      ]
    },
    {
      "cell_type": "markdown",
      "source": [
        "# variable:\n",
        "\n",
        "1> Variable never start with a number\n",
        "\n",
        "2> Variable never contain special character except _\n",
        "\n",
        "3> Variable should be readable(prefferd)"
      ],
      "metadata": {
        "id": "D0O8EG-nTwiB"
      }
    },
    {
      "cell_type": "code",
      "source": [
        "a=10"
      ],
      "metadata": {
        "id": "J_PpMJ4ISpah"
      },
      "execution_count": null,
      "outputs": []
    },
    {
      "cell_type": "code",
      "source": [
        "b=20"
      ],
      "metadata": {
        "id": "c_fGTCf6TKFs"
      },
      "execution_count": null,
      "outputs": []
    },
    {
      "cell_type": "code",
      "source": [
        "result=a+b"
      ],
      "metadata": {
        "id": "2GkPlnA4TThg"
      },
      "execution_count": null,
      "outputs": []
    },
    {
      "cell_type": "code",
      "source": [
        "result"
      ],
      "metadata": {
        "colab": {
          "base_uri": "https://localhost:8080/"
        },
        "id": "MWhaZBvVTUlf",
        "outputId": "4a005515-00ec-46e4-fe8a-e50366506f77"
      },
      "execution_count": null,
      "outputs": [
        {
          "output_type": "execute_result",
          "data": {
            "text/plain": [
              "30"
            ]
          },
          "metadata": {},
          "execution_count": 24
        }
      ]
    },
    {
      "cell_type": "code",
      "source": [
        "1arg=10        # a variable never start with a number"
      ],
      "metadata": {
        "colab": {
          "base_uri": "https://localhost:8080/",
          "height": 130
        },
        "id": "BFojq1siTb3R",
        "outputId": "9e3f83b7-90e0-4642-d24d-8087740b645a"
      },
      "execution_count": null,
      "outputs": [
        {
          "output_type": "error",
          "ename": "SyntaxError",
          "evalue": "ignored",
          "traceback": [
            "\u001b[0;36m  File \u001b[0;32m\"<ipython-input-25-4b878aefce4a>\"\u001b[0;36m, line \u001b[0;32m1\u001b[0m\n\u001b[0;31m    1arg=10        # a variable never start with a number\u001b[0m\n\u001b[0m       ^\u001b[0m\n\u001b[0;31mSyntaxError\u001b[0m\u001b[0;31m:\u001b[0m invalid syntax\n"
          ]
        }
      ]
    },
    {
      "cell_type": "code",
      "source": [
        "arg1=10"
      ],
      "metadata": {
        "id": "YFdMUalvTiBw"
      },
      "execution_count": null,
      "outputs": []
    },
    {
      "cell_type": "code",
      "source": [
        "ar1g=10"
      ],
      "metadata": {
        "id": "qs0tOqaQTuXf"
      },
      "execution_count": null,
      "outputs": []
    },
    {
      "cell_type": "code",
      "source": [
        "@a=10     # a variable never contain special character "
      ],
      "metadata": {
        "colab": {
          "base_uri": "https://localhost:8080/",
          "height": 130
        },
        "id": "vYAVP0o5TxKP",
        "outputId": "64127e6a-0483-4a0f-86ce-2305480e6a7d"
      },
      "execution_count": null,
      "outputs": [
        {
          "output_type": "error",
          "ename": "SyntaxError",
          "evalue": "ignored",
          "traceback": [
            "\u001b[0;36m  File \u001b[0;32m\"<ipython-input-28-4b57706a7b7d>\"\u001b[0;36m, line \u001b[0;32m1\u001b[0m\n\u001b[0;31m    @a=10     # a variable never contain special character\u001b[0m\n\u001b[0m      ^\u001b[0m\n\u001b[0;31mSyntaxError\u001b[0m\u001b[0;31m:\u001b[0m invalid syntax\n"
          ]
        }
      ]
    },
    {
      "cell_type": "code",
      "source": [
        "a@=10"
      ],
      "metadata": {
        "colab": {
          "base_uri": "https://localhost:8080/",
          "height": 165
        },
        "id": "XQHWsJLlT4Qv",
        "outputId": "afb7d0a1-3ca4-4187-92c5-9870fde70771"
      },
      "execution_count": null,
      "outputs": [
        {
          "output_type": "error",
          "ename": "TypeError",
          "evalue": "ignored",
          "traceback": [
            "\u001b[0;31m---------------------------------------------------------------------------\u001b[0m",
            "\u001b[0;31mTypeError\u001b[0m                                 Traceback (most recent call last)",
            "\u001b[0;32m<ipython-input-29-2a3d543702b2>\u001b[0m in \u001b[0;36m<module>\u001b[0;34m\u001b[0m\n\u001b[0;32m----> 1\u001b[0;31m \u001b[0ma\u001b[0m\u001b[0;34m@=\u001b[0m\u001b[0;36m10\u001b[0m\u001b[0;34m\u001b[0m\u001b[0;34m\u001b[0m\u001b[0m\n\u001b[0m",
            "\u001b[0;31mTypeError\u001b[0m: unsupported operand type(s) for @=: 'int' and 'int'"
          ]
        }
      ]
    },
    {
      "cell_type": "code",
      "source": [
        "a_=10"
      ],
      "metadata": {
        "id": "S4vpwKYhUAmf"
      },
      "execution_count": null,
      "outputs": []
    },
    {
      "cell_type": "code",
      "source": [
        "_=10"
      ],
      "metadata": {
        "id": "njVZujE7UHOw"
      },
      "execution_count": null,
      "outputs": []
    },
    {
      "cell_type": "code",
      "source": [
        "b=# we should try to create readable variable(preferred)\n",
        "\n",
        "a=\"\"\"this is krishna \n",
        "\n",
        "and  i will become ai consltant soon\"\"\"\n",
        "krishna_age=26\n",
        "krishna_edu=\"MCA\"\n",
        "print(a)\n",
        "print(b)"
      ],
      "metadata": {
        "colab": {
          "base_uri": "https://localhost:8080/",
          "height": 130
        },
        "id": "dyO1ccUcUJiv",
        "outputId": "459c7a2a-7da3-4440-981e-efbbf235845f"
      },
      "execution_count": null,
      "outputs": [
        {
          "output_type": "error",
          "ename": "SyntaxError",
          "evalue": "ignored",
          "traceback": [
            "\u001b[0;36m  File \u001b[0;32m\"<ipython-input-32-a61cfb6b463f>\"\u001b[0;36m, line \u001b[0;32m1\u001b[0m\n\u001b[0;31m    b=# we should try to create readable variable(preferred)\u001b[0m\n\u001b[0m                                                            ^\u001b[0m\n\u001b[0;31mSyntaxError\u001b[0m\u001b[0;31m:\u001b[0m invalid syntax\n"
          ]
        }
      ]
    },
    {
      "cell_type": "code",
      "source": [
        "a=input(\"Kinldy enter your 4 digit pin:\")"
      ],
      "metadata": {
        "colab": {
          "base_uri": "https://localhost:8080/"
        },
        "id": "tt4PeAVQUos-",
        "outputId": "2df5dc9d-73b4-4f3c-d22a-643bfbd38872"
      },
      "execution_count": null,
      "outputs": [
        {
          "name": "stdout",
          "output_type": "stream",
          "text": [
            "Kinldy enter your 4 digit pin:\n"
          ]
        }
      ]
    },
    {
      "cell_type": "code",
      "source": [
        "a"
      ],
      "metadata": {
        "colab": {
          "base_uri": "https://localhost:8080/",
          "height": 36
        },
        "id": "m7900KJZWMT9",
        "outputId": "aa459e0d-6395-4a39-8ba2-2f7948d4be19"
      },
      "execution_count": null,
      "outputs": [
        {
          "output_type": "execute_result",
          "data": {
            "text/plain": [
              "''"
            ],
            "application/vnd.google.colaboratory.intrinsic+json": {
              "type": "string"
            }
          },
          "metadata": {},
          "execution_count": 34
        }
      ]
    },
    {
      "cell_type": "code",
      "source": [
        "print(\"Welcome to Kotak Mahindra Bank\")\n",
        "print(\"Kindly insert your card\")\n",
        "user=input(\"Kindly enter your 6 digit atm pin:\")\n",
        "\n",
        "balance=input(\"kindly enter your balance: \")\n",
        "print(\"kindly collect your amount\")"
      ],
      "metadata": {
        "colab": {
          "base_uri": "https://localhost:8080/"
        },
        "id": "hayGWH08WU1t",
        "outputId": "49ef3707-4748-4aad-e0f3-e6ffbd592806"
      },
      "execution_count": null,
      "outputs": [
        {
          "output_type": "stream",
          "name": "stdout",
          "text": [
            "Welcome to Kotak Mahindra Bank\n",
            "Kindly insert your card\n",
            "Kindly enter your 6 digit atm pin:\n",
            "kindly enter your balance: \n",
            "kindly collect your amount\n"
          ]
        }
      ]
    },
    {
      "cell_type": "code",
      "source": [
        "# when we add two or more then two string together using + sign called concatination \n",
        "a=\"krishna\"\n",
        "b=\"kumar\"\n",
        "print(a+b)"
      ],
      "metadata": {
        "colab": {
          "base_uri": "https://localhost:8080/"
        },
        "id": "0T2vKxKUX33d",
        "outputId": "dcf38167-ac88-4691-cf79-e068338c9008"
      },
      "execution_count": null,
      "outputs": [
        {
          "output_type": "stream",
          "name": "stdout",
          "text": [
            "krishnakumar\n"
          ]
        }
      ]
    },
    {
      "cell_type": "code",
      "source": [
        "a-b"
      ],
      "metadata": {
        "colab": {
          "base_uri": "https://localhost:8080/",
          "height": 165
        },
        "id": "Af_DgFu8YZ_Q",
        "outputId": "645187c3-8467-414a-bf9b-db1e76315802"
      },
      "execution_count": null,
      "outputs": [
        {
          "output_type": "error",
          "ename": "TypeError",
          "evalue": "ignored",
          "traceback": [
            "\u001b[0;31m---------------------------------------------------------------------------\u001b[0m",
            "\u001b[0;31mTypeError\u001b[0m                                 Traceback (most recent call last)",
            "\u001b[0;32m<ipython-input-37-5ae0619f8fe1>\u001b[0m in \u001b[0;36m<module>\u001b[0;34m\u001b[0m\n\u001b[0;32m----> 1\u001b[0;31m \u001b[0ma\u001b[0m\u001b[0;34m-\u001b[0m\u001b[0mb\u001b[0m\u001b[0;34m\u001b[0m\u001b[0;34m\u001b[0m\u001b[0m\n\u001b[0m",
            "\u001b[0;31mTypeError\u001b[0m: unsupported operand type(s) for -: 'str' and 'str'"
          ]
        }
      ]
    },
    {
      "cell_type": "code",
      "source": [
        "a*b"
      ],
      "metadata": {
        "id": "380zoFozZQ_c"
      },
      "execution_count": null,
      "outputs": []
    },
    {
      "cell_type": "code",
      "source": [
        "a*5"
      ],
      "metadata": {
        "id": "Xw9lSsryZX7c"
      },
      "execution_count": null,
      "outputs": []
    },
    {
      "cell_type": "code",
      "source": [
        "a*'5'"
      ],
      "metadata": {
        "id": "q2ZTyHK8ZdL7"
      },
      "execution_count": null,
      "outputs": []
    },
    {
      "cell_type": "code",
      "source": [
        "a/b"
      ],
      "metadata": {
        "colab": {
          "base_uri": "https://localhost:8080/",
          "height": 165
        },
        "id": "VqOtrEoWZhWL",
        "outputId": "3c21f491-e7ca-4857-a86d-9408783f636e"
      },
      "execution_count": null,
      "outputs": [
        {
          "output_type": "error",
          "ename": "TypeError",
          "evalue": "ignored",
          "traceback": [
            "\u001b[0;31m---------------------------------------------------------------------------\u001b[0m",
            "\u001b[0;31mTypeError\u001b[0m                                 Traceback (most recent call last)",
            "\u001b[0;32m<ipython-input-38-aae42d317509>\u001b[0m in \u001b[0;36m<module>\u001b[0;34m\u001b[0m\n\u001b[0;32m----> 1\u001b[0;31m \u001b[0ma\u001b[0m\u001b[0;34m/\u001b[0m\u001b[0mb\u001b[0m\u001b[0;34m\u001b[0m\u001b[0;34m\u001b[0m\u001b[0m\n\u001b[0m",
            "\u001b[0;31mTypeError\u001b[0m: unsupported operand type(s) for /: 'str' and 'str'"
          ]
        }
      ]
    },
    {
      "cell_type": "code",
      "source": [
        "a/5"
      ],
      "metadata": {
        "colab": {
          "base_uri": "https://localhost:8080/",
          "height": 165
        },
        "id": "zzM0KN4XZlgc",
        "outputId": "58f4fef7-892a-42e1-f177-29e5ee7e29b2"
      },
      "execution_count": null,
      "outputs": [
        {
          "output_type": "error",
          "ename": "TypeError",
          "evalue": "ignored",
          "traceback": [
            "\u001b[0;31m---------------------------------------------------------------------------\u001b[0m",
            "\u001b[0;31mTypeError\u001b[0m                                 Traceback (most recent call last)",
            "\u001b[0;32m<ipython-input-39-928aaf5ed8ec>\u001b[0m in \u001b[0;36m<module>\u001b[0;34m\u001b[0m\n\u001b[0;32m----> 1\u001b[0;31m \u001b[0ma\u001b[0m\u001b[0;34m/\u001b[0m\u001b[0;36m5\u001b[0m\u001b[0;34m\u001b[0m\u001b[0;34m\u001b[0m\u001b[0m\n\u001b[0m",
            "\u001b[0;31mTypeError\u001b[0m: unsupported operand type(s) for /: 'str' and 'int'"
          ]
        }
      ]
    },
    {
      "cell_type": "code",
      "source": [
        "print(a)"
      ],
      "metadata": {
        "colab": {
          "base_uri": "https://localhost:8080/"
        },
        "id": "eqT4sFZ0Zq0L",
        "outputId": "46aeb303-4831-4847-f4c3-f6bedfd0bf5c"
      },
      "execution_count": null,
      "outputs": [
        {
          "output_type": "stream",
          "name": "stdout",
          "text": [
            "krishna\n"
          ]
        }
      ]
    },
    {
      "cell_type": "code",
      "source": [
        "print(type(a))"
      ],
      "metadata": {
        "colab": {
          "base_uri": "https://localhost:8080/"
        },
        "id": "2mdLlps5aPP7",
        "outputId": "e16899fc-6135-4201-eb49-0d7544cc3400"
      },
      "execution_count": null,
      "outputs": [
        {
          "output_type": "stream",
          "name": "stdout",
          "text": [
            "<class 'str'>\n"
          ]
        }
      ]
    },
    {
      "cell_type": "code",
      "source": [
        "a=10"
      ],
      "metadata": {
        "id": "qLcjciffaaoq"
      },
      "execution_count": null,
      "outputs": []
    },
    {
      "cell_type": "code",
      "source": [
        "print(a)"
      ],
      "metadata": {
        "colab": {
          "base_uri": "https://localhost:8080/"
        },
        "id": "mQl0jtWJalPa",
        "outputId": "7527fce0-5065-4f7a-abf9-3ebb03ddad66"
      },
      "execution_count": null,
      "outputs": [
        {
          "output_type": "stream",
          "name": "stdout",
          "text": [
            "10\n"
          ]
        }
      ]
    },
    {
      "cell_type": "code",
      "source": [
        "print(type(a))"
      ],
      "metadata": {
        "colab": {
          "base_uri": "https://localhost:8080/"
        },
        "id": "_S72UTNDasdK",
        "outputId": "e8c0de7f-554c-405a-bc65-376dfaf9c995"
      },
      "execution_count": null,
      "outputs": [
        {
          "output_type": "stream",
          "name": "stdout",
          "text": [
            "<class 'int'>\n"
          ]
        }
      ]
    },
    {
      "cell_type": "code",
      "source": [
        "print(\"this is \\Nmutuswami\")"
      ],
      "metadata": {
        "colab": {
          "base_uri": "https://localhost:8080/",
          "height": 148
        },
        "id": "TXS7Q2OZav4L",
        "outputId": "e0e6164b-70d7-4263-f9e7-8593c71fc71d"
      },
      "execution_count": null,
      "outputs": [
        {
          "output_type": "error",
          "ename": "SyntaxError",
          "evalue": "ignored",
          "traceback": [
            "\u001b[0;36m  File \u001b[0;32m\"<ipython-input-45-453b799c9467>\"\u001b[0;36m, line \u001b[0;32m1\u001b[0m\n\u001b[0;31m    print(\"this is \\Nmutuswami\")\u001b[0m\n\u001b[0m         ^\u001b[0m\n\u001b[0;31mSyntaxError\u001b[0m\u001b[0;31m:\u001b[0m (unicode error) 'unicodeescape' codec can't decode bytes in position 8-9: malformed \\N character escape\n"
          ]
        }
      ]
    },
    {
      "cell_type": "code",
      "source": [
        "print(\"this is \\nmutuswami\")"
      ],
      "metadata": {
        "id": "fNarIe4vb362"
      },
      "execution_count": null,
      "outputs": []
    },
    {
      "cell_type": "code",
      "source": [
        "print(\"You gays are \\\"fool\\\"\")"
      ],
      "metadata": {
        "colab": {
          "base_uri": "https://localhost:8080/"
        },
        "id": "RVxXE0xfb_Qa",
        "outputId": "8ce69ed4-e48c-424d-84c7-f5746cba192f"
      },
      "execution_count": null,
      "outputs": [
        {
          "output_type": "stream",
          "name": "stdout",
          "text": [
            "You gays are \"fool\"\n"
          ]
        }
      ]
    },
    {
      "cell_type": "code",
      "source": [
        "print('You gays are \"fool\"')"
      ],
      "metadata": {
        "colab": {
          "base_uri": "https://localhost:8080/"
        },
        "id": "blSds_TGcL3a",
        "outputId": "93d1fc66-1206-4a5e-acce-d5611d1177a0"
      },
      "execution_count": null,
      "outputs": [
        {
          "output_type": "stream",
          "name": "stdout",
          "text": [
            "You gays are \"fool\"\n"
          ]
        }
      ]
    },
    {
      "cell_type": "code",
      "source": [
        "print(\"\"\"You gays are \"fool\\\"\"\"\")"
      ],
      "metadata": {
        "colab": {
          "base_uri": "https://localhost:8080/"
        },
        "id": "N_2m4GdBcoBq",
        "outputId": "006ff0f4-53eb-4300-a576-0fe44a178e0e"
      },
      "execution_count": null,
      "outputs": [
        {
          "output_type": "stream",
          "name": "stdout",
          "text": [
            "You gays are \"fool\"\n"
          ]
        }
      ]
    },
    {
      "cell_type": "code",
      "source": [
        "print(\"You gays are 'fool'\")"
      ],
      "metadata": {
        "colab": {
          "base_uri": "https://localhost:8080/"
        },
        "id": "8Xl38Q8_crrp",
        "outputId": "fc58c46a-fcb9-4836-be08-54aca74e3961"
      },
      "execution_count": null,
      "outputs": [
        {
          "output_type": "stream",
          "name": "stdout",
          "text": [
            "You gays are 'fool'\n"
          ]
        }
      ]
    },
    {
      "cell_type": "code",
      "source": [
        "print(\"this is \\\\nmutuswami\")"
      ],
      "metadata": {
        "colab": {
          "base_uri": "https://localhost:8080/"
        },
        "id": "vc3n-wZidJVI",
        "outputId": "b3dcbbe2-c88a-4c2d-d563-cade4b89fa85"
      },
      "execution_count": null,
      "outputs": [
        {
          "output_type": "stream",
          "name": "stdout",
          "text": [
            "this is \\nmutuswami\n"
          ]
        }
      ]
    },
    {
      "cell_type": "code",
      "source": [
        "print(r\"this is \\nmutuswami\")"
      ],
      "metadata": {
        "colab": {
          "base_uri": "https://localhost:8080/"
        },
        "id": "Cof1zHQzdWp5",
        "outputId": "79f0cd3c-6785-4b35-ffbc-206cc1700970"
      },
      "execution_count": null,
      "outputs": [
        {
          "output_type": "stream",
          "name": "stdout",
          "text": [
            "this is \\nmutuswami\n"
          ]
        }
      ]
    },
    {
      "cell_type": "markdown",
      "source": [
        "# Revision"
      ],
      "metadata": {
        "id": "xdOTvJ3Gdbh5"
      }
    },
    {
      "cell_type": "code",
      "source": [
        "print(\"Hello world\")"
      ],
      "metadata": {
        "colab": {
          "base_uri": "https://localhost:8080/"
        },
        "id": "apirATCXiBBI",
        "outputId": "d7f6b551-c297-4624-fa05-6207026b5061"
      },
      "execution_count": null,
      "outputs": [
        {
          "output_type": "stream",
          "name": "stdout",
          "text": [
            "Hello world\n"
          ]
        }
      ]
    },
    {
      "cell_type": "code",
      "source": [
        "print('Hello world')"
      ],
      "metadata": {
        "colab": {
          "base_uri": "https://localhost:8080/"
        },
        "id": "ndyfkWkqiDPE",
        "outputId": "9c291a42-e746-435f-c9ac-9b5df7cb0efa"
      },
      "execution_count": null,
      "outputs": [
        {
          "output_type": "stream",
          "name": "stdout",
          "text": [
            "Hello world\n"
          ]
        }
      ]
    },
    {
      "cell_type": "code",
      "source": [
        "print(\"\"\"Hello world\"\"\")"
      ],
      "metadata": {
        "colab": {
          "base_uri": "https://localhost:8080/"
        },
        "id": "dwguE-HNiIV2",
        "outputId": "cec0e687-8362-4b31-d0eb-ab2e373b75d7"
      },
      "execution_count": null,
      "outputs": [
        {
          "output_type": "stream",
          "name": "stdout",
          "text": [
            "Hello world\n"
          ]
        }
      ]
    },
    {
      "cell_type": "code",
      "source": [
        "print('''Hello world''')"
      ],
      "metadata": {
        "colab": {
          "base_uri": "https://localhost:8080/"
        },
        "id": "AZd3usRniQsG",
        "outputId": "1b646ff8-602c-450b-ce32-7cd0cb8af83b"
      },
      "execution_count": null,
      "outputs": [
        {
          "output_type": "stream",
          "name": "stdout",
          "text": [
            "Hello world\n"
          ]
        }
      ]
    },
    {
      "cell_type": "code",
      "source": [
        "print(''hello world'')"
      ],
      "metadata": {
        "colab": {
          "base_uri": "https://localhost:8080/",
          "height": 130
        },
        "id": "5hyx4W3KiTJG",
        "outputId": "0d251d6e-a362-4171-9b8b-5090d9ecd49b"
      },
      "execution_count": null,
      "outputs": [
        {
          "output_type": "error",
          "ename": "SyntaxError",
          "evalue": "ignored",
          "traceback": [
            "\u001b[0;36m  File \u001b[0;32m\"<ipython-input-56-036a28ab3d57>\"\u001b[0;36m, line \u001b[0;32m1\u001b[0m\n\u001b[0;31m    print(''hello world'')\u001b[0m\n\u001b[0m                ^\u001b[0m\n\u001b[0;31mSyntaxError\u001b[0m\u001b[0;31m:\u001b[0m invalid syntax\n"
          ]
        }
      ]
    },
    {
      "cell_type": "code",
      "source": [
        "print(\"mango\",\"apple\",\"graphs\")"
      ],
      "metadata": {
        "colab": {
          "base_uri": "https://localhost:8080/"
        },
        "id": "d9Nrz3C2iXSm",
        "outputId": "3db77587-d4ce-4cf3-da17-539a59dcfb62"
      },
      "execution_count": null,
      "outputs": [
        {
          "output_type": "stream",
          "name": "stdout",
          "text": [
            "mango apple graphs\n"
          ]
        }
      ]
    },
    {
      "cell_type": "code",
      "source": [
        "print(\"mango\",\"apple\",\"graphs\",sep=\" \")"
      ],
      "metadata": {
        "colab": {
          "base_uri": "https://localhost:8080/"
        },
        "id": "M8icRllbihz3",
        "outputId": "018ec37f-0ab6-47c6-d2c0-746a76923063"
      },
      "execution_count": null,
      "outputs": [
        {
          "output_type": "stream",
          "name": "stdout",
          "text": [
            "mango apple graphs\n"
          ]
        }
      ]
    },
    {
      "cell_type": "code",
      "source": [
        "print(\"mango\",\"apple\",\"graphs\")\n",
        "print(\"mango\",\"apple\",\"graphs\")"
      ],
      "metadata": {
        "colab": {
          "base_uri": "https://localhost:8080/"
        },
        "id": "fxEEAGNqiqiW",
        "outputId": "684eee18-5b0d-4563-d0af-e7f4961b3343"
      },
      "execution_count": null,
      "outputs": [
        {
          "output_type": "stream",
          "name": "stdout",
          "text": [
            "mango apple graphs\n",
            "mango apple graphs\n"
          ]
        }
      ]
    },
    {
      "cell_type": "code",
      "source": [
        "print(\"mango\",\"apple\",\"graphs\",end=\"\\n\")\n",
        "print(\"mango\",\"apple\",\"graphs\")"
      ],
      "metadata": {
        "colab": {
          "base_uri": "https://localhost:8080/"
        },
        "id": "cDpVqRQjiwpm",
        "outputId": "504bafc9-236b-46e1-fba0-652baf2230bf"
      },
      "execution_count": null,
      "outputs": [
        {
          "output_type": "stream",
          "name": "stdout",
          "text": [
            "mango apple graphs\n",
            "mango apple graphs\n"
          ]
        }
      ]
    },
    {
      "cell_type": "code",
      "source": [
        "print(\"mango\",\"apple\",\"graphs\",end=\" \") #this is end operator\n",
        "print(\"mango\",\"apple\",\"graphs\")"
      ],
      "metadata": {
        "colab": {
          "base_uri": "https://localhost:8080/"
        },
        "id": "IWBOO_vJi31V",
        "outputId": "bb29fc16-4696-4e4c-f254-7b019c574f8e"
      },
      "execution_count": null,
      "outputs": [
        {
          "output_type": "stream",
          "name": "stdout",
          "text": [
            "mango apple graphs mango apple graphs\n"
          ]
        }
      ]
    },
    {
      "cell_type": "markdown",
      "source": [
        "# comment\n",
        "\n",
        "python contain single line comment only start with \"#\""
      ],
      "metadata": {
        "id": "J6ixlee5i76I"
      }
    },
    {
      "cell_type": "code",
      "source": [
        "a=#\"this is krishna\"\n",
        "print(\"This is Rahul\")\n",
        "print(a)"
      ],
      "metadata": {
        "colab": {
          "base_uri": "https://localhost:8080/",
          "height": 130
        },
        "id": "7aY3wb0rjCCo",
        "outputId": "e3e87da9-2bac-4332-ac97-a9aa6beb5109"
      },
      "execution_count": null,
      "outputs": [
        {
          "output_type": "error",
          "ename": "SyntaxError",
          "evalue": "ignored",
          "traceback": [
            "\u001b[0;36m  File \u001b[0;32m\"<ipython-input-62-52c9be3ede7f>\"\u001b[0;36m, line \u001b[0;32m1\u001b[0m\n\u001b[0;31m    a=#\"this is krishna\"\u001b[0m\n\u001b[0m                        ^\u001b[0m\n\u001b[0;31mSyntaxError\u001b[0m\u001b[0;31m:\u001b[0m invalid syntax\n"
          ]
        }
      ]
    },
    {
      "cell_type": "markdown",
      "source": [
        "# variable\n",
        "\n",
        "variable never start woth number\n",
        "\n",
        "variable never containe special character except \"_\"\n",
        "\n",
        "variable's name should be readable (prefferd)"
      ],
      "metadata": {
        "id": "QN9aLJeejg-V"
      }
    },
    {
      "cell_type": "code",
      "source": [
        "1a=10"
      ],
      "metadata": {
        "colab": {
          "base_uri": "https://localhost:8080/",
          "height": 130
        },
        "id": "RTzmF5MNkoa1",
        "outputId": "b8d9f9e3-dda5-4b5f-bf33-6b103975b98d"
      },
      "execution_count": null,
      "outputs": [
        {
          "output_type": "error",
          "ename": "SyntaxError",
          "evalue": "ignored",
          "traceback": [
            "\u001b[0;36m  File \u001b[0;32m\"<ipython-input-63-442bddfef1a1>\"\u001b[0;36m, line \u001b[0;32m1\u001b[0m\n\u001b[0;31m    1a=10\u001b[0m\n\u001b[0m     ^\u001b[0m\n\u001b[0;31mSyntaxError\u001b[0m\u001b[0;31m:\u001b[0m invalid syntax\n"
          ]
        }
      ]
    },
    {
      "cell_type": "code",
      "source": [
        "a1=10"
      ],
      "metadata": {
        "id": "J3C_Ud0NkrdF"
      },
      "execution_count": null,
      "outputs": []
    },
    {
      "cell_type": "code",
      "source": [
        "krishna_age=10"
      ],
      "metadata": {
        "id": "BTTOPJJhktfk"
      },
      "execution_count": null,
      "outputs": []
    },
    {
      "cell_type": "code",
      "source": [
        "krishna@age=10"
      ],
      "metadata": {
        "colab": {
          "base_uri": "https://localhost:8080/",
          "height": 130
        },
        "id": "s85djxz6k4Ck",
        "outputId": "0dcee5be-d3eb-4c80-8a5c-d2715015b465"
      },
      "execution_count": null,
      "outputs": [
        {
          "output_type": "error",
          "ename": "SyntaxError",
          "evalue": "ignored",
          "traceback": [
            "\u001b[0;36m  File \u001b[0;32m\"<ipython-input-66-86c5da104b73>\"\u001b[0;36m, line \u001b[0;32m1\u001b[0m\n\u001b[0;31m    krishna@age=10\u001b[0m\n\u001b[0m                  ^\u001b[0m\n\u001b[0;31mSyntaxError\u001b[0m\u001b[0;31m:\u001b[0m can't assign to operator\n"
          ]
        }
      ]
    },
    {
      "cell_type": "code",
      "source": [
        "@krishna=10"
      ],
      "metadata": {
        "colab": {
          "base_uri": "https://localhost:8080/",
          "height": 130
        },
        "id": "zixujYW1k65k",
        "outputId": "d4902ba2-eaea-4a98-cc99-2d1d84f76008"
      },
      "execution_count": null,
      "outputs": [
        {
          "output_type": "error",
          "ename": "SyntaxError",
          "evalue": "ignored",
          "traceback": [
            "\u001b[0;36m  File \u001b[0;32m\"<ipython-input-67-6507c4413c4a>\"\u001b[0;36m, line \u001b[0;32m1\u001b[0m\n\u001b[0;31m    @krishna=10\u001b[0m\n\u001b[0m            ^\u001b[0m\n\u001b[0;31mSyntaxError\u001b[0m\u001b[0;31m:\u001b[0m invalid syntax\n"
          ]
        }
      ]
    },
    {
      "cell_type": "markdown",
      "source": [
        "# user input"
      ],
      "metadata": {
        "id": "_PZnacEdk-cU"
      }
    },
    {
      "cell_type": "code",
      "source": [
        "print(\"Enter your 4 digit atm pin : \")"
      ],
      "metadata": {
        "colab": {
          "base_uri": "https://localhost:8080/"
        },
        "id": "6xfhHMlDlG_1",
        "outputId": "e3611623-8a0d-4aae-ec23-adc2d8d54bc6"
      },
      "execution_count": null,
      "outputs": [
        {
          "output_type": "stream",
          "name": "stdout",
          "text": [
            "Enter your 4 digit atm pin : \n"
          ]
        }
      ]
    },
    {
      "cell_type": "code",
      "source": [
        "user=input(\"Enter your 4 digit atm pin : \")"
      ],
      "metadata": {
        "colab": {
          "base_uri": "https://localhost:8080/"
        },
        "id": "84XQ6kPFlS5E",
        "outputId": "2c2ad5e4-e447-4c88-840e-e2dabc984b2c"
      },
      "execution_count": null,
      "outputs": [
        {
          "name": "stdout",
          "output_type": "stream",
          "text": [
            "Enter your 4 digit atm pin : \n"
          ]
        }
      ]
    },
    {
      "cell_type": "code",
      "source": [
        "print(user)"
      ],
      "metadata": {
        "colab": {
          "base_uri": "https://localhost:8080/"
        },
        "id": "YlI3pJ6rlYVk",
        "outputId": "7f07cbe9-f668-4c18-d2d9-9eeccfe13250"
      },
      "execution_count": null,
      "outputs": [
        {
          "output_type": "stream",
          "name": "stdout",
          "text": [
            "\n"
          ]
        }
      ]
    },
    {
      "cell_type": "code",
      "source": [
        "print(\"I am \\\"Captain America\\\"\")"
      ],
      "metadata": {
        "colab": {
          "base_uri": "https://localhost:8080/"
        },
        "id": "RDd7m4BNlw1U",
        "outputId": "c348ca55-d883-4ee9-e7c9-93aa2074451a"
      },
      "execution_count": null,
      "outputs": [
        {
          "output_type": "stream",
          "name": "stdout",
          "text": [
            "I am \"Captain America\"\n"
          ]
        }
      ]
    },
    {
      "cell_type": "code",
      "source": [
        "print('I am \"Captain America\"')"
      ],
      "metadata": {
        "colab": {
          "base_uri": "https://localhost:8080/"
        },
        "id": "WekocLSBmlvL",
        "outputId": "2ce6077d-8db3-44c8-b162-2bf3d13f430d"
      },
      "execution_count": null,
      "outputs": [
        {
          "output_type": "stream",
          "name": "stdout",
          "text": [
            "I am \"Captain America\"\n"
          ]
        }
      ]
    },
    {
      "cell_type": "code",
      "source": [
        "print(\"\"\"I am \"Captain America\" \"\"\")"
      ],
      "metadata": {
        "colab": {
          "base_uri": "https://localhost:8080/"
        },
        "id": "VGVArbadmMHk",
        "outputId": "2f30af4a-a747-4dcd-d4b7-f98ddf3976fe"
      },
      "execution_count": null,
      "outputs": [
        {
          "output_type": "stream",
          "name": "stdout",
          "text": [
            "I am \"Captain America\" \n"
          ]
        }
      ]
    },
    {
      "cell_type": "code",
      "source": [
        "print('''I am \"Captain America\"''')"
      ],
      "metadata": {
        "colab": {
          "base_uri": "https://localhost:8080/"
        },
        "id": "n0PTvQ2zm2Bz",
        "outputId": "c498420b-6172-4109-aec1-3a8a0a2cee50"
      },
      "execution_count": null,
      "outputs": [
        {
          "output_type": "stream",
          "name": "stdout",
          "text": [
            "I am \"Captain America\"\n"
          ]
        }
      ]
    },
    {
      "cell_type": "code",
      "source": [
        "print(\"I am \\nagarjuna\")"
      ],
      "metadata": {
        "colab": {
          "base_uri": "https://localhost:8080/"
        },
        "id": "eEM-JsUJnEdz",
        "outputId": "b66022c4-7ae5-4d2a-8665-c32286f23ee7"
      },
      "execution_count": null,
      "outputs": [
        {
          "output_type": "stream",
          "name": "stdout",
          "text": [
            "I am \n",
            "agarjuna\n"
          ]
        }
      ]
    },
    {
      "cell_type": "code",
      "source": [
        "print(\"I am \\\\nagarjuna\")"
      ],
      "metadata": {
        "colab": {
          "base_uri": "https://localhost:8080/"
        },
        "id": "2OvVmTN-nbWz",
        "outputId": "7cfb0860-b408-441a-866c-f0301ff4d888"
      },
      "execution_count": null,
      "outputs": [
        {
          "output_type": "stream",
          "name": "stdout",
          "text": [
            "I am \\nagarjuna\n"
          ]
        }
      ]
    },
    {
      "cell_type": "code",
      "source": [
        "print(\"I am \\\\tanu\")"
      ],
      "metadata": {
        "colab": {
          "base_uri": "https://localhost:8080/"
        },
        "id": "73IGeC4Mnn1D",
        "outputId": "6316e4bc-f71e-4f4e-e00a-c6c35d39327c"
      },
      "execution_count": null,
      "outputs": [
        {
          "output_type": "stream",
          "name": "stdout",
          "text": [
            "I am \\tanu\n"
          ]
        }
      ]
    },
    {
      "cell_type": "code",
      "source": [
        "print(\"I am \\tanu\")"
      ],
      "metadata": {
        "colab": {
          "base_uri": "https://localhost:8080/"
        },
        "id": "TG0I3GtZnzri",
        "outputId": "19d8cd28-394f-4d81-9605-ba37e3427f00"
      },
      "execution_count": null,
      "outputs": [
        {
          "output_type": "stream",
          "name": "stdout",
          "text": [
            "I am \tanu\n"
          ]
        }
      ]
    },
    {
      "cell_type": "code",
      "source": [
        "print(r\"I am \\tanu\")"
      ],
      "metadata": {
        "colab": {
          "base_uri": "https://localhost:8080/"
        },
        "id": "vyoOQ9l0oA5i",
        "outputId": "d7c2e451-032b-4d10-c7c6-ec7d54693328"
      },
      "execution_count": null,
      "outputs": [
        {
          "output_type": "stream",
          "name": "stdout",
          "text": [
            "I am \\tanu\n"
          ]
        }
      ]
    },
    {
      "cell_type": "code",
      "source": [
        "print(\"I am \\bold\")"
      ],
      "metadata": {
        "colab": {
          "base_uri": "https://localhost:8080/"
        },
        "id": "LBl9GoQIocqS",
        "outputId": "352c1a54-97dc-4151-cd14-e16203fdabf8"
      },
      "execution_count": null,
      "outputs": [
        {
          "output_type": "stream",
          "name": "stdout",
          "text": [
            "I am \bold\n"
          ]
        }
      ]
    },
    {
      "cell_type": "code",
      "source": [
        "a=3;b=4;c=5\n",
        "\n",
        "(a+b+c)*(a+b+c)*(a+b+c)"
      ],
      "metadata": {
        "colab": {
          "base_uri": "https://localhost:8080/"
        },
        "id": "daB9WEQ6oiiS",
        "outputId": "db9690c0-7b83-4b06-d306-65d518464f71"
      },
      "execution_count": null,
      "outputs": [
        {
          "output_type": "execute_result",
          "data": {
            "text/plain": [
              "1728"
            ]
          },
          "metadata": {},
          "execution_count": 81
        }
      ]
    },
    {
      "cell_type": "code",
      "source": [
        "a=3;\n",
        "b=4;\n",
        "c=5\n",
        "\n",
        "print((a+b+c)*(a+b+c)*(a+b+c));"
      ],
      "metadata": {
        "colab": {
          "base_uri": "https://localhost:8080/"
        },
        "id": "_29pbSAapIFR",
        "outputId": "32c448b2-8105-4af0-bcba-79eeab0255b8"
      },
      "execution_count": null,
      "outputs": [
        {
          "output_type": "stream",
          "name": "stdout",
          "text": [
            "1728\n"
          ]
        }
      ]
    },
    {
      "cell_type": "code",
      "source": [
        "a,b,*c=3,4,5,4\n",
        "\n",
        "# print((a+b+c)*(a+b+c)*(a+b+c));"
      ],
      "metadata": {
        "id": "-8UuGCYXpVjh"
      },
      "execution_count": null,
      "outputs": []
    },
    {
      "cell_type": "code",
      "source": [
        "c"
      ],
      "metadata": {
        "colab": {
          "base_uri": "https://localhost:8080/"
        },
        "id": "h21LM--TpjvE",
        "outputId": "3eaa2e65-cfef-4518-9ae9-6f6190d75be5"
      },
      "execution_count": null,
      "outputs": [
        {
          "output_type": "execute_result",
          "data": {
            "text/plain": [
              "[5, 4]"
            ]
          },
          "metadata": {},
          "execution_count": 84
        }
      ]
    },
    {
      "cell_type": "markdown",
      "source": [
        "# data type"
      ],
      "metadata": {
        "id": "XvmmtQJVpzFR"
      }
    },
    {
      "cell_type": "markdown",
      "source": [
        "1> string : str\n",
        "\n",
        "2> Intger  : int\n",
        "\n",
        "3> Float   :float\n",
        "\n",
        "4> list    :list\n",
        "\n",
        "5> tuple\n",
        "\n",
        "6> set \n",
        "\n",
        "7> dictionary : dict\n",
        "\n",
        "8> boolean    : bool\n",
        "\n",
        "9> complex   \n"
      ],
      "metadata": {
        "id": "55rVj2Tm3Fhv"
      }
    },
    {
      "cell_type": "markdown",
      "source": [
        "# string\n",
        "\n",
        "string constructor str()\n",
        "\n",
        "string literal \" \",\"\"\" \"\"\",''' ''',' '\n",
        "\n",
        "string is a set of sequence of character\n",
        "\n",
        "string is immutable\n",
        "\n",
        "string support indexing \n",
        "\n",
        "string support slicing \n",
        "\n",
        "string support concatination \n"
      ],
      "metadata": {
        "id": "Ijolu7zF3b2Q"
      }
    },
    {
      "cell_type": "code",
      "source": [
        "a=\"krishna\"\n",
        "print(a[0])        # this is the concept of indexing"
      ],
      "metadata": {
        "colab": {
          "base_uri": "https://localhost:8080/"
        },
        "id": "PdFeKrnR32aP",
        "outputId": "d83eb9a6-5a4c-4f90-9d2a-372a6a19b8d8"
      },
      "execution_count": null,
      "outputs": [
        {
          "output_type": "stream",
          "name": "stdout",
          "text": [
            "k\n"
          ]
        }
      ]
    },
    {
      "cell_type": "code",
      "source": [
        "c=a[-7]\n",
        "print(type(c))"
      ],
      "metadata": {
        "colab": {
          "base_uri": "https://localhost:8080/"
        },
        "id": "9cxKqJTN5pYQ",
        "outputId": "8664aa14-46c8-4bfb-db39-b46a992952e5"
      },
      "execution_count": null,
      "outputs": [
        {
          "output_type": "stream",
          "name": "stdout",
          "text": [
            "<class 'str'>\n"
          ]
        }
      ]
    },
    {
      "cell_type": "code",
      "source": [
        "print(a[6])"
      ],
      "metadata": {
        "colab": {
          "base_uri": "https://localhost:8080/"
        },
        "id": "xKKw0euE6FZF",
        "outputId": "fa577568-b561-43dd-90ab-8f84e3f27bb7"
      },
      "execution_count": null,
      "outputs": [
        {
          "output_type": "stream",
          "name": "stdout",
          "text": [
            "a\n"
          ]
        }
      ]
    },
    {
      "cell_type": "code",
      "source": [
        "print(a[-1])"
      ],
      "metadata": {
        "colab": {
          "base_uri": "https://localhost:8080/"
        },
        "id": "NSzbm5WL6a7-",
        "outputId": "3eba658b-7f03-4919-cc12-fc3feeea5d06"
      },
      "execution_count": null,
      "outputs": [
        {
          "output_type": "stream",
          "name": "stdout",
          "text": [
            "a\n"
          ]
        }
      ]
    },
    {
      "cell_type": "markdown",
      "source": [
        "# slicing"
      ],
      "metadata": {
        "id": "Z0j2MkJP6cyv"
      }
    },
    {
      "cell_type": "code",
      "source": [
        "a"
      ],
      "metadata": {
        "colab": {
          "base_uri": "https://localhost:8080/",
          "height": 36
        },
        "id": "rLkKzLN97LYx",
        "outputId": "6aa0d53a-3b57-4b05-b8fe-a1e7290dee61"
      },
      "execution_count": null,
      "outputs": [
        {
          "output_type": "execute_result",
          "data": {
            "text/plain": [
              "'krishna'"
            ],
            "application/vnd.google.colaboratory.intrinsic+json": {
              "type": "string"
            }
          },
          "metadata": {},
          "execution_count": 89
        }
      ]
    },
    {
      "cell_type": "code",
      "source": [
        "print(a[1:5])"
      ],
      "metadata": {
        "colab": {
          "base_uri": "https://localhost:8080/"
        },
        "id": "53YQafDS7d2e",
        "outputId": "ae608bf9-2fc4-44e6-f4e1-d525e901f7fe"
      },
      "execution_count": null,
      "outputs": [
        {
          "output_type": "stream",
          "name": "stdout",
          "text": [
            "rish\n"
          ]
        }
      ]
    },
    {
      "cell_type": "code",
      "source": [
        "print(a[1:555555555555555555555555555555555555555555555555])"
      ],
      "metadata": {
        "colab": {
          "base_uri": "https://localhost:8080/"
        },
        "id": "YQ76VwmA7s6e",
        "outputId": "da09cb1a-45e3-4a2f-a182-2856e67506c4"
      },
      "execution_count": null,
      "outputs": [
        {
          "output_type": "stream",
          "name": "stdout",
          "text": [
            "rishna\n"
          ]
        }
      ]
    },
    {
      "cell_type": "code",
      "source": [
        "print(a[1:5])"
      ],
      "metadata": {
        "colab": {
          "base_uri": "https://localhost:8080/"
        },
        "id": "qofBCJh68EWv",
        "outputId": "5f5a8a33-1097-4d36-cd16-63615a369657"
      },
      "execution_count": null,
      "outputs": [
        {
          "output_type": "stream",
          "name": "stdout",
          "text": [
            "rish\n"
          ]
        }
      ]
    },
    {
      "cell_type": "code",
      "source": [
        "print(a[1:5:1])"
      ],
      "metadata": {
        "colab": {
          "base_uri": "https://localhost:8080/"
        },
        "id": "OzsdQPc78OCO",
        "outputId": "9afcbedf-607e-48f6-b0e2-dcf5f5246f2f"
      },
      "execution_count": null,
      "outputs": [
        {
          "output_type": "stream",
          "name": "stdout",
          "text": [
            "rish\n"
          ]
        }
      ]
    },
    {
      "cell_type": "code",
      "source": [
        "print(a[1:5:2])  #a[start(0): end(last+1): step(1)]"
      ],
      "metadata": {
        "colab": {
          "base_uri": "https://localhost:8080/"
        },
        "id": "AZA9l41J8j6e",
        "outputId": "2ea06cf3-0fe5-4bbb-bc9c-6820d88b3cfa"
      },
      "execution_count": null,
      "outputs": [
        {
          "output_type": "stream",
          "name": "stdout",
          "text": [
            "rs\n"
          ]
        }
      ]
    },
    {
      "cell_type": "markdown",
      "source": [
        "# use case"
      ],
      "metadata": {
        "id": "aopoFgM_-dA9"
      }
    },
    {
      "cell_type": "code",
      "source": [
        "a=\"krishna\"\n",
        "print(a)"
      ],
      "metadata": {
        "colab": {
          "base_uri": "https://localhost:8080/"
        },
        "id": "qUnMd6zh-3pP",
        "outputId": "3856e68b-9346-47e8-854b-0e053fd701c3"
      },
      "execution_count": null,
      "outputs": [
        {
          "output_type": "stream",
          "name": "stdout",
          "text": [
            "krishna\n"
          ]
        }
      ]
    },
    {
      "cell_type": "code",
      "source": [
        "print(a[0:5])  # step is 1(bydefault)"
      ],
      "metadata": {
        "colab": {
          "base_uri": "https://localhost:8080/"
        },
        "id": "z_1Ed5jH_DG-",
        "outputId": "763e93a1-a3ea-4c6c-f4b9-b2ab26fd0d45"
      },
      "execution_count": null,
      "outputs": [
        {
          "output_type": "stream",
          "name": "stdout",
          "text": [
            "krish\n"
          ]
        }
      ]
    },
    {
      "cell_type": "code",
      "source": [
        "print(a[0:5:])"
      ],
      "metadata": {
        "colab": {
          "base_uri": "https://localhost:8080/"
        },
        "id": "5DU_beq4_Jfu",
        "outputId": "18856a66-ea85-49c8-9fc4-a7a723caea86"
      },
      "execution_count": null,
      "outputs": [
        {
          "output_type": "stream",
          "name": "stdout",
          "text": [
            "krish\n"
          ]
        }
      ]
    },
    {
      "cell_type": "code",
      "source": [
        "print(a[:5:])"
      ],
      "metadata": {
        "colab": {
          "base_uri": "https://localhost:8080/"
        },
        "id": "HXoNpz-l_XoN",
        "outputId": "7c34cbc5-446b-44d7-8509-497e0fb39304"
      },
      "execution_count": null,
      "outputs": [
        {
          "output_type": "stream",
          "name": "stdout",
          "text": [
            "krish\n"
          ]
        }
      ]
    },
    {
      "cell_type": "code",
      "source": [
        "print(a[::])"
      ],
      "metadata": {
        "colab": {
          "base_uri": "https://localhost:8080/"
        },
        "id": "Xw7QKT7w_aqu",
        "outputId": "142198cd-2178-48e9-97c3-ab174dc7cd00"
      },
      "execution_count": null,
      "outputs": [
        {
          "output_type": "stream",
          "name": "stdout",
          "text": [
            "krishna\n"
          ]
        }
      ]
    },
    {
      "cell_type": "code",
      "source": [
        "print(a[::2])"
      ],
      "metadata": {
        "colab": {
          "base_uri": "https://localhost:8080/"
        },
        "id": "zn03ozqn_eos",
        "outputId": "2fd3d99e-f763-4788-da04-109825bb84e8"
      },
      "execution_count": null,
      "outputs": [
        {
          "output_type": "stream",
          "name": "stdout",
          "text": [
            "kiha\n"
          ]
        }
      ]
    },
    {
      "cell_type": "code",
      "source": [
        "print(a[-1:-8:-1])"
      ],
      "metadata": {
        "colab": {
          "base_uri": "https://localhost:8080/"
        },
        "id": "teNGds0b_h2u",
        "outputId": "31d36e90-374d-42a9-d1f0-5017b1cb4b3f"
      },
      "execution_count": null,
      "outputs": [
        {
          "output_type": "stream",
          "name": "stdout",
          "text": [
            "anhsirk\n"
          ]
        }
      ]
    },
    {
      "cell_type": "code",
      "source": [
        "print(a[-1:-1000000000000000000000000000000000000000000:-1])"
      ],
      "metadata": {
        "colab": {
          "base_uri": "https://localhost:8080/"
        },
        "id": "YtV0Dae1_zte",
        "outputId": "0dc4a057-e417-4d1c-ea5c-4ab41c9a1f19"
      },
      "execution_count": null,
      "outputs": [
        {
          "output_type": "stream",
          "name": "stdout",
          "text": [
            "anhsirk\n"
          ]
        }
      ]
    },
    {
      "cell_type": "markdown",
      "source": [
        "# int\n",
        "\n",
        "int constructor int()\n",
        "\n",
        "int base always 10\n",
        "\n"
      ],
      "metadata": {
        "id": "JW9-A3PPA_09"
      }
    },
    {
      "cell_type": "code",
      "source": [
        "a=int()"
      ],
      "metadata": {
        "id": "ufWRWJMkDO-Z"
      },
      "execution_count": null,
      "outputs": []
    },
    {
      "cell_type": "code",
      "source": [
        "print(a)"
      ],
      "metadata": {
        "colab": {
          "base_uri": "https://localhost:8080/"
        },
        "id": "Zdn_pDYXDR_t",
        "outputId": "adfb99cd-94b0-4320-f0a2-201acaa18df5"
      },
      "execution_count": null,
      "outputs": [
        {
          "output_type": "stream",
          "name": "stdout",
          "text": [
            "0\n"
          ]
        }
      ]
    },
    {
      "cell_type": "code",
      "source": [
        "a=10\n",
        "print(id(a))"
      ],
      "metadata": {
        "colab": {
          "base_uri": "https://localhost:8080/"
        },
        "id": "GGm-pgKwDSlw",
        "outputId": "429fc748-e7d3-4294-cdb9-704a6af38364"
      },
      "execution_count": null,
      "outputs": [
        {
          "output_type": "stream",
          "name": "stdout",
          "text": [
            "11122880\n"
          ]
        }
      ]
    },
    {
      "cell_type": "code",
      "source": [
        "b=20\n",
        "print(id(b))"
      ],
      "metadata": {
        "colab": {
          "base_uri": "https://localhost:8080/"
        },
        "id": "GwzuMWfzDqAG",
        "outputId": "fa3cca4f-21fd-4487-e04c-c794914d2625"
      },
      "execution_count": null,
      "outputs": [
        {
          "output_type": "stream",
          "name": "stdout",
          "text": [
            "11123200\n"
          ]
        }
      ]
    },
    {
      "cell_type": "code",
      "source": [
        "b=10\n",
        "print(id(b))"
      ],
      "metadata": {
        "colab": {
          "base_uri": "https://localhost:8080/"
        },
        "id": "08lmWycFDrBS",
        "outputId": "87bc7195-d190-4035-8c12-8712e8127d21"
      },
      "execution_count": null,
      "outputs": [
        {
          "output_type": "stream",
          "name": "stdout",
          "text": [
            "11122880\n"
          ]
        }
      ]
    },
    {
      "cell_type": "code",
      "source": [
        "c=9\n",
        "print(c)"
      ],
      "metadata": {
        "colab": {
          "base_uri": "https://localhost:8080/"
        },
        "id": "AnRbBg6gEpM5",
        "outputId": "30ded104-2d04-4fda-ddcf-1f1a01e3456e"
      },
      "execution_count": null,
      "outputs": [
        {
          "output_type": "stream",
          "name": "stdout",
          "text": [
            "9\n"
          ]
        }
      ]
    },
    {
      "cell_type": "markdown",
      "source": [
        "# float\n",
        "\n",
        "float constructor float()\n",
        "\n"
      ],
      "metadata": {
        "id": "pmUOo1B8EGpt"
      }
    },
    {
      "cell_type": "code",
      "source": [
        "a=float()\n",
        "print(0)"
      ],
      "metadata": {
        "colab": {
          "base_uri": "https://localhost:8080/"
        },
        "id": "_-SuOdCnEhGu",
        "outputId": "9c7d1c74-f82e-48f2-f5ba-253ac0f8f3bb"
      },
      "execution_count": null,
      "outputs": [
        {
          "output_type": "stream",
          "name": "stdout",
          "text": [
            "0\n"
          ]
        }
      ]
    },
    {
      "cell_type": "code",
      "source": [
        "a=10             # integer value\n",
        "print(float(a))  # float values after casting \n",
        "\n",
        "                 # casting(conversion of one datatype to other datatype)\n"
      ],
      "metadata": {
        "colab": {
          "base_uri": "https://localhost:8080/"
        },
        "id": "-bh7ssbHE2sO",
        "outputId": "b7c2b2ad-5e04-4628-a360-cd33d6b2fd29"
      },
      "execution_count": null,
      "outputs": [
        {
          "output_type": "stream",
          "name": "stdout",
          "text": [
            "10.0\n"
          ]
        }
      ]
    },
    {
      "cell_type": "code",
      "source": [
        "a"
      ],
      "metadata": {
        "colab": {
          "base_uri": "https://localhost:8080/"
        },
        "id": "JyB0od2rFH3t",
        "outputId": "2f222cd9-2f92-4d15-ea60-512efffb0304"
      },
      "execution_count": null,
      "outputs": [
        {
          "output_type": "execute_result",
          "data": {
            "text/plain": [
              "10"
            ]
          },
          "metadata": {},
          "execution_count": 111
        }
      ]
    },
    {
      "cell_type": "code",
      "source": [
        "c=10            # c --> integer\n",
        "c=str(a)        #str() constructor help us to convert int into str\n",
        "print(type(c))  \n",
        "c"
      ],
      "metadata": {
        "colab": {
          "base_uri": "https://localhost:8080/",
          "height": 53
        },
        "id": "qRgEVq4KFsad",
        "outputId": "8e2d91ac-ae4b-4d27-fcca-0199dbfd3ccb"
      },
      "execution_count": null,
      "outputs": [
        {
          "output_type": "stream",
          "name": "stdout",
          "text": [
            "<class 'str'>\n"
          ]
        },
        {
          "output_type": "execute_result",
          "data": {
            "text/plain": [
              "'10'"
            ],
            "application/vnd.google.colaboratory.intrinsic+json": {
              "type": "string"
            }
          },
          "metadata": {},
          "execution_count": 112
        }
      ]
    },
    {
      "cell_type": "code",
      "source": [
        "d=10.11        # float datatype\n",
        "print(int(d))  # conversion of float into int using constructor"
      ],
      "metadata": {
        "colab": {
          "base_uri": "https://localhost:8080/"
        },
        "id": "sz8na1g2Fy28",
        "outputId": "6ebcda39-4afc-4dcc-fc11-4344f30822a4"
      },
      "execution_count": null,
      "outputs": [
        {
          "output_type": "stream",
          "name": "stdout",
          "text": [
            "10\n"
          ]
        }
      ]
    },
    {
      "cell_type": "code",
      "source": [
        "d=10.99        # while conversion of float into int.it simply drop the values \n",
        "               # after decimal point \n",
        "print(int(d))"
      ],
      "metadata": {
        "colab": {
          "base_uri": "https://localhost:8080/"
        },
        "id": "BUZsu6qoGT9t",
        "outputId": "663cc0b3-2815-44c4-f100-88b7c6e2e6a5"
      },
      "execution_count": null,
      "outputs": [
        {
          "output_type": "stream",
          "name": "stdout",
          "text": [
            "10\n"
          ]
        }
      ]
    },
    {
      "cell_type": "code",
      "source": [
        "g=\"10.0\"\n",
        "print(type(g))\n"
      ],
      "metadata": {
        "colab": {
          "base_uri": "https://localhost:8080/"
        },
        "id": "Th2tjKQ-GigO",
        "outputId": "8b126abf-c753-4b85-f906-757d8b3c1966"
      },
      "execution_count": null,
      "outputs": [
        {
          "output_type": "stream",
          "name": "stdout",
          "text": [
            "<class 'str'>\n"
          ]
        }
      ]
    },
    {
      "cell_type": "code",
      "source": [
        "g=\"10.0\"\n",
        "print(int(g))  # string containing a float value can't convert into int directly\n"
      ],
      "metadata": {
        "colab": {
          "base_uri": "https://localhost:8080/",
          "height": 182
        },
        "id": "xIQXKj2HHdvO",
        "outputId": "a7f425b8-fa22-47a3-a0e4-8e4b6348d9c5"
      },
      "execution_count": null,
      "outputs": [
        {
          "output_type": "error",
          "ename": "ValueError",
          "evalue": "ignored",
          "traceback": [
            "\u001b[0;31m---------------------------------------------------------------------------\u001b[0m",
            "\u001b[0;31mValueError\u001b[0m                                Traceback (most recent call last)",
            "\u001b[0;32m<ipython-input-116-57c986540224>\u001b[0m in \u001b[0;36m<module>\u001b[0;34m\u001b[0m\n\u001b[1;32m      1\u001b[0m \u001b[0mg\u001b[0m\u001b[0;34m=\u001b[0m\u001b[0;34m\"10.0\"\u001b[0m\u001b[0;34m\u001b[0m\u001b[0;34m\u001b[0m\u001b[0m\n\u001b[0;32m----> 2\u001b[0;31m \u001b[0mprint\u001b[0m\u001b[0;34m(\u001b[0m\u001b[0mint\u001b[0m\u001b[0;34m(\u001b[0m\u001b[0mg\u001b[0m\u001b[0;34m)\u001b[0m\u001b[0;34m)\u001b[0m  \u001b[0;31m# string containing a float value can't convert into int directly\u001b[0m\u001b[0;34m\u001b[0m\u001b[0;34m\u001b[0m\u001b[0m\n\u001b[0m",
            "\u001b[0;31mValueError\u001b[0m: invalid literal for int() with base 10: '10.0'"
          ]
        }
      ]
    },
    {
      "cell_type": "code",
      "source": [
        "g=\"10.0\"\n",
        "print(float(g))  # Question:How will you convert a string containing a float value\n",
        "\n",
        "                 # Answer: first string --> float---> int "
      ],
      "metadata": {
        "id": "TWbDKfADHmp9"
      },
      "execution_count": null,
      "outputs": []
    },
    {
      "cell_type": "code",
      "source": [
        "g=\"10.0\"\n",
        "h=float(g)\n",
        "print(int(h))"
      ],
      "metadata": {
        "id": "XAE3sdHZH3qs"
      },
      "execution_count": null,
      "outputs": []
    },
    {
      "cell_type": "code",
      "source": [
        "i=\"10\"\n",
        "print(int(i))"
      ],
      "metadata": {
        "id": "MGF3A4qLILxt"
      },
      "execution_count": null,
      "outputs": []
    },
    {
      "cell_type": "code",
      "source": [
        "j=\"10.0Krishna\"\n",
        "print(float(j))"
      ],
      "metadata": {
        "colab": {
          "base_uri": "https://localhost:8080/",
          "height": 182
        },
        "id": "4kJ0djw5I4hN",
        "outputId": "8d3fa16c-c3eb-4223-ee84-9edf1546f332"
      },
      "execution_count": null,
      "outputs": [
        {
          "output_type": "error",
          "ename": "ValueError",
          "evalue": "ignored",
          "traceback": [
            "\u001b[0;31m---------------------------------------------------------------------------\u001b[0m",
            "\u001b[0;31mValueError\u001b[0m                                Traceback (most recent call last)",
            "\u001b[0;32m<ipython-input-117-232b8427b76b>\u001b[0m in \u001b[0;36m<module>\u001b[0;34m\u001b[0m\n\u001b[1;32m      1\u001b[0m \u001b[0mj\u001b[0m\u001b[0;34m=\u001b[0m\u001b[0;34m\"10.0Krishna\"\u001b[0m\u001b[0;34m\u001b[0m\u001b[0;34m\u001b[0m\u001b[0m\n\u001b[0;32m----> 2\u001b[0;31m \u001b[0mprint\u001b[0m\u001b[0;34m(\u001b[0m\u001b[0mfloat\u001b[0m\u001b[0;34m(\u001b[0m\u001b[0mj\u001b[0m\u001b[0;34m)\u001b[0m\u001b[0;34m)\u001b[0m\u001b[0;34m\u001b[0m\u001b[0;34m\u001b[0m\u001b[0m\n\u001b[0m",
            "\u001b[0;31mValueError\u001b[0m: could not convert string to float: '10.0Krishna'"
          ]
        }
      ]
    },
    {
      "cell_type": "code",
      "source": [
        "k=10\n",
        "\n",
        "print(float(k))"
      ],
      "metadata": {
        "id": "T2njJ0VVJQTt"
      },
      "execution_count": null,
      "outputs": []
    },
    {
      "cell_type": "code",
      "source": [
        "l=\".\"\n",
        "print(float(l))"
      ],
      "metadata": {
        "id": "lMylCH76Jin9"
      },
      "execution_count": null,
      "outputs": []
    },
    {
      "cell_type": "markdown",
      "source": [
        "# complex\n",
        "\n",
        "complex constructo complex()"
      ],
      "metadata": {
        "id": "_eQ3dhvnJ3sd"
      }
    },
    {
      "cell_type": "code",
      "source": [
        "del j\n",
        "a=2+4j"
      ],
      "metadata": {
        "id": "osY__hTnKAb9"
      },
      "execution_count": null,
      "outputs": []
    },
    {
      "cell_type": "code",
      "source": [
        "print(type(a))"
      ],
      "metadata": {
        "colab": {
          "base_uri": "https://localhost:8080/"
        },
        "id": "1jaGYXIzLD49",
        "outputId": "ae7e66bf-6a82-441f-cd33-fb0a59533f7b"
      },
      "execution_count": null,
      "outputs": [
        {
          "output_type": "stream",
          "name": "stdout",
          "text": [
            "<class 'complex'>\n"
          ]
        }
      ]
    },
    {
      "cell_type": "code",
      "source": [
        "j=1\n",
        "4j"
      ],
      "metadata": {
        "colab": {
          "base_uri": "https://localhost:8080/"
        },
        "id": "z3xgM_zKLHsN",
        "outputId": "50edf4c2-4a57-4e2f-db8d-ddac0d723165"
      },
      "execution_count": null,
      "outputs": [
        {
          "output_type": "execute_result",
          "data": {
            "text/plain": [
              "4j"
            ]
          },
          "metadata": {},
          "execution_count": 120
        }
      ]
    },
    {
      "cell_type": "code",
      "source": [
        "0+0j"
      ],
      "metadata": {
        "colab": {
          "base_uri": "https://localhost:8080/"
        },
        "id": "RpgvnwVPLN2_",
        "outputId": "0d3c243d-c81b-4dcd-936b-cb8aeedf9e32"
      },
      "execution_count": null,
      "outputs": [
        {
          "output_type": "execute_result",
          "data": {
            "text/plain": [
              "0j"
            ]
          },
          "metadata": {},
          "execution_count": 121
        }
      ]
    },
    {
      "cell_type": "code",
      "source": [
        "a=10.0\n",
        "print(complex(a))"
      ],
      "metadata": {
        "colab": {
          "base_uri": "https://localhost:8080/"
        },
        "id": "tuwMu3ogL_ly",
        "outputId": "57928a4e-0973-41c8-d0b5-0717a1822865"
      },
      "execution_count": null,
      "outputs": [
        {
          "output_type": "stream",
          "name": "stdout",
          "text": [
            "(10+0j)\n"
          ]
        }
      ]
    },
    {
      "cell_type": "code",
      "source": [
        "b=10\n",
        "print(complex(b))"
      ],
      "metadata": {
        "colab": {
          "base_uri": "https://localhost:8080/"
        },
        "id": "uDN9NUGpMUXu",
        "outputId": "aed3a743-347d-4572-e8aa-caab415c62a2"
      },
      "execution_count": null,
      "outputs": [
        {
          "output_type": "stream",
          "name": "stdout",
          "text": [
            "(10+0j)\n"
          ]
        }
      ]
    },
    {
      "cell_type": "code",
      "source": [
        "print(complex(10,2))"
      ],
      "metadata": {
        "colab": {
          "base_uri": "https://localhost:8080/"
        },
        "id": "b1JnHQY0MfXz",
        "outputId": "c69854f9-5b00-4381-9cd4-b4544d0731dc"
      },
      "execution_count": null,
      "outputs": [
        {
          "output_type": "stream",
          "name": "stdout",
          "text": [
            "(10+2j)\n"
          ]
        }
      ]
    },
    {
      "cell_type": "code",
      "source": [
        "print(complex(0,2))"
      ],
      "metadata": {
        "colab": {
          "base_uri": "https://localhost:8080/"
        },
        "id": "LaBWNvL4Mtqv",
        "outputId": "95320fb1-be5a-415c-9a18-bd592dddcbdb"
      },
      "execution_count": null,
      "outputs": [
        {
          "output_type": "stream",
          "name": "stdout",
          "text": [
            "2j\n"
          ]
        }
      ]
    },
    {
      "cell_type": "markdown",
      "source": [
        "# list\n",
        "\n",
        "list is a set of sequence of elements\n",
        "\n",
        "list constructor list()\n",
        "\n",
        "list literal [ ]\n",
        "\n",
        "list is mutable(which we can change)\n",
        "\n",
        "list support indexing \n",
        "\n",
        "list support slicing \n",
        "\n"
      ],
      "metadata": {
        "id": "D68T7FxcM3z9"
      }
    },
    {
      "cell_type": "code",
      "source": [
        "a=list()"
      ],
      "metadata": {
        "id": "03rEAwLkOPPD"
      },
      "execution_count": null,
      "outputs": []
    },
    {
      "cell_type": "code",
      "source": [
        "print(a)"
      ],
      "metadata": {
        "colab": {
          "base_uri": "https://localhost:8080/"
        },
        "id": "YSt0aGS7O5dE",
        "outputId": "121405d9-e6ef-4b5e-dfb8-1553074025a0"
      },
      "execution_count": null,
      "outputs": [
        {
          "output_type": "stream",
          "name": "stdout",
          "text": [
            "[]\n"
          ]
        }
      ]
    },
    {
      "cell_type": "code",
      "source": [
        "print(type(a))"
      ],
      "metadata": {
        "colab": {
          "base_uri": "https://localhost:8080/"
        },
        "id": "K1setlooO6DE",
        "outputId": "b00d8aff-2d9d-4be9-b05f-43b3655b63c9"
      },
      "execution_count": null,
      "outputs": [
        {
          "output_type": "stream",
          "name": "stdout",
          "text": [
            "<class 'list'>\n"
          ]
        }
      ]
    },
    {
      "cell_type": "code",
      "source": [
        "b=[]"
      ],
      "metadata": {
        "id": "MPyu5JUSO9nU"
      },
      "execution_count": null,
      "outputs": []
    },
    {
      "cell_type": "code",
      "source": [
        "print(b)"
      ],
      "metadata": {
        "colab": {
          "base_uri": "https://localhost:8080/"
        },
        "id": "hXzngQZSPFbz",
        "outputId": "72c51b7e-4e4d-4cc6-9c3c-d51a5b40d660"
      },
      "execution_count": null,
      "outputs": [
        {
          "output_type": "stream",
          "name": "stdout",
          "text": [
            "[]\n"
          ]
        }
      ]
    },
    {
      "cell_type": "code",
      "source": [
        "print(type(b))"
      ],
      "metadata": {
        "colab": {
          "base_uri": "https://localhost:8080/"
        },
        "id": "nvSEC-b-PGek",
        "outputId": "0b9d5c21-8bf1-4222-953a-7b547c59242a"
      },
      "execution_count": null,
      "outputs": [
        {
          "output_type": "stream",
          "name": "stdout",
          "text": [
            "<class 'list'>\n"
          ]
        }
      ]
    },
    {
      "cell_type": "code",
      "source": [
        "c=[4,3,3,4,5,6,8]"
      ],
      "metadata": {
        "id": "sFI3l5orPIrT"
      },
      "execution_count": null,
      "outputs": []
    },
    {
      "cell_type": "code",
      "source": [
        "print(c)"
      ],
      "metadata": {
        "colab": {
          "base_uri": "https://localhost:8080/"
        },
        "id": "JA6Z693QPP3z",
        "outputId": "022ab90f-0c0a-4376-ec96-47ec2c4b872e"
      },
      "execution_count": null,
      "outputs": [
        {
          "output_type": "stream",
          "name": "stdout",
          "text": [
            "[4, 3, 3, 4, 5, 6, 8]\n"
          ]
        }
      ]
    },
    {
      "cell_type": "code",
      "source": [
        "print(type(c))"
      ],
      "metadata": {
        "colab": {
          "base_uri": "https://localhost:8080/"
        },
        "id": "yoxV0iDVPRAz",
        "outputId": "f36f3e40-e5da-423f-f24b-4b931733fd42"
      },
      "execution_count": null,
      "outputs": [
        {
          "output_type": "stream",
          "name": "stdout",
          "text": [
            "<class 'list'>\n"
          ]
        }
      ]
    },
    {
      "cell_type": "code",
      "source": [
        "print(c[1])"
      ],
      "metadata": {
        "colab": {
          "base_uri": "https://localhost:8080/"
        },
        "id": "v_DJFYa6PShD",
        "outputId": "b4a70777-6625-4f96-8fc3-9d72844460ef"
      },
      "execution_count": null,
      "outputs": [
        {
          "output_type": "stream",
          "name": "stdout",
          "text": [
            "3\n"
          ]
        }
      ]
    },
    {
      "cell_type": "code",
      "source": [
        "print(c[-2])"
      ],
      "metadata": {
        "colab": {
          "base_uri": "https://localhost:8080/"
        },
        "id": "KDAxtgctPwCV",
        "outputId": "ddb9791b-4ce0-474f-f42d-8ac7939b5f89"
      },
      "execution_count": null,
      "outputs": [
        {
          "output_type": "stream",
          "name": "stdout",
          "text": [
            "6\n"
          ]
        }
      ]
    },
    {
      "cell_type": "code",
      "source": [
        "print(c[5])"
      ],
      "metadata": {
        "colab": {
          "base_uri": "https://localhost:8080/"
        },
        "id": "vTQzwXX6PzaV",
        "outputId": "ce51bd14-4cdf-4de2-8ae4-ab2d2619a9bb"
      },
      "execution_count": null,
      "outputs": [
        {
          "output_type": "stream",
          "name": "stdout",
          "text": [
            "6\n"
          ]
        }
      ]
    },
    {
      "cell_type": "code",
      "source": [
        "c=[2,3,4,5,6,7]"
      ],
      "metadata": {
        "id": "GgiyOSQmQAl0"
      },
      "execution_count": null,
      "outputs": []
    },
    {
      "cell_type": "code",
      "source": [
        "print(c[1:5])"
      ],
      "metadata": {
        "colab": {
          "base_uri": "https://localhost:8080/"
        },
        "id": "Pmbp0_LaQzhE",
        "outputId": "df5c99e3-efb1-4ad7-e56e-f4d1b3ff6d0f"
      },
      "execution_count": null,
      "outputs": [
        {
          "output_type": "stream",
          "name": "stdout",
          "text": [
            "[3, 4, 5, 6]\n"
          ]
        }
      ]
    },
    {
      "cell_type": "code",
      "source": [
        "print(c[4:0:-1])"
      ],
      "metadata": {
        "colab": {
          "base_uri": "https://localhost:8080/"
        },
        "id": "5W1c5FBxQ9kl",
        "outputId": "f03f5011-1cd7-488c-e414-4f671b9af5c3"
      },
      "execution_count": null,
      "outputs": [
        {
          "output_type": "stream",
          "name": "stdout",
          "text": [
            "[6, 5, 4, 3]\n"
          ]
        }
      ]
    },
    {
      "cell_type": "code",
      "source": [
        "print(c[-2:-6:-1])"
      ],
      "metadata": {
        "colab": {
          "base_uri": "https://localhost:8080/"
        },
        "id": "vghR2fRWRfTG",
        "outputId": "07bb47fd-17d1-45d4-c7ea-a6170f1ca76a"
      },
      "execution_count": null,
      "outputs": [
        {
          "output_type": "stream",
          "name": "stdout",
          "text": [
            "[6, 5, 4, 3]\n"
          ]
        }
      ]
    },
    {
      "cell_type": "code",
      "source": [
        "d=[1,2,2.4,\"krishna\"]\n"
      ],
      "metadata": {
        "id": "M3Y93q6uR-9Q"
      },
      "execution_count": null,
      "outputs": []
    },
    {
      "cell_type": "code",
      "source": [
        "print(d)"
      ],
      "metadata": {
        "colab": {
          "base_uri": "https://localhost:8080/"
        },
        "id": "mNS0znwNSOOE",
        "outputId": "66894c22-b762-44bf-c43e-e53d2be9d928"
      },
      "execution_count": null,
      "outputs": [
        {
          "output_type": "stream",
          "name": "stdout",
          "text": [
            "[1, 2, 2.4, 'krishna']\n"
          ]
        }
      ]
    },
    {
      "cell_type": "code",
      "source": [
        "d.append(\"kumar\")"
      ],
      "metadata": {
        "id": "y9CuPb_bSOeG"
      },
      "execution_count": null,
      "outputs": []
    },
    {
      "cell_type": "code",
      "source": [
        "d"
      ],
      "metadata": {
        "colab": {
          "base_uri": "https://localhost:8080/"
        },
        "id": "euFihBzsS61U",
        "outputId": "21dbed76-11a4-4a3d-d4b8-84a899f35564"
      },
      "execution_count": null,
      "outputs": [
        {
          "output_type": "execute_result",
          "data": {
            "text/plain": [
              "[1, 2, 2.4, 'krishna', 'kumar']"
            ]
          },
          "metadata": {},
          "execution_count": 29
        }
      ]
    },
    {
      "cell_type": "code",
      "source": [
        "d.clear()"
      ],
      "metadata": {
        "id": "xMnBBndBS7w0"
      },
      "execution_count": null,
      "outputs": []
    },
    {
      "cell_type": "code",
      "source": [
        "print(d)"
      ],
      "metadata": {
        "colab": {
          "base_uri": "https://localhost:8080/"
        },
        "id": "tYEBkxP9TPS6",
        "outputId": "da63df1c-e307-4d2a-b6d8-5d04ea52fdbf"
      },
      "execution_count": null,
      "outputs": [
        {
          "output_type": "stream",
          "name": "stdout",
          "text": [
            "[]\n"
          ]
        }
      ]
    },
    {
      "cell_type": "code",
      "source": [
        "f=[2,3,1,3]"
      ],
      "metadata": {
        "id": "D6NoWFfWTP92"
      },
      "execution_count": null,
      "outputs": []
    },
    {
      "cell_type": "code",
      "source": [
        "f.insert(2,34)"
      ],
      "metadata": {
        "id": "LNGmSPw8TXek"
      },
      "execution_count": null,
      "outputs": []
    },
    {
      "cell_type": "code",
      "source": [
        "f"
      ],
      "metadata": {
        "colab": {
          "base_uri": "https://localhost:8080/"
        },
        "id": "qY3BRyWKTiJ1",
        "outputId": "838b0d98-2c5b-4878-a8fc-1a35cbb90c9b"
      },
      "execution_count": null,
      "outputs": [
        {
          "output_type": "execute_result",
          "data": {
            "text/plain": [
              "[2, 3, 34, 1, 3]"
            ]
          },
          "metadata": {},
          "execution_count": 35
        }
      ]
    },
    {
      "cell_type": "code",
      "source": [
        "f.remove(2)  # mention value which you want to remove inside ()"
      ],
      "metadata": {
        "id": "0bKDPUf5Ti_F"
      },
      "execution_count": null,
      "outputs": []
    },
    {
      "cell_type": "code",
      "source": [
        "print(f)"
      ],
      "metadata": {
        "colab": {
          "base_uri": "https://localhost:8080/"
        },
        "id": "JfPZunhVTt6V",
        "outputId": "b23a11dc-9c35-4028-ff84-3b21374e7593"
      },
      "execution_count": null,
      "outputs": [
        {
          "output_type": "stream",
          "name": "stdout",
          "text": [
            "[3, 34, 1, 3]\n"
          ]
        }
      ]
    },
    {
      "cell_type": "code",
      "source": [
        "f.remove(3,34)"
      ],
      "metadata": {
        "colab": {
          "base_uri": "https://localhost:8080/",
          "height": 165
        },
        "id": "4ayhOREOTxfV",
        "outputId": "7bbd1789-ee85-4a40-a16d-d502043aa65d"
      },
      "execution_count": null,
      "outputs": [
        {
          "output_type": "error",
          "ename": "TypeError",
          "evalue": "ignored",
          "traceback": [
            "\u001b[0;31m---------------------------------------------------------------------------\u001b[0m",
            "\u001b[0;31mTypeError\u001b[0m                                 Traceback (most recent call last)",
            "\u001b[0;32m<ipython-input-39-9653ca2691ec>\u001b[0m in \u001b[0;36m<module>\u001b[0;34m\u001b[0m\n\u001b[0;32m----> 1\u001b[0;31m \u001b[0mf\u001b[0m\u001b[0;34m.\u001b[0m\u001b[0mremove\u001b[0m\u001b[0;34m(\u001b[0m\u001b[0;36m3\u001b[0m\u001b[0;34m,\u001b[0m\u001b[0;36m34\u001b[0m\u001b[0;34m)\u001b[0m\u001b[0;34m\u001b[0m\u001b[0;34m\u001b[0m\u001b[0m\n\u001b[0m",
            "\u001b[0;31mTypeError\u001b[0m: remove() takes exactly one argument (2 given)"
          ]
        }
      ]
    },
    {
      "cell_type": "code",
      "source": [
        "f.remove(3)"
      ],
      "metadata": {
        "id": "RrqlAttaUEkm"
      },
      "execution_count": null,
      "outputs": []
    },
    {
      "cell_type": "code",
      "source": [
        "print(f)  # when we have more then 2 same elements then it remove 1st one in dictionary order"
      ],
      "metadata": {
        "colab": {
          "base_uri": "https://localhost:8080/"
        },
        "id": "HlagxPGMUPI1",
        "outputId": "616c13b7-4539-4161-8f99-6d036b4e280b"
      },
      "execution_count": null,
      "outputs": [
        {
          "output_type": "stream",
          "name": "stdout",
          "text": [
            "[34, 1, 3]\n"
          ]
        }
      ]
    },
    {
      "cell_type": "code",
      "source": [
        "f.remove(3)"
      ],
      "metadata": {
        "id": "Kp_tiHY3UP9F"
      },
      "execution_count": null,
      "outputs": []
    },
    {
      "cell_type": "code",
      "source": [
        "print(f)"
      ],
      "metadata": {
        "colab": {
          "base_uri": "https://localhost:8080/"
        },
        "id": "NKtN8KdnUaFl",
        "outputId": "1e95ac81-d318-408e-b436-0ec5090a927d"
      },
      "execution_count": null,
      "outputs": [
        {
          "output_type": "stream",
          "name": "stdout",
          "text": [
            "[34, 1]\n"
          ]
        }
      ]
    },
    {
      "cell_type": "code",
      "source": [
        "f.pop()"
      ],
      "metadata": {
        "colab": {
          "base_uri": "https://localhost:8080/"
        },
        "id": "Q4JkDIvCUaT5",
        "outputId": "07a433eb-fb65-44a0-e000-fd329ceb5694"
      },
      "execution_count": null,
      "outputs": [
        {
          "output_type": "execute_result",
          "data": {
            "text/plain": [
              "1"
            ]
          },
          "metadata": {},
          "execution_count": 46
        }
      ]
    },
    {
      "cell_type": "code",
      "source": [
        "print(f)"
      ],
      "metadata": {
        "colab": {
          "base_uri": "https://localhost:8080/"
        },
        "id": "xHDStOceUhjl",
        "outputId": "a3513dd3-42b8-4828-be05-35e154faf8c4"
      },
      "execution_count": null,
      "outputs": [
        {
          "output_type": "stream",
          "name": "stdout",
          "text": [
            "[34]\n"
          ]
        }
      ]
    },
    {
      "cell_type": "code",
      "source": [
        "f.extend([2,3,4,5])"
      ],
      "metadata": {
        "id": "IVmUu-riUinG"
      },
      "execution_count": null,
      "outputs": []
    },
    {
      "cell_type": "code",
      "source": [
        "print(f)"
      ],
      "metadata": {
        "colab": {
          "base_uri": "https://localhost:8080/"
        },
        "id": "LymjwiNdUr7G",
        "outputId": "d8496699-0613-4ed8-e2a9-b2f67e0a0a69"
      },
      "execution_count": null,
      "outputs": [
        {
          "output_type": "stream",
          "name": "stdout",
          "text": [
            "[34, 2, 3, 4, 5]\n"
          ]
        }
      ]
    },
    {
      "cell_type": "code",
      "source": [
        "f.pop(2)"
      ],
      "metadata": {
        "colab": {
          "base_uri": "https://localhost:8080/"
        },
        "id": "zRYQ59o8Us4O",
        "outputId": "8b9cb293-f416-4602-91bf-ed688de6d7cf"
      },
      "execution_count": null,
      "outputs": [
        {
          "output_type": "execute_result",
          "data": {
            "text/plain": [
              "3"
            ]
          },
          "metadata": {},
          "execution_count": 50
        }
      ]
    },
    {
      "cell_type": "code",
      "source": [
        "print(f)"
      ],
      "metadata": {
        "colab": {
          "base_uri": "https://localhost:8080/"
        },
        "id": "Aj-MbtynU2OW",
        "outputId": "ffd5d2f3-7408-4703-af24-c0be92ffc0f0"
      },
      "execution_count": null,
      "outputs": [
        {
          "output_type": "stream",
          "name": "stdout",
          "text": [
            "[34, 2, 4, 5]\n"
          ]
        }
      ]
    },
    {
      "cell_type": "code",
      "source": [
        "print(f.pop(1000))"
      ],
      "metadata": {
        "colab": {
          "base_uri": "https://localhost:8080/",
          "height": 165
        },
        "id": "L84JSezKU3Xm",
        "outputId": "e7354dbf-1284-4dd4-dc2a-e9e1bc6996c7"
      },
      "execution_count": null,
      "outputs": [
        {
          "output_type": "error",
          "ename": "IndexError",
          "evalue": "ignored",
          "traceback": [
            "\u001b[0;31m---------------------------------------------------------------------------\u001b[0m",
            "\u001b[0;31mIndexError\u001b[0m                                Traceback (most recent call last)",
            "\u001b[0;32m<ipython-input-53-dc737afa8cc2>\u001b[0m in \u001b[0;36m<module>\u001b[0;34m\u001b[0m\n\u001b[0;32m----> 1\u001b[0;31m \u001b[0mprint\u001b[0m\u001b[0;34m(\u001b[0m\u001b[0mf\u001b[0m\u001b[0;34m.\u001b[0m\u001b[0mpop\u001b[0m\u001b[0;34m(\u001b[0m\u001b[0;36m1000\u001b[0m\u001b[0;34m)\u001b[0m\u001b[0;34m)\u001b[0m\u001b[0;34m\u001b[0m\u001b[0;34m\u001b[0m\u001b[0m\n\u001b[0m",
            "\u001b[0;31mIndexError\u001b[0m: pop index out of range"
          ]
        }
      ]
    },
    {
      "cell_type": "code",
      "source": [
        "min(f)"
      ],
      "metadata": {
        "colab": {
          "base_uri": "https://localhost:8080/"
        },
        "id": "Z36kEckqVCjl",
        "outputId": "f49f0926-e2ea-4485-fbf8-c7543d0bb3fc"
      },
      "execution_count": null,
      "outputs": [
        {
          "output_type": "execute_result",
          "data": {
            "text/plain": [
              "2"
            ]
          },
          "metadata": {},
          "execution_count": 54
        }
      ]
    },
    {
      "cell_type": "code",
      "source": [
        "print(f)"
      ],
      "metadata": {
        "colab": {
          "base_uri": "https://localhost:8080/"
        },
        "id": "cit_1fPMVU2W",
        "outputId": "0f1d50be-cf64-4aee-cec7-b19d2ffd4b22"
      },
      "execution_count": null,
      "outputs": [
        {
          "output_type": "stream",
          "name": "stdout",
          "text": [
            "[34, 2, 4, 5]\n"
          ]
        }
      ]
    },
    {
      "cell_type": "code",
      "source": [
        "print(max(f))"
      ],
      "metadata": {
        "colab": {
          "base_uri": "https://localhost:8080/"
        },
        "id": "3NlVrrqLVYNF",
        "outputId": "4f4cd696-55fb-4747-ada5-36ada69b78b2"
      },
      "execution_count": null,
      "outputs": [
        {
          "output_type": "stream",
          "name": "stdout",
          "text": [
            "34\n"
          ]
        }
      ]
    },
    {
      "cell_type": "markdown",
      "source": [
        "# deep copy shallow copy"
      ],
      "metadata": {
        "id": "_8I3zj-cVcC1"
      }
    },
    {
      "cell_type": "code",
      "source": [
        "a=[1,2,3,4] # original copy "
      ],
      "metadata": {
        "id": "68I-k1uvVfOl"
      },
      "execution_count": null,
      "outputs": []
    },
    {
      "cell_type": "code",
      "source": [
        "b=a "
      ],
      "metadata": {
        "id": "UOuu9xwtVuTm"
      },
      "execution_count": null,
      "outputs": []
    },
    {
      "cell_type": "code",
      "source": [
        "print(b)"
      ],
      "metadata": {
        "colab": {
          "base_uri": "https://localhost:8080/"
        },
        "id": "pJMMT7q9VyYH",
        "outputId": "8a6b7a2c-1ee4-4d6f-829f-9047ed3b21a4"
      },
      "execution_count": null,
      "outputs": [
        {
          "output_type": "stream",
          "name": "stdout",
          "text": [
            "[1, 2, 3, 4]\n"
          ]
        }
      ]
    },
    {
      "cell_type": "code",
      "source": [
        "b.append(100)"
      ],
      "metadata": {
        "id": "T8jgmAueVzNH"
      },
      "execution_count": null,
      "outputs": []
    },
    {
      "cell_type": "code",
      "source": [
        "print(b)"
      ],
      "metadata": {
        "colab": {
          "base_uri": "https://localhost:8080/"
        },
        "id": "VxdZ0eA0V3FF",
        "outputId": "e25dd5fa-222c-4aed-d11d-c7ae90737731"
      },
      "execution_count": null,
      "outputs": [
        {
          "output_type": "stream",
          "name": "stdout",
          "text": [
            "[1, 2, 3, 4, 100]\n"
          ]
        }
      ]
    },
    {
      "cell_type": "code",
      "source": [
        "print(a)"
      ],
      "metadata": {
        "colab": {
          "base_uri": "https://localhost:8080/"
        },
        "id": "P31UHO-ZV4Bi",
        "outputId": "60f96080-3b80-494b-e735-5a54bd240665"
      },
      "execution_count": null,
      "outputs": [
        {
          "output_type": "stream",
          "name": "stdout",
          "text": [
            "[1, 2, 3, 4, 100]\n"
          ]
        }
      ]
    },
    {
      "cell_type": "code",
      "source": [
        "a=[1,2,3,4]"
      ],
      "metadata": {
        "id": "4pOGZxEPWG6r"
      },
      "execution_count": null,
      "outputs": []
    },
    {
      "cell_type": "code",
      "source": [
        "b=a.copy()"
      ],
      "metadata": {
        "id": "PHjHX8FOWoeo"
      },
      "execution_count": null,
      "outputs": []
    },
    {
      "cell_type": "code",
      "source": [
        "print(b)"
      ],
      "metadata": {
        "colab": {
          "base_uri": "https://localhost:8080/"
        },
        "id": "AdmWDMfNWrHx",
        "outputId": "c2e13ede-73e1-4be2-b422-1afb58f50a70"
      },
      "execution_count": null,
      "outputs": [
        {
          "output_type": "stream",
          "name": "stdout",
          "text": [
            "[1, 2, 3, 4]\n"
          ]
        }
      ]
    },
    {
      "cell_type": "code",
      "source": [
        "b.append(10000)\n"
      ],
      "metadata": {
        "id": "qACZEoZBWsQo"
      },
      "execution_count": null,
      "outputs": []
    },
    {
      "cell_type": "code",
      "source": [
        "print(b)"
      ],
      "metadata": {
        "colab": {
          "base_uri": "https://localhost:8080/"
        },
        "id": "6ljQyWnoWvpI",
        "outputId": "ebfc48f5-c5e7-47bc-8c51-100a1b97b74b"
      },
      "execution_count": null,
      "outputs": [
        {
          "output_type": "stream",
          "name": "stdout",
          "text": [
            "[1, 2, 3, 4, 10000]\n"
          ]
        }
      ]
    },
    {
      "cell_type": "code",
      "source": [
        "print(a)"
      ],
      "metadata": {
        "colab": {
          "base_uri": "https://localhost:8080/"
        },
        "id": "RXPYecBrWx2f",
        "outputId": "13457335-75de-40c9-cecb-f783a733f683"
      },
      "execution_count": null,
      "outputs": [
        {
          "output_type": "stream",
          "name": "stdout",
          "text": [
            "[1, 2, 3, 4]\n"
          ]
        }
      ]
    },
    {
      "cell_type": "code",
      "source": [
        "a.index(2)  # index() of any element inside a list"
      ],
      "metadata": {
        "colab": {
          "base_uri": "https://localhost:8080/"
        },
        "id": "-qA4w53VW1O3",
        "outputId": "0d56283f-1bc5-40e5-8a98-ee26924e9ab5"
      },
      "execution_count": null,
      "outputs": [
        {
          "output_type": "execute_result",
          "data": {
            "text/plain": [
              "1"
            ]
          },
          "metadata": {},
          "execution_count": 73
        }
      ]
    },
    {
      "cell_type": "code",
      "source": [
        "a.reverse()"
      ],
      "metadata": {
        "id": "1cW7Pfn0XGTS"
      },
      "execution_count": null,
      "outputs": []
    },
    {
      "cell_type": "code",
      "source": [
        "print(a)"
      ],
      "metadata": {
        "colab": {
          "base_uri": "https://localhost:8080/"
        },
        "id": "kswUg6p2XTXr",
        "outputId": "e64b294d-c423-453c-d930-136b57bea9c9"
      },
      "execution_count": null,
      "outputs": [
        {
          "output_type": "stream",
          "name": "stdout",
          "text": [
            "[4, 3, 2, 1]\n"
          ]
        }
      ]
    },
    {
      "cell_type": "code",
      "source": [
        "len(a)"
      ],
      "metadata": {
        "colab": {
          "base_uri": "https://localhost:8080/"
        },
        "id": "uPJ7XgTQXVAc",
        "outputId": "f509c8f4-97e3-4944-f5a5-6f34890827e5"
      },
      "execution_count": null,
      "outputs": [
        {
          "output_type": "execute_result",
          "data": {
            "text/plain": [
              "4"
            ]
          },
          "metadata": {},
          "execution_count": 76
        }
      ]
    },
    {
      "cell_type": "markdown",
      "source": [
        "# nested list  ---> when list contain a list called nested list"
      ],
      "metadata": {
        "id": "fpDb54O6X5co"
      }
    },
    {
      "cell_type": "code",
      "source": [
        "a=[1,2,3,4,[2,4,5,6],34,5,6]"
      ],
      "metadata": {
        "id": "2WAigovJYF0b"
      },
      "execution_count": null,
      "outputs": []
    },
    {
      "cell_type": "code",
      "source": [
        "print(a)"
      ],
      "metadata": {
        "colab": {
          "base_uri": "https://localhost:8080/"
        },
        "id": "ROMlvx8RYK32",
        "outputId": "9a7b1629-1292-42d3-9195-2e1846cfd644"
      },
      "execution_count": null,
      "outputs": [
        {
          "output_type": "stream",
          "name": "stdout",
          "text": [
            "[1, 2, 3, 4, [2, 4, 5, 6], 34, 5, 6]\n"
          ]
        }
      ]
    },
    {
      "cell_type": "code",
      "source": [
        "print(a[1])"
      ],
      "metadata": {
        "colab": {
          "base_uri": "https://localhost:8080/"
        },
        "id": "SUNLAPyJYLGH",
        "outputId": "f621829f-3bbf-4e4b-a281-9ec42dab9527"
      },
      "execution_count": null,
      "outputs": [
        {
          "output_type": "stream",
          "name": "stdout",
          "text": [
            "2\n"
          ]
        }
      ]
    },
    {
      "cell_type": "code",
      "source": [
        "print(a[4])\n",
        "b=a[4]\n",
        "print(b[2])"
      ],
      "metadata": {
        "colab": {
          "base_uri": "https://localhost:8080/"
        },
        "id": "UIwbnEe3YWK2",
        "outputId": "8697a38d-0462-415b-ae39-3ff416e31160"
      },
      "execution_count": null,
      "outputs": [
        {
          "output_type": "stream",
          "name": "stdout",
          "text": [
            "[2, 4, 5, 6]\n",
            "5\n"
          ]
        }
      ]
    },
    {
      "cell_type": "code",
      "source": [
        "print(a[4])\n",
        "b=a[4]\n",
        "print(a[4][2])"
      ],
      "metadata": {
        "colab": {
          "base_uri": "https://localhost:8080/"
        },
        "id": "6HLnPyRPYkYY",
        "outputId": "6fa37330-336a-4182-dd17-f26bf1b9282e"
      },
      "execution_count": null,
      "outputs": [
        {
          "output_type": "stream",
          "name": "stdout",
          "text": [
            "[2, 4, 5, 6]\n",
            "5\n"
          ]
        }
      ]
    },
    {
      "cell_type": "code",
      "source": [
        "a"
      ],
      "metadata": {
        "colab": {
          "base_uri": "https://localhost:8080/"
        },
        "id": "cCwfFsaRY2wZ",
        "outputId": "6266a244-f02b-4a50-dc1e-aa894d36eed4"
      },
      "execution_count": null,
      "outputs": [
        {
          "output_type": "execute_result",
          "data": {
            "text/plain": [
              "[1, 2, 3, 4, [2, 4, 5, 6], 34, 5, 6]"
            ]
          },
          "metadata": {},
          "execution_count": 85
        }
      ]
    },
    {
      "cell_type": "code",
      "source": [
        "b=[1,2,3,4]"
      ],
      "metadata": {
        "id": "DDUuj81aY8FI"
      },
      "execution_count": null,
      "outputs": []
    },
    {
      "cell_type": "code",
      "source": [
        "print(a+b)   # concate"
      ],
      "metadata": {
        "colab": {
          "base_uri": "https://localhost:8080/"
        },
        "id": "Y2GtgDLcY9q3",
        "outputId": "83b20a40-4b55-4556-f700-483cf174d23c"
      },
      "execution_count": null,
      "outputs": [
        {
          "output_type": "stream",
          "name": "stdout",
          "text": [
            "[1, 2, 3, 4, [2, 4, 5, 6], 34, 5, 6, 1, 2, 3, 4]\n"
          ]
        }
      ]
    },
    {
      "cell_type": "markdown",
      "source": [
        "# tuple\n",
        "\n",
        "1> tuple constructor is tuple()\n",
        "\n",
        "2> tuple literal is ( )\n",
        "\n",
        "3> tuple is set of sequence of elements\n",
        "\n",
        "4> tuple support indexing and slicing \n",
        "\n",
        "5> tuple is immutable(we cannot change or add the elements in existing tuple)\n",
        "\n",
        "6> if tuple is immutable then  how we will change the values and update the values?\n",
        "\n",
        "7> tuple is faster then list(we will talk about it in set data type)\n",
        "\n",
        "8> Use cases of tuple for interview"
      ],
      "metadata": {
        "id": "PZw1LdSpY-gY"
      }
    },
    {
      "cell_type": "markdown",
      "source": [
        "# 1> tuple constructor is tuple()\n",
        "\n",
        "Answer: using tuple() we can create empty tuple(a tuple which doesnot contain any element(s))."
      ],
      "metadata": {
        "id": "xBmGAvirTQ6j"
      }
    },
    {
      "cell_type": "code",
      "source": [
        "a=tuple()        # empty tuple using constructor  tuple()\n",
        "print(a)"
      ],
      "metadata": {
        "colab": {
          "base_uri": "https://localhost:8080/"
        },
        "id": "5vUpEgbUU-72",
        "outputId": "6a007e72-7317-43c4-91cc-25c839b93773"
      },
      "execution_count": null,
      "outputs": [
        {
          "output_type": "stream",
          "name": "stdout",
          "text": [
            "()\n"
          ]
        }
      ]
    },
    {
      "cell_type": "code",
      "source": [
        "print(type(a))     # checking the type of tuple"
      ],
      "metadata": {
        "colab": {
          "base_uri": "https://localhost:8080/"
        },
        "id": "1BwW8K_qVaU2",
        "outputId": "54a64d89-c96d-4513-b3da-c7080afb8627"
      },
      "execution_count": null,
      "outputs": [
        {
          "output_type": "stream",
          "name": "stdout",
          "text": [
            "<class 'tuple'>\n"
          ]
        }
      ]
    },
    {
      "cell_type": "code",
      "source": [
        "print(id(a))       # id of tuple "
      ],
      "metadata": {
        "colab": {
          "base_uri": "https://localhost:8080/"
        },
        "id": "GfC7YeYdVd_j",
        "outputId": "de113dac-2990-416e-ae68-800b518edc27"
      },
      "execution_count": null,
      "outputs": [
        {
          "output_type": "stream",
          "name": "stdout",
          "text": [
            "140442843852880\n"
          ]
        }
      ]
    },
    {
      "cell_type": "markdown",
      "source": [
        "# 2> tuple literal is ( )\n",
        "\n",
        "Answer: tuple literal is use to create a tuple also. it is also help to create empty tuple"
      ],
      "metadata": {
        "id": "1C7T_9hWVhzD"
      }
    },
    {
      "cell_type": "code",
      "source": [
        "b=()            # using tuple literal creating a empty tuple\n",
        "print(b)"
      ],
      "metadata": {
        "colab": {
          "base_uri": "https://localhost:8080/"
        },
        "id": "tyDsmv88V5Ok",
        "outputId": "bc1e6876-8744-4451-d26c-476753509d4f"
      },
      "execution_count": null,
      "outputs": [
        {
          "output_type": "stream",
          "name": "stdout",
          "text": [
            "()\n"
          ]
        }
      ]
    },
    {
      "cell_type": "code",
      "source": [
        "print(type(b))   # checking the type of tuple"
      ],
      "metadata": {
        "colab": {
          "base_uri": "https://localhost:8080/"
        },
        "id": "Y6GtYqj6WJSU",
        "outputId": "75a72370-ebd4-4615-a1c1-b5e8221271ea"
      },
      "execution_count": null,
      "outputs": [
        {
          "output_type": "stream",
          "name": "stdout",
          "text": [
            "<class 'tuple'>\n"
          ]
        }
      ]
    },
    {
      "cell_type": "code",
      "source": [
        "print(id(b))    # checking id or address of tuple"
      ],
      "metadata": {
        "colab": {
          "base_uri": "https://localhost:8080/"
        },
        "id": "ixjEVIsNWLnj",
        "outputId": "aa4e3390-f765-40e2-e84b-2b8fb052da01"
      },
      "execution_count": null,
      "outputs": [
        {
          "output_type": "stream",
          "name": "stdout",
          "text": [
            "140442843852880\n"
          ]
        }
      ]
    },
    {
      "cell_type": "markdown",
      "source": [
        "# 3> tuple is set of sequence of elements\n",
        "\n",
        "Answer: set of sequence of element(s) means it follow a sequence."
      ],
      "metadata": {
        "id": "Fnj6fYtnWPMV"
      }
    },
    {
      "cell_type": "code",
      "source": [
        "c=(1,2,3,\"krishna\",2.5,[1,2,3,4],2+3j)  # tuple contain every datatype\n",
        "print(c)  "
      ],
      "metadata": {
        "colab": {
          "base_uri": "https://localhost:8080/"
        },
        "id": "E5SeWl_wWh8U",
        "outputId": "c6ae3cca-1cd0-4ec9-ce3a-6c8a5f6d79d0"
      },
      "execution_count": null,
      "outputs": [
        {
          "output_type": "stream",
          "name": "stdout",
          "text": [
            "(1, 2, 3, 'krishna', 2.5, [1, 2, 3, 4], (2+3j))\n"
          ]
        }
      ]
    },
    {
      "cell_type": "code",
      "source": [
        "len(c)       # calculating the length of tuple using len() which is a builtins function"
      ],
      "metadata": {
        "colab": {
          "base_uri": "https://localhost:8080/"
        },
        "id": "e-bjtcpTW3vT",
        "outputId": "168cc7c3-844b-406e-aa26-6c33137f3115"
      },
      "execution_count": null,
      "outputs": [
        {
          "output_type": "execute_result",
          "data": {
            "text/plain": [
              "7"
            ]
          },
          "metadata": {},
          "execution_count": 21
        }
      ]
    },
    {
      "cell_type": "markdown",
      "source": [
        "# 4> tuple support indexing and slicing\n",
        "\n",
        "Answer: interpreter assign index value to each and every element(s) seperated by comma\n",
        "\n",
        "assuming a variable:\n",
        "\n",
        "c: (1, 2, 3, 'krishna', 2.5, [1, 2, 3, 4], (2+3j))"
      ],
      "metadata": {
        "id": "xBORyvrwXLaq"
      }
    },
    {
      "cell_type": "code",
      "source": [
        "print(c[0])  #tuple support positive indexing\n"
      ],
      "metadata": {
        "colab": {
          "base_uri": "https://localhost:8080/"
        },
        "id": "qEheMWkhXPHV",
        "outputId": "3682a084-856c-491e-8074-cf992ba5d8f6"
      },
      "execution_count": null,
      "outputs": [
        {
          "output_type": "stream",
          "name": "stdout",
          "text": [
            "1\n"
          ]
        }
      ]
    },
    {
      "cell_type": "code",
      "source": [
        "print(c[-2])   # tuple support negative indexing"
      ],
      "metadata": {
        "colab": {
          "base_uri": "https://localhost:8080/"
        },
        "id": "LKaF2yaNYGU0",
        "outputId": "9d8a98e2-f5f1-41b7-b44c-c9dda1e644a3"
      },
      "execution_count": null,
      "outputs": [
        {
          "output_type": "stream",
          "name": "stdout",
          "text": [
            "[1, 2, 3, 4]\n"
          ]
        }
      ]
    },
    {
      "cell_type": "code",
      "source": [
        "print(c[3:6:1])   # tuple support slicing with positive stepping(bydefault +1 step is there)"
      ],
      "metadata": {
        "colab": {
          "base_uri": "https://localhost:8080/"
        },
        "id": "cZLer_prYNR0",
        "outputId": "edd87ca3-0fd5-4cd2-c51e-8bb39a218561"
      },
      "execution_count": null,
      "outputs": [
        {
          "output_type": "stream",
          "name": "stdout",
          "text": [
            "('krishna', 2.5, [1, 2, 3, 4])\n"
          ]
        }
      ]
    },
    {
      "cell_type": "code",
      "source": [
        "print(c[-2:-5:-1])  # tuple support slicing with negative stepping "
      ],
      "metadata": {
        "colab": {
          "base_uri": "https://localhost:8080/"
        },
        "id": "ir7rj7mRZcD1",
        "outputId": "92b7b89f-88f7-4caa-b783-1065f57268af"
      },
      "execution_count": null,
      "outputs": [
        {
          "output_type": "stream",
          "name": "stdout",
          "text": [
            "([1, 2, 3, 4], 2.5, 'krishna')\n"
          ]
        }
      ]
    },
    {
      "cell_type": "markdown",
      "source": [
        "# 5> tuple is immutable(we cannot change of add the elements in existing tuple)"
      ],
      "metadata": {
        "id": "FAU6HFUsZ3p0"
      }
    },
    {
      "cell_type": "code",
      "source": [
        "f=(1,2,3,4)"
      ],
      "metadata": {
        "id": "6ExSj0UIaZ92"
      },
      "execution_count": null,
      "outputs": []
    },
    {
      "cell_type": "code",
      "source": [
        "f.index(2)"
      ],
      "metadata": {
        "colab": {
          "base_uri": "https://localhost:8080/"
        },
        "id": "LIwAaAqjaeyY",
        "outputId": "5c55383d-c7d9-4816-8098-3eb57b11ff99"
      },
      "execution_count": null,
      "outputs": [
        {
          "output_type": "execute_result",
          "data": {
            "text/plain": [
              "1"
            ]
          },
          "metadata": {},
          "execution_count": 44
        }
      ]
    },
    {
      "cell_type": "code",
      "source": [
        "v=(\"Rahul\",\"Kumar\",\"Ram\")"
      ],
      "metadata": {
        "id": "lEnnZLtbakUE"
      },
      "execution_count": null,
      "outputs": []
    },
    {
      "cell_type": "code",
      "source": [
        "v.index((\"Kumar\"))   # index tell us the index value of a element"
      ],
      "metadata": {
        "colab": {
          "base_uri": "https://localhost:8080/"
        },
        "id": "1Z3l9oByatDE",
        "outputId": "bacf4bc5-1f0a-40cf-fea4-9125eb55c7c6"
      },
      "execution_count": null,
      "outputs": [
        {
          "output_type": "execute_result",
          "data": {
            "text/plain": [
              "1"
            ]
          },
          "metadata": {},
          "execution_count": 50
        }
      ]
    },
    {
      "cell_type": "code",
      "source": [
        "v.count((\"Kumar\"))  # count tell us the occurence of any element"
      ],
      "metadata": {
        "colab": {
          "base_uri": "https://localhost:8080/"
        },
        "id": "5_FGXom4awG1",
        "outputId": "d2eb1fad-3271-43cd-d83a-0687ccd94c21"
      },
      "execution_count": null,
      "outputs": [
        {
          "output_type": "execute_result",
          "data": {
            "text/plain": [
              "1"
            ]
          },
          "metadata": {},
          "execution_count": 51
        }
      ]
    },
    {
      "cell_type": "code",
      "source": [
        "w=(1,2,3,4,5,6,7,8,3,3,2,3,4,3,4,5,6)"
      ],
      "metadata": {
        "id": "4DTqnRydbYZ1"
      },
      "execution_count": null,
      "outputs": []
    },
    {
      "cell_type": "code",
      "source": [
        "w.count(2)"
      ],
      "metadata": {
        "colab": {
          "base_uri": "https://localhost:8080/"
        },
        "id": "pP6DCQ6hdaJf",
        "outputId": "5bf8f738-c2c2-402e-b150-41c4c42f9c05"
      },
      "execution_count": null,
      "outputs": [
        {
          "output_type": "execute_result",
          "data": {
            "text/plain": [
              "2"
            ]
          },
          "metadata": {},
          "execution_count": 48
        }
      ]
    },
    {
      "cell_type": "code",
      "source": [
        "w.count(3)"
      ],
      "metadata": {
        "colab": {
          "base_uri": "https://localhost:8080/"
        },
        "id": "jrCpclhYdcrY",
        "outputId": "2d99941d-11fb-4771-b24e-fa2ed1d6663a"
      },
      "execution_count": null,
      "outputs": [
        {
          "output_type": "execute_result",
          "data": {
            "text/plain": [
              "5"
            ]
          },
          "metadata": {},
          "execution_count": 49
        }
      ]
    },
    {
      "cell_type": "markdown",
      "source": [
        "# 6> if tuple is immutable then how we will change the values and update the values?\n",
        "\n",
        "Answer: create a tuple ---> using list() change tuple to list  ---> using list methods append the values  ---> using tuple() convert it into tuple"
      ],
      "metadata": {
        "id": "Zl9Xb1vEdkA9"
      }
    },
    {
      "cell_type": "code",
      "source": [
        "a=(\"krishna\",\"rahul\",\"sumit\")   # this is a tuple"
      ],
      "metadata": {
        "id": "5DJb2Se-ea7f"
      },
      "execution_count": null,
      "outputs": []
    },
    {
      "cell_type": "code",
      "source": [
        "b=list(a)\n",
        "print(b)\n",
        "print(type(b))"
      ],
      "metadata": {
        "colab": {
          "base_uri": "https://localhost:8080/"
        },
        "id": "t9BqRb3sespl",
        "outputId": "88119cc1-cf08-40b2-c9bb-c8f031b9a017"
      },
      "execution_count": null,
      "outputs": [
        {
          "output_type": "stream",
          "name": "stdout",
          "text": [
            "['krishna', 'rahul', 'sumit', 'Pintu']\n",
            "<class 'list'>\n"
          ]
        }
      ]
    },
    {
      "cell_type": "code",
      "source": [
        "b.append(\"Pintu\")"
      ],
      "metadata": {
        "id": "WN5KpB0kfUmF"
      },
      "execution_count": null,
      "outputs": []
    },
    {
      "cell_type": "code",
      "source": [
        "print(b)"
      ],
      "metadata": {
        "colab": {
          "base_uri": "https://localhost:8080/"
        },
        "id": "Bt9aO2dnfsK2",
        "outputId": "93907c44-0d10-415b-b6e9-cd6b3c7c111c"
      },
      "execution_count": null,
      "outputs": [
        {
          "output_type": "stream",
          "name": "stdout",
          "text": [
            "['krishna', 'rahul', 'sumit', 'Pintu', 'Pintu']\n"
          ]
        }
      ]
    },
    {
      "cell_type": "code",
      "source": [
        "a=tuple(b)"
      ],
      "metadata": {
        "id": "ofuiaKDnftYX"
      },
      "execution_count": null,
      "outputs": []
    },
    {
      "cell_type": "code",
      "source": [
        "print(a)\n",
        "print(type(a))"
      ],
      "metadata": {
        "colab": {
          "base_uri": "https://localhost:8080/"
        },
        "id": "EEDbw9-4f04X",
        "outputId": "f5a0e804-08a1-44af-e47c-535776f6801f"
      },
      "execution_count": null,
      "outputs": [
        {
          "output_type": "stream",
          "name": "stdout",
          "text": [
            "('krishna', 'rahul', 'sumit', 'Pintu', 'Pintu')\n",
            "<class 'tuple'>\n"
          ]
        }
      ]
    },
    {
      "cell_type": "markdown",
      "source": [
        "# 7> tuple is faster then list(we will talk about it in set data type)\n",
        "\n"
      ],
      "metadata": {
        "id": "wBLN2KEyf4FX"
      }
    },
    {
      "cell_type": "code",
      "source": [],
      "metadata": {
        "id": "BvskhZspgkw4"
      },
      "execution_count": null,
      "outputs": []
    },
    {
      "cell_type": "markdown",
      "source": [
        "# 8> Use cases of tuple for interview"
      ],
      "metadata": {
        "id": "eL8IZfJVglWx"
      }
    },
    {
      "cell_type": "code",
      "source": [
        "a=(1)\n",
        "print(type(((1),)))     #((1),)-->((1,),)"
      ],
      "metadata": {
        "colab": {
          "base_uri": "https://localhost:8080/"
        },
        "id": "wPH2XaqDgnxm",
        "outputId": "a16a769b-3df3-4d3e-8c6e-f645a571d667"
      },
      "execution_count": null,
      "outputs": [
        {
          "output_type": "stream",
          "name": "stdout",
          "text": [
            "<class 'tuple'>\n"
          ]
        }
      ]
    },
    {
      "cell_type": "code",
      "source": [
        "b=(1,)\n",
        "print(type((b)))"
      ],
      "metadata": {
        "colab": {
          "base_uri": "https://localhost:8080/"
        },
        "id": "NsVmxpVfgvRH",
        "outputId": "f3a5a099-ade4-4778-af28-a5e3cef7b25c"
      },
      "execution_count": null,
      "outputs": [
        {
          "output_type": "stream",
          "name": "stdout",
          "text": [
            "<class 'tuple'>\n"
          ]
        }
      ]
    },
    {
      "cell_type": "code",
      "source": [
        "c=((1,),)\n",
        "print(c)"
      ],
      "metadata": {
        "colab": {
          "base_uri": "https://localhost:8080/"
        },
        "id": "oYCglc8Cg0EH",
        "outputId": "d5331faa-56f9-477d-fbdc-4c663353a9f7"
      },
      "execution_count": null,
      "outputs": [
        {
          "output_type": "stream",
          "name": "stdout",
          "text": [
            "((1,),)\n"
          ]
        }
      ]
    },
    {
      "cell_type": "code",
      "source": [
        "d=(,)\n",
        "print(type(b))"
      ],
      "metadata": {
        "colab": {
          "base_uri": "https://localhost:8080/",
          "height": 130
        },
        "id": "Uxpyu5wqhc5Z",
        "outputId": "b5089af1-8bb8-4873-8244-ee937754cd48"
      },
      "execution_count": null,
      "outputs": [
        {
          "output_type": "error",
          "ename": "SyntaxError",
          "evalue": "ignored",
          "traceback": [
            "\u001b[0;36m  File \u001b[0;32m\"<ipython-input-78-db378ddd362a>\"\u001b[0;36m, line \u001b[0;32m1\u001b[0m\n\u001b[0;31m    d=(,)\u001b[0m\n\u001b[0m       ^\u001b[0m\n\u001b[0;31mSyntaxError\u001b[0m\u001b[0;31m:\u001b[0m invalid syntax\n"
          ]
        }
      ]
    },
    {
      "cell_type": "code",
      "source": [
        "e=((1,2,3,4,5))\n",
        "print(e)"
      ],
      "metadata": {
        "colab": {
          "base_uri": "https://localhost:8080/"
        },
        "id": "qh42jQxKhzpI",
        "outputId": "ba504056-dc4f-4911-eb0a-9bd0f6052b16"
      },
      "execution_count": null,
      "outputs": [
        {
          "output_type": "stream",
          "name": "stdout",
          "text": [
            "(1, 2, 3, 4, 5)\n"
          ]
        }
      ]
    },
    {
      "cell_type": "code",
      "source": [
        "e=((1,2,3,4,5),)\n",
        "print(e)"
      ],
      "metadata": {
        "colab": {
          "base_uri": "https://localhost:8080/"
        },
        "id": "unHhVKxmiHBn",
        "outputId": "baed5c9d-8a78-4759-977e-7d8d717878fd"
      },
      "execution_count": null,
      "outputs": [
        {
          "output_type": "stream",
          "name": "stdout",
          "text": [
            "((1, 2, 3, 4, 5),)\n"
          ]
        }
      ]
    },
    {
      "cell_type": "markdown",
      "source": [
        "# set\n",
        "\n",
        "1> set constructor is set()\n",
        "\n",
        "2> set is unordered set of sequence\n",
        "\n",
        "3> set is mutable(we can change,add,delet etc of elements of set)\n",
        "\n",
        "4> set work on hashing\n",
        "\n",
        "5> set does not allowed duplicay\n",
        "\n",
        "6> Use case(Interview question)\n"
      ],
      "metadata": {
        "id": "zRmxufk8iKyX"
      }
    },
    {
      "cell_type": "markdown",
      "source": [
        "# 1> set constructor is set()"
      ],
      "metadata": {
        "id": "CkGZE79l644O"
      }
    },
    {
      "cell_type": "code",
      "source": [
        "a=set()       # this is a empty set\n",
        "print(a)\n"
      ],
      "metadata": {
        "colab": {
          "base_uri": "https://localhost:8080/"
        },
        "id": "2nHL8FOE7i_z",
        "outputId": "e06450ca-70f1-4fc9-d12c-38e31f3bfe73"
      },
      "execution_count": null,
      "outputs": [
        {
          "output_type": "stream",
          "name": "stdout",
          "text": [
            "set()\n"
          ]
        }
      ]
    },
    {
      "cell_type": "code",
      "source": [
        "print(type(a))"
      ],
      "metadata": {
        "colab": {
          "base_uri": "https://localhost:8080/"
        },
        "id": "RFnAnhEB7r4M",
        "outputId": "af606202-3a83-4474-81de-dec46ae52c55"
      },
      "execution_count": null,
      "outputs": [
        {
          "output_type": "stream",
          "name": "stdout",
          "text": [
            "<class 'set'>\n"
          ]
        }
      ]
    },
    {
      "cell_type": "markdown",
      "source": [
        "# 2> set is unordered set of sequence"
      ],
      "metadata": {
        "id": "JubaWXxH7z6b"
      }
    },
    {
      "cell_type": "code",
      "source": [
        "a={1,5,2,2,3,4,4,4,4,3,4}    #set does not follow indexing and slicing beacuse it is unordered\n",
        "print(a)"
      ],
      "metadata": {
        "colab": {
          "base_uri": "https://localhost:8080/"
        },
        "id": "KIQnORzr7_kn",
        "outputId": "78ae720e-e873-4191-c558-91be7a281a8f"
      },
      "execution_count": null,
      "outputs": [
        {
          "output_type": "stream",
          "name": "stdout",
          "text": [
            "{1, 2, 3, 4, 5}\n"
          ]
        }
      ]
    },
    {
      "cell_type": "code",
      "source": [
        "print(type(a))"
      ],
      "metadata": {
        "colab": {
          "base_uri": "https://localhost:8080/"
        },
        "id": "zsE75wuV8Jj8",
        "outputId": "70ae4d3e-2151-4457-b3d2-845d3ca3a226"
      },
      "execution_count": null,
      "outputs": [
        {
          "output_type": "stream",
          "name": "stdout",
          "text": [
            "<class 'set'>\n"
          ]
        }
      ]
    },
    {
      "cell_type": "code",
      "source": [
        "len(a)"
      ],
      "metadata": {
        "colab": {
          "base_uri": "https://localhost:8080/"
        },
        "id": "0dHM2kPK8Ysb",
        "outputId": "29e48368-facb-4250-fd98-e8f4a6b8737c"
      },
      "execution_count": null,
      "outputs": [
        {
          "output_type": "execute_result",
          "data": {
            "text/plain": [
              "5"
            ]
          },
          "metadata": {},
          "execution_count": 7
        }
      ]
    },
    {
      "cell_type": "code",
      "source": [
        "a={1,2,3}\n",
        "b={3,4,5,6}\n",
        "\n",
        "a.intersection(b)   # intersection() method help us to get common part in two set"
      ],
      "metadata": {
        "colab": {
          "base_uri": "https://localhost:8080/"
        },
        "id": "B03Cia0X8bFL",
        "outputId": "c257a427-46dd-4739-c695-6eb51a670564"
      },
      "execution_count": null,
      "outputs": [
        {
          "output_type": "execute_result",
          "data": {
            "text/plain": [
              "{3}"
            ]
          },
          "metadata": {},
          "execution_count": 10
        }
      ]
    },
    {
      "cell_type": "code",
      "source": [
        "a={1,2,3}\n",
        "b={3,4,5,6}\n",
        "c={2,3,4,5}\n",
        "a.intersection(b,c,{2,3,4,5})   # intersection() method help us to get common part in two or more set"
      ],
      "metadata": {
        "colab": {
          "base_uri": "https://localhost:8080/"
        },
        "id": "Ps8bkHUO-IWt",
        "outputId": "781dd724-7383-42c1-8295-fa7f758c0573"
      },
      "execution_count": null,
      "outputs": [
        {
          "output_type": "execute_result",
          "data": {
            "text/plain": [
              "{3}"
            ]
          },
          "metadata": {},
          "execution_count": 15
        }
      ]
    },
    {
      "cell_type": "code",
      "source": [
        "a.union(b,c)"
      ],
      "metadata": {
        "colab": {
          "base_uri": "https://localhost:8080/"
        },
        "id": "zS2gY0Oj-2Tr",
        "outputId": "f9a35da9-ce20-49b8-f886-3e0b7d799cb8"
      },
      "execution_count": null,
      "outputs": [
        {
          "output_type": "execute_result",
          "data": {
            "text/plain": [
              "{1, 2, 3, 4, 5, 6}"
            ]
          },
          "metadata": {},
          "execution_count": 17
        }
      ]
    },
    {
      "cell_type": "code",
      "source": [
        "a.intersection(b)"
      ],
      "metadata": {
        "colab": {
          "base_uri": "https://localhost:8080/"
        },
        "id": "k6gROkWX_47b",
        "outputId": "cdee9cf1-9cc1-4de4-ca00-603adc7f7d85"
      },
      "execution_count": null,
      "outputs": [
        {
          "output_type": "execute_result",
          "data": {
            "text/plain": [
              "{3}"
            ]
          },
          "metadata": {},
          "execution_count": 18
        }
      ]
    },
    {
      "cell_type": "code",
      "source": [
        "a.intersection_update(b)"
      ],
      "metadata": {
        "id": "i20JLkJ6Ai1a"
      },
      "execution_count": null,
      "outputs": []
    },
    {
      "cell_type": "code",
      "source": [
        "print(a)"
      ],
      "metadata": {
        "colab": {
          "base_uri": "https://localhost:8080/"
        },
        "id": "Nc7azXFdAp0r",
        "outputId": "279d22a7-3ef2-48c5-ef07-55c97b418462"
      },
      "execution_count": null,
      "outputs": [
        {
          "output_type": "stream",
          "name": "stdout",
          "text": [
            "{3}\n"
          ]
        }
      ]
    },
    {
      "cell_type": "code",
      "source": [
        "a={1,2,3,4}\n",
        "b={2,3,5}\n",
        "c={1,3,4,5}\n",
        "a.difference(b,c)"
      ],
      "metadata": {
        "colab": {
          "base_uri": "https://localhost:8080/"
        },
        "id": "6tJic9GbArf6",
        "outputId": "9fa14c08-94b3-4d2d-b4ec-6cf568df2730"
      },
      "execution_count": null,
      "outputs": [
        {
          "output_type": "execute_result",
          "data": {
            "text/plain": [
              "set()"
            ]
          },
          "metadata": {},
          "execution_count": 23
        }
      ]
    },
    {
      "cell_type": "code",
      "source": [
        "a={1,2,3,4}\n",
        "b={2,3,5}\n",
        "a.difference(b)"
      ],
      "metadata": {
        "colab": {
          "base_uri": "https://localhost:8080/"
        },
        "id": "6w_PTF-4Bb-6",
        "outputId": "da650721-78ce-461b-fc83-aaa17e49461d"
      },
      "execution_count": null,
      "outputs": [
        {
          "output_type": "execute_result",
          "data": {
            "text/plain": [
              "{1, 4}"
            ]
          },
          "metadata": {},
          "execution_count": 24
        }
      ]
    },
    {
      "cell_type": "code",
      "source": [
        "print(a)"
      ],
      "metadata": {
        "colab": {
          "base_uri": "https://localhost:8080/"
        },
        "id": "u5OY0vVLBzya",
        "outputId": "4c529edf-b8c4-4243-fd89-acba15afef01"
      },
      "execution_count": null,
      "outputs": [
        {
          "output_type": "stream",
          "name": "stdout",
          "text": [
            "{1, 2, 3, 4}\n"
          ]
        }
      ]
    },
    {
      "cell_type": "code",
      "source": [
        "a={1,2,3,4}\n",
        "b={2,3,5}\n",
        "a.difference_update(b)"
      ],
      "metadata": {
        "id": "CUVzzJoHB3yc"
      },
      "execution_count": null,
      "outputs": []
    },
    {
      "cell_type": "code",
      "source": [
        "print(a)"
      ],
      "metadata": {
        "colab": {
          "base_uri": "https://localhost:8080/"
        },
        "id": "U4hAtEUSB6jL",
        "outputId": "c74d41d5-7572-459a-c112-2fbcefde841e"
      },
      "execution_count": null,
      "outputs": [
        {
          "output_type": "stream",
          "name": "stdout",
          "text": [
            "{1, 4}\n"
          ]
        }
      ]
    },
    {
      "cell_type": "code",
      "source": [
        "a.clear()"
      ],
      "metadata": {
        "id": "r6DNacbOB7sK"
      },
      "execution_count": null,
      "outputs": []
    },
    {
      "cell_type": "code",
      "source": [
        "print(a)"
      ],
      "metadata": {
        "colab": {
          "base_uri": "https://localhost:8080/"
        },
        "id": "kTmLpxETB_ua",
        "outputId": "75f5bdb3-4cb6-4325-d297-77c940c232e2"
      },
      "execution_count": null,
      "outputs": [
        {
          "output_type": "stream",
          "name": "stdout",
          "text": [
            "set()\n"
          ]
        }
      ]
    },
    {
      "cell_type": "code",
      "source": [
        "a.add(1,2,3,4)"
      ],
      "metadata": {
        "colab": {
          "base_uri": "https://localhost:8080/",
          "height": 171
        },
        "id": "OQEBJYfWCA26",
        "outputId": "ebeb93fa-224b-4f41-e10e-594e2f5e8eaf"
      },
      "execution_count": null,
      "outputs": [
        {
          "output_type": "error",
          "ename": "TypeError",
          "evalue": "ignored",
          "traceback": [
            "\u001b[0;31m---------------------------------------------------------------------------\u001b[0m",
            "\u001b[0;31mTypeError\u001b[0m                                 Traceback (most recent call last)",
            "\u001b[0;32m<ipython-input-30-a2b71e6efe28>\u001b[0m in \u001b[0;36m<module>\u001b[0;34m\u001b[0m\n\u001b[0;32m----> 1\u001b[0;31m \u001b[0ma\u001b[0m\u001b[0;34m.\u001b[0m\u001b[0madd\u001b[0m\u001b[0;34m(\u001b[0m\u001b[0;36m1\u001b[0m\u001b[0;34m,\u001b[0m\u001b[0;36m2\u001b[0m\u001b[0;34m,\u001b[0m\u001b[0;36m3\u001b[0m\u001b[0;34m,\u001b[0m\u001b[0;36m4\u001b[0m\u001b[0;34m)\u001b[0m\u001b[0;34m\u001b[0m\u001b[0;34m\u001b[0m\u001b[0m\n\u001b[0m",
            "\u001b[0;31mTypeError\u001b[0m: add() takes exactly one argument (4 given)"
          ]
        }
      ]
    },
    {
      "cell_type": "code",
      "source": [
        "a.add(1)    # using add() methods we can add one element at a time"
      ],
      "metadata": {
        "id": "Jg5wCYq1CM-b"
      },
      "execution_count": null,
      "outputs": []
    },
    {
      "cell_type": "code",
      "source": [
        "print(a)"
      ],
      "metadata": {
        "id": "teDTJa9fCVRr"
      },
      "execution_count": null,
      "outputs": []
    },
    {
      "cell_type": "code",
      "source": [
        "a.update({12,3,5,6,7})   # using update() method we can update multiple elements at a time"
      ],
      "metadata": {
        "id": "H32i79fnCV8l"
      },
      "execution_count": null,
      "outputs": []
    },
    {
      "cell_type": "code",
      "source": [
        "print(a)"
      ],
      "metadata": {
        "colab": {
          "base_uri": "https://localhost:8080/"
        },
        "id": "9RRQuyWvCnuL",
        "outputId": "ea615b34-4508-4b62-bed8-5b1faf1c06e3"
      },
      "execution_count": null,
      "outputs": [
        {
          "output_type": "stream",
          "name": "stdout",
          "text": [
            "{1, 3, 5, 6, 7, 12}\n"
          ]
        }
      ]
    },
    {
      "cell_type": "code",
      "source": [
        "a.update([5,6,7,7,7,777,8,88,9])"
      ],
      "metadata": {
        "id": "yZPgJsoPCopU"
      },
      "execution_count": null,
      "outputs": []
    },
    {
      "cell_type": "code",
      "source": [
        "print(a)"
      ],
      "metadata": {
        "colab": {
          "base_uri": "https://localhost:8080/"
        },
        "id": "s1LG5TwUC_4a",
        "outputId": "27780d2c-876f-4e8c-9529-8fdf989cf3df"
      },
      "execution_count": null,
      "outputs": [
        {
          "output_type": "stream",
          "name": "stdout",
          "text": [
            "{1, 3, 5, 6, 7, 8, 777, 9, 12, 88}\n"
          ]
        }
      ]
    },
    {
      "cell_type": "code",
      "source": [
        "a.update(10.4)     # floating number doesnot support indexing so we get error"
      ],
      "metadata": {
        "colab": {
          "base_uri": "https://localhost:8080/",
          "height": 171
        },
        "id": "x1HN6DiNDBCK",
        "outputId": "72e77467-5c2f-48e6-8983-11aec04e79a1"
      },
      "execution_count": null,
      "outputs": [
        {
          "output_type": "error",
          "ename": "TypeError",
          "evalue": "ignored",
          "traceback": [
            "\u001b[0;31m---------------------------------------------------------------------------\u001b[0m",
            "\u001b[0;31mTypeError\u001b[0m                                 Traceback (most recent call last)",
            "\u001b[0;32m<ipython-input-45-d74905306781>\u001b[0m in \u001b[0;36m<module>\u001b[0;34m\u001b[0m\n\u001b[0;32m----> 1\u001b[0;31m \u001b[0ma\u001b[0m\u001b[0;34m.\u001b[0m\u001b[0mupdate\u001b[0m\u001b[0;34m(\u001b[0m\u001b[0;36m10.4\u001b[0m\u001b[0;34m)\u001b[0m   \u001b[0;31m# update() menthod contain a datatype which support indexing\u001b[0m\u001b[0;34m\u001b[0m\u001b[0;34m\u001b[0m\u001b[0m\n\u001b[0m",
            "\u001b[0;31mTypeError\u001b[0m: 'float' object is not iterable"
          ]
        }
      ]
    },
    {
      "cell_type": "code",
      "source": [
        "a.update(\"krishna\")  # update() menthod contain a datatype which support indexing"
      ],
      "metadata": {
        "id": "vl1A5scSDMAJ"
      },
      "execution_count": null,
      "outputs": []
    },
    {
      "cell_type": "code",
      "source": [
        "print(a)"
      ],
      "metadata": {
        "colab": {
          "base_uri": "https://localhost:8080/"
        },
        "id": "10Gs-S4qDMd9",
        "outputId": "2be4bfbf-4600-47c2-c3c2-e059516ce593"
      },
      "execution_count": null,
      "outputs": [
        {
          "output_type": "stream",
          "name": "stdout",
          "text": [
            "{'n', 1, 3, 5, 6, 7, 8, 777, 9, 'r', 12, 's', 'i', 'h', 'a', 88, 'k'}\n"
          ]
        }
      ]
    },
    {
      "cell_type": "code",
      "source": [
        "a.update([\"krishna\"])"
      ],
      "metadata": {
        "id": "mwu7BztdDr62"
      },
      "execution_count": null,
      "outputs": []
    },
    {
      "cell_type": "code",
      "source": [
        "print(a)"
      ],
      "metadata": {
        "colab": {
          "base_uri": "https://localhost:8080/"
        },
        "id": "oqudEpGcD1xb",
        "outputId": "b4f69e25-cff9-454e-c5da-91b59fdf9f0c"
      },
      "execution_count": null,
      "outputs": [
        {
          "output_type": "stream",
          "name": "stdout",
          "text": [
            "{'n', 1, 'krishna', 3, 5, 6, 7, 8, 777, 9, 'r', 12, 's', 'i', 'h', 'a', 88, 'k'}\n"
          ]
        }
      ]
    },
    {
      "cell_type": "code",
      "source": [
        "a.update(14)     # Integer number doesnot support indexing so we get error"
      ],
      "metadata": {
        "colab": {
          "base_uri": "https://localhost:8080/",
          "height": 171
        },
        "id": "IqM8hLRXD25L",
        "outputId": "c33b2c88-c1ee-4892-ba2b-dddbba813e9f"
      },
      "execution_count": null,
      "outputs": [
        {
          "output_type": "error",
          "ename": "TypeError",
          "evalue": "ignored",
          "traceback": [
            "\u001b[0;31m---------------------------------------------------------------------------\u001b[0m",
            "\u001b[0;31mTypeError\u001b[0m                                 Traceback (most recent call last)",
            "\u001b[0;32m<ipython-input-48-8f478aa74862>\u001b[0m in \u001b[0;36m<module>\u001b[0;34m\u001b[0m\n\u001b[0;32m----> 1\u001b[0;31m \u001b[0ma\u001b[0m\u001b[0;34m.\u001b[0m\u001b[0mupdate\u001b[0m\u001b[0;34m(\u001b[0m\u001b[0;36m14\u001b[0m\u001b[0;34m)\u001b[0m     \u001b[0;31m# Integer number doesnot support indexing so we get error\u001b[0m\u001b[0;34m\u001b[0m\u001b[0;34m\u001b[0m\u001b[0m\n\u001b[0m",
            "\u001b[0;31mTypeError\u001b[0m: 'int' object is not iterable"
          ]
        }
      ]
    },
    {
      "cell_type": "code",
      "source": [
        "a.update(4j)   # complex number doesnot support indexing so we get error"
      ],
      "metadata": {
        "colab": {
          "base_uri": "https://localhost:8080/",
          "height": 171
        },
        "id": "aNOfIPyDEpKK",
        "outputId": "b4ae4c1f-2e56-4279-f6d4-37c3b40edd0c"
      },
      "execution_count": null,
      "outputs": [
        {
          "output_type": "error",
          "ename": "TypeError",
          "evalue": "ignored",
          "traceback": [
            "\u001b[0;31m---------------------------------------------------------------------------\u001b[0m",
            "\u001b[0;31mTypeError\u001b[0m                                 Traceback (most recent call last)",
            "\u001b[0;32m<ipython-input-49-7c3fb44649f9>\u001b[0m in \u001b[0;36m<module>\u001b[0;34m\u001b[0m\n\u001b[0;32m----> 1\u001b[0;31m \u001b[0ma\u001b[0m\u001b[0;34m.\u001b[0m\u001b[0mupdate\u001b[0m\u001b[0;34m(\u001b[0m\u001b[0;36m4j\u001b[0m\u001b[0;34m)\u001b[0m   \u001b[0;31m# complex number doesnot support indexing so we get error\u001b[0m\u001b[0;34m\u001b[0m\u001b[0;34m\u001b[0m\u001b[0m\n\u001b[0m",
            "\u001b[0;31mTypeError\u001b[0m: 'complex' object is not iterable"
          ]
        }
      ]
    },
    {
      "cell_type": "code",
      "source": [
        "print(a)"
      ],
      "metadata": {
        "colab": {
          "base_uri": "https://localhost:8080/"
        },
        "id": "9Rh3QBMLExKa",
        "outputId": "e4a8f7c2-a0d8-4eb5-86ad-5cedbbe784af"
      },
      "execution_count": null,
      "outputs": [
        {
          "output_type": "stream",
          "name": "stdout",
          "text": [
            "{'n', 1, 'krishna', 3, 5, 6, 7, 8, 777, 9, 'r', 12, 's', 'i', 'h', 'a', 88, 'k'}\n"
          ]
        }
      ]
    },
    {
      "cell_type": "code",
      "source": [
        "c={3,2,1}\n",
        "d={5,6,7}\n",
        "c.isdisjoint(d)\n",
        "print(c)"
      ],
      "metadata": {
        "colab": {
          "base_uri": "https://localhost:8080/"
        },
        "id": "X9AlXqsRFGD7",
        "outputId": "1de29e34-dab5-415d-a6fd-2b3162cb64b4"
      },
      "execution_count": null,
      "outputs": [
        {
          "output_type": "stream",
          "name": "stdout",
          "text": [
            "{1, 2, 3}\n"
          ]
        }
      ]
    },
    {
      "cell_type": "code",
      "source": [
        "d.pop()"
      ],
      "metadata": {
        "colab": {
          "base_uri": "https://localhost:8080/"
        },
        "id": "xI7lVm_9FSdq",
        "outputId": "b4671ba7-60ff-45cb-92ff-ecc60d95c47f"
      },
      "execution_count": null,
      "outputs": [
        {
          "output_type": "execute_result",
          "data": {
            "text/plain": [
              "5"
            ]
          },
          "metadata": {},
          "execution_count": 53
        }
      ]
    },
    {
      "cell_type": "code",
      "source": [
        "d.pop()"
      ],
      "metadata": {
        "colab": {
          "base_uri": "https://localhost:8080/"
        },
        "id": "g04YOccUGcdq",
        "outputId": "c3803392-3d89-4042-c8ba-d62553e2a28f"
      },
      "execution_count": null,
      "outputs": [
        {
          "output_type": "execute_result",
          "data": {
            "text/plain": [
              "6"
            ]
          },
          "metadata": {},
          "execution_count": 54
        }
      ]
    },
    {
      "cell_type": "code",
      "source": [
        "d.pop()"
      ],
      "metadata": {
        "colab": {
          "base_uri": "https://localhost:8080/"
        },
        "id": "v4-M_CDJGiMq",
        "outputId": "5a595d3a-460c-4ee9-ecf6-386425804e85"
      },
      "execution_count": null,
      "outputs": [
        {
          "output_type": "execute_result",
          "data": {
            "text/plain": [
              "7"
            ]
          },
          "metadata": {},
          "execution_count": 55
        }
      ]
    },
    {
      "cell_type": "code",
      "source": [
        "d.pop()"
      ],
      "metadata": {
        "colab": {
          "base_uri": "https://localhost:8080/",
          "height": 171
        },
        "id": "vG33QdvoGl1K",
        "outputId": "def66139-6b94-49d4-b621-ebdde1657bc8"
      },
      "execution_count": null,
      "outputs": [
        {
          "output_type": "error",
          "ename": "KeyError",
          "evalue": "ignored",
          "traceback": [
            "\u001b[0;31m---------------------------------------------------------------------------\u001b[0m",
            "\u001b[0;31mKeyError\u001b[0m                                  Traceback (most recent call last)",
            "\u001b[0;32m<ipython-input-56-663961784a31>\u001b[0m in \u001b[0;36m<module>\u001b[0;34m\u001b[0m\n\u001b[0;32m----> 1\u001b[0;31m \u001b[0md\u001b[0m\u001b[0;34m.\u001b[0m\u001b[0mpop\u001b[0m\u001b[0;34m(\u001b[0m\u001b[0;34m)\u001b[0m\u001b[0;34m\u001b[0m\u001b[0;34m\u001b[0m\u001b[0m\n\u001b[0m",
            "\u001b[0;31mKeyError\u001b[0m: 'pop from an empty set'"
          ]
        }
      ]
    },
    {
      "cell_type": "code",
      "source": [
        "c.pop()"
      ],
      "metadata": {
        "colab": {
          "base_uri": "https://localhost:8080/"
        },
        "id": "B1K7F6R-Gncq",
        "outputId": "b14d9419-5c85-4a90-cb34-4722902c7243"
      },
      "execution_count": null,
      "outputs": [
        {
          "output_type": "execute_result",
          "data": {
            "text/plain": [
              "1"
            ]
          },
          "metadata": {},
          "execution_count": 60
        }
      ]
    },
    {
      "cell_type": "code",
      "source": [
        "a={1,2,3,4,5,6}\n",
        "b={1,2}\n",
        "\n",
        "a.issuperset(b)"
      ],
      "metadata": {
        "colab": {
          "base_uri": "https://localhost:8080/"
        },
        "id": "R49I6PfbGtTZ",
        "outputId": "bc639e70-5f87-4d06-ebb2-13a1f5973f94"
      },
      "execution_count": null,
      "outputs": [
        {
          "output_type": "execute_result",
          "data": {
            "text/plain": [
              "True"
            ]
          },
          "metadata": {},
          "execution_count": 61
        }
      ]
    },
    {
      "cell_type": "code",
      "source": [
        "b.issuperset(a)"
      ],
      "metadata": {
        "colab": {
          "base_uri": "https://localhost:8080/"
        },
        "id": "PYkELI9UHfvE",
        "outputId": "221b569b-94fb-4181-c606-3836191baf97"
      },
      "execution_count": null,
      "outputs": [
        {
          "output_type": "execute_result",
          "data": {
            "text/plain": [
              "False"
            ]
          },
          "metadata": {},
          "execution_count": 62
        }
      ]
    },
    {
      "cell_type": "code",
      "source": [
        "a.remove(5)"
      ],
      "metadata": {
        "id": "_0ThSLRmHiR7"
      },
      "execution_count": null,
      "outputs": []
    },
    {
      "cell_type": "code",
      "source": [
        "print(a)"
      ],
      "metadata": {
        "colab": {
          "base_uri": "https://localhost:8080/"
        },
        "id": "vNFqlk-AH0s5",
        "outputId": "1bced670-1419-4aca-abc5-df6eb58a6f33"
      },
      "execution_count": null,
      "outputs": [
        {
          "output_type": "stream",
          "name": "stdout",
          "text": [
            "{1, 2, 3, 4, 6}\n"
          ]
        }
      ]
    },
    {
      "cell_type": "code",
      "source": [
        "a.remove(9)"
      ],
      "metadata": {
        "colab": {
          "base_uri": "https://localhost:8080/",
          "height": 171
        },
        "id": "UVbr2khAH1qa",
        "outputId": "42a992f6-4eab-44f8-fb5a-3cd8e69f58cd"
      },
      "execution_count": null,
      "outputs": [
        {
          "output_type": "error",
          "ename": "KeyError",
          "evalue": "ignored",
          "traceback": [
            "\u001b[0;31m---------------------------------------------------------------------------\u001b[0m",
            "\u001b[0;31mKeyError\u001b[0m                                  Traceback (most recent call last)",
            "\u001b[0;32m<ipython-input-65-172c07d3db5c>\u001b[0m in \u001b[0;36m<module>\u001b[0;34m\u001b[0m\n\u001b[0;32m----> 1\u001b[0;31m \u001b[0ma\u001b[0m\u001b[0;34m.\u001b[0m\u001b[0mremove\u001b[0m\u001b[0;34m(\u001b[0m\u001b[0;36m9\u001b[0m\u001b[0;34m)\u001b[0m\u001b[0;34m\u001b[0m\u001b[0;34m\u001b[0m\u001b[0m\n\u001b[0m",
            "\u001b[0;31mKeyError\u001b[0m: 9"
          ]
        }
      ]
    },
    {
      "cell_type": "code",
      "source": [
        "a.discard(1)"
      ],
      "metadata": {
        "id": "iEqAmQlsH6CK"
      },
      "execution_count": null,
      "outputs": []
    },
    {
      "cell_type": "code",
      "source": [
        "print(a)"
      ],
      "metadata": {
        "colab": {
          "base_uri": "https://localhost:8080/"
        },
        "id": "Ep8GD7MpIB96",
        "outputId": "1d10a4f6-60ff-445c-c34b-2b0b9cf086fd"
      },
      "execution_count": null,
      "outputs": [
        {
          "output_type": "stream",
          "name": "stdout",
          "text": [
            "{2, 3, 4, 6}\n"
          ]
        }
      ]
    },
    {
      "cell_type": "code",
      "source": [
        "a.discard(9)"
      ],
      "metadata": {
        "id": "-dNPGcNTICu6"
      },
      "execution_count": null,
      "outputs": []
    },
    {
      "cell_type": "code",
      "source": [
        "print(a)"
      ],
      "metadata": {
        "colab": {
          "base_uri": "https://localhost:8080/"
        },
        "id": "4FhebMT6IFep",
        "outputId": "5744c3a0-0bed-4f47-f08f-3fa468b942ae"
      },
      "execution_count": null,
      "outputs": [
        {
          "output_type": "stream",
          "name": "stdout",
          "text": [
            "{2, 3, 4, 6}\n"
          ]
        }
      ]
    },
    {
      "cell_type": "markdown",
      "source": [
        "# copy"
      ],
      "metadata": {
        "id": "v9ZtZfW2II9Z"
      }
    },
    {
      "cell_type": "code",
      "source": [
        "a={1,2,3,4,5}\n",
        "b=a"
      ],
      "metadata": {
        "id": "twngvIdWIRgL"
      },
      "execution_count": null,
      "outputs": []
    },
    {
      "cell_type": "code",
      "source": [
        "print(a)"
      ],
      "metadata": {
        "colab": {
          "base_uri": "https://localhost:8080/"
        },
        "id": "2fWfd3pKIW-6",
        "outputId": "25deb26c-d200-4e8e-ea6e-dac98af47643"
      },
      "execution_count": null,
      "outputs": [
        {
          "output_type": "stream",
          "name": "stdout",
          "text": [
            "{1, 2, 3, 4, 5}\n"
          ]
        }
      ]
    },
    {
      "cell_type": "code",
      "source": [
        "print(b)"
      ],
      "metadata": {
        "colab": {
          "base_uri": "https://localhost:8080/"
        },
        "id": "2QtfedDMIXi5",
        "outputId": "161b811c-85da-4972-bb44-ad3bf8233741"
      },
      "execution_count": null,
      "outputs": [
        {
          "output_type": "stream",
          "name": "stdout",
          "text": [
            "{1, 2, 3, 4, 5}\n"
          ]
        }
      ]
    },
    {
      "cell_type": "code",
      "source": [
        "a.add(10000)"
      ],
      "metadata": {
        "id": "SIjFx9_LIZAZ"
      },
      "execution_count": null,
      "outputs": []
    },
    {
      "cell_type": "code",
      "source": [
        "print(a)"
      ],
      "metadata": {
        "colab": {
          "base_uri": "https://localhost:8080/"
        },
        "id": "xYyqOLVyIevZ",
        "outputId": "c00a3dcc-794d-4606-8549-2c6cd8405373"
      },
      "execution_count": null,
      "outputs": [
        {
          "output_type": "stream",
          "name": "stdout",
          "text": [
            "{1, 2, 3, 4, 5, 10000}\n"
          ]
        }
      ]
    },
    {
      "cell_type": "code",
      "source": [
        "print(b)"
      ],
      "metadata": {
        "colab": {
          "base_uri": "https://localhost:8080/"
        },
        "id": "vGUKbzTNIfbp",
        "outputId": "35172e87-d09c-4f51-bf5c-76aa3e0e06c9"
      },
      "execution_count": null,
      "outputs": [
        {
          "output_type": "stream",
          "name": "stdout",
          "text": [
            "{1, 2, 3, 4, 5, 10000}\n"
          ]
        }
      ]
    },
    {
      "cell_type": "code",
      "source": [
        "c=a.copy()"
      ],
      "metadata": {
        "id": "0I6A2uAoIh_K"
      },
      "execution_count": null,
      "outputs": []
    },
    {
      "cell_type": "code",
      "source": [
        "print(a)"
      ],
      "metadata": {
        "colab": {
          "base_uri": "https://localhost:8080/"
        },
        "id": "HuY4qRRNIpZ6",
        "outputId": "4f3e21d0-7c9f-47ee-83b2-a678cb95e6af"
      },
      "execution_count": null,
      "outputs": [
        {
          "output_type": "stream",
          "name": "stdout",
          "text": [
            "{1, 2, 3, 4, 5, 10000}\n"
          ]
        }
      ]
    },
    {
      "cell_type": "code",
      "source": [
        "print(c)"
      ],
      "metadata": {
        "colab": {
          "base_uri": "https://localhost:8080/"
        },
        "id": "KjwKZW11Iqjq",
        "outputId": "ba14d19f-5d0a-4cbf-f8a9-a792905e0a51"
      },
      "execution_count": null,
      "outputs": [
        {
          "output_type": "stream",
          "name": "stdout",
          "text": [
            "{10000, 1, 2, 3, 4, 5}\n"
          ]
        }
      ]
    },
    {
      "cell_type": "code",
      "source": [
        "a.discard(1)"
      ],
      "metadata": {
        "id": "Hy0VCpfzIsPp"
      },
      "execution_count": null,
      "outputs": []
    },
    {
      "cell_type": "code",
      "source": [
        "print(a)"
      ],
      "metadata": {
        "colab": {
          "base_uri": "https://localhost:8080/"
        },
        "id": "nyRwdrbjIx_6",
        "outputId": "e152a619-eb7f-4d9f-fdc6-8786f844802f"
      },
      "execution_count": null,
      "outputs": [
        {
          "output_type": "stream",
          "name": "stdout",
          "text": [
            "{2, 3, 4, 5}\n"
          ]
        }
      ]
    },
    {
      "cell_type": "code",
      "source": [
        "print(c)"
      ],
      "metadata": {
        "colab": {
          "base_uri": "https://localhost:8080/"
        },
        "id": "bySl9W9xIyeg",
        "outputId": "71d5548e-cd69-4f64-bcda-5e19325f8c9e"
      },
      "execution_count": null,
      "outputs": [
        {
          "output_type": "stream",
          "name": "stdout",
          "text": [
            "{10000, 1, 2, 3, 4, 5}\n"
          ]
        }
      ]
    },
    {
      "cell_type": "code",
      "source": [
        "a.symmetric_difference(c)"
      ],
      "metadata": {
        "colab": {
          "base_uri": "https://localhost:8080/"
        },
        "id": "BMuE3huBI0uK",
        "outputId": "8a7a5f19-fef0-4c9a-9cac-8f1e94e28ded"
      },
      "execution_count": null,
      "outputs": [
        {
          "output_type": "execute_result",
          "data": {
            "text/plain": [
              "{1, 10000}"
            ]
          },
          "metadata": {},
          "execution_count": 87
        }
      ]
    },
    {
      "cell_type": "code",
      "source": [
        "c.symmetric_difference(a)"
      ],
      "metadata": {
        "colab": {
          "base_uri": "https://localhost:8080/"
        },
        "id": "lQ1lFKCCJSra",
        "outputId": "c7a54731-508d-4030-bdc5-78239eecbd59"
      },
      "execution_count": null,
      "outputs": [
        {
          "output_type": "execute_result",
          "data": {
            "text/plain": [
              "{1, 10000}"
            ]
          },
          "metadata": {},
          "execution_count": 88
        }
      ]
    },
    {
      "cell_type": "code",
      "source": [
        "a={}\n",
        "print(a)\n",
        "print(type(a))"
      ],
      "metadata": {
        "colab": {
          "base_uri": "https://localhost:8080/"
        },
        "id": "Y3I4CJCUIrW3",
        "outputId": "8240675b-5e40-42c5-dcff-32dd59e3e99c"
      },
      "execution_count": null,
      "outputs": [
        {
          "output_type": "stream",
          "name": "stdout",
          "text": [
            "{}\n",
            "<class 'dict'>\n"
          ]
        }
      ]
    },
    {
      "cell_type": "code",
      "source": [
        "a={1}\n",
        "print(a)\n",
        "print(type(a))"
      ],
      "metadata": {
        "colab": {
          "base_uri": "https://localhost:8080/"
        },
        "id": "KHnJG-CfI9vj",
        "outputId": "3b9ceacb-96fa-4136-944b-caea2b337c14"
      },
      "execution_count": null,
      "outputs": [
        {
          "output_type": "stream",
          "name": "stdout",
          "text": [
            "{1}\n",
            "<class 'set'>\n"
          ]
        }
      ]
    },
    {
      "cell_type": "markdown",
      "source": [
        "# dictionay\n",
        "\n",
        "dictionary constructor is dict()\n",
        "\n",
        "dictionary literal is { }\n",
        "\n",
        "dictionary contains key(s) and value(s) combination {keys:values}  key's data type maybe anything similarly value's datatype maybe anything\n",
        "\n",
        "dictionary support indexing \n",
        "\n",
        "dictionary contain multiple datatypes\n",
        "\n",
        "dictionary is mutable\n",
        "\n",
        "dictionary follow sequencing \n"
      ],
      "metadata": {
        "id": "rTSTSuRHJfr_"
      }
    },
    {
      "cell_type": "code",
      "source": [
        "a=dict()\n",
        "print(a)   # this is empty dictionary\n",
        "print(type(a))"
      ],
      "metadata": {
        "colab": {
          "base_uri": "https://localhost:8080/"
        },
        "id": "NLsek-Q5HXmH",
        "outputId": "efaec35a-7679-4d0e-8f90-164f311077e8"
      },
      "execution_count": null,
      "outputs": [
        {
          "output_type": "stream",
          "name": "stdout",
          "text": [
            "{}\n",
            "<class 'dict'>\n"
          ]
        }
      ]
    },
    {
      "cell_type": "code",
      "source": [
        "d={1:\"Rahul\",2:\"krishna\",3:\"Mohan\"}"
      ],
      "metadata": {
        "id": "P8DqPkZqHrLI"
      },
      "execution_count": null,
      "outputs": []
    },
    {
      "cell_type": "code",
      "source": [
        "print(d)"
      ],
      "metadata": {
        "colab": {
          "base_uri": "https://localhost:8080/"
        },
        "id": "PKd9OzsmIVQe",
        "outputId": "0f19b5ad-ac8b-44d7-a5fa-5fc86216898a"
      },
      "execution_count": null,
      "outputs": [
        {
          "output_type": "stream",
          "name": "stdout",
          "text": [
            "{1: 'Rahul', 2: 'krishna', 3: 'Mohan'}\n"
          ]
        }
      ]
    },
    {
      "cell_type": "code",
      "source": [
        "print(d[1])  # this is key"
      ],
      "metadata": {
        "colab": {
          "base_uri": "https://localhost:8080/"
        },
        "id": "W2LA0oi-IV44",
        "outputId": "60630710-f5af-44c3-864a-44a1cad35a89"
      },
      "execution_count": null,
      "outputs": [
        {
          "output_type": "stream",
          "name": "stdout",
          "text": [
            "Rahul\n"
          ]
        }
      ]
    },
    {
      "cell_type": "code",
      "source": [
        "d['Rahul']    # always call keys using indexing "
      ],
      "metadata": {
        "colab": {
          "base_uri": "https://localhost:8080/",
          "height": 171
        },
        "id": "SJZNm8ZQJaS3",
        "outputId": "ccdaf793-49cb-43c1-84df-1e7fef46fdf2"
      },
      "execution_count": null,
      "outputs": [
        {
          "output_type": "error",
          "ename": "KeyError",
          "evalue": "ignored",
          "traceback": [
            "\u001b[0;31m---------------------------------------------------------------------------\u001b[0m",
            "\u001b[0;31mKeyError\u001b[0m                                  Traceback (most recent call last)",
            "\u001b[0;32m<ipython-input-12-e5aa28880cad>\u001b[0m in \u001b[0;36m<module>\u001b[0;34m\u001b[0m\n\u001b[0;32m----> 1\u001b[0;31m \u001b[0md\u001b[0m\u001b[0;34m[\u001b[0m\u001b[0;34m'Rahul'\u001b[0m\u001b[0;34m]\u001b[0m    \u001b[0;31m# always call keys using indexing\u001b[0m\u001b[0;34m\u001b[0m\u001b[0;34m\u001b[0m\u001b[0m\n\u001b[0m",
            "\u001b[0;31mKeyError\u001b[0m: 'Rahul'"
          ]
        }
      ]
    },
    {
      "cell_type": "code",
      "source": [
        "print(d.keys())"
      ],
      "metadata": {
        "colab": {
          "base_uri": "https://localhost:8080/"
        },
        "id": "11Kfw9L1Jd9S",
        "outputId": "a37083f1-9258-46e2-a845-f1fff6286b8c"
      },
      "execution_count": null,
      "outputs": [
        {
          "output_type": "stream",
          "name": "stdout",
          "text": [
            "dict_keys([1, 2, 3])\n"
          ]
        }
      ]
    },
    {
      "cell_type": "code",
      "source": [
        "print(d.values())"
      ],
      "metadata": {
        "colab": {
          "base_uri": "https://localhost:8080/"
        },
        "id": "JJcA44dkKdgG",
        "outputId": "4cf9b6d3-afbb-49c8-f380-01308650070c"
      },
      "execution_count": null,
      "outputs": [
        {
          "output_type": "stream",
          "name": "stdout",
          "text": [
            "dict_values(['Rahul', 'krishna', 'Mohan'])\n"
          ]
        }
      ]
    },
    {
      "cell_type": "code",
      "source": [
        "d[1]=\"Ramu\""
      ],
      "metadata": {
        "id": "oIQv4zyjKkX3"
      },
      "execution_count": null,
      "outputs": []
    },
    {
      "cell_type": "code",
      "source": [
        "print(d)"
      ],
      "metadata": {
        "colab": {
          "base_uri": "https://localhost:8080/"
        },
        "id": "Hhz1rGxFK2mX",
        "outputId": "8d823c5a-ab4b-41ae-80a1-f2428dcd2c62"
      },
      "execution_count": null,
      "outputs": [
        {
          "output_type": "stream",
          "name": "stdout",
          "text": [
            "{1: 'Ramu', 2: 'krishna', 3: 'Mohan'}\n"
          ]
        }
      ]
    },
    {
      "cell_type": "code",
      "source": [
        "d[1]=[\"Ramu\",\"Ram\",\"Sita\"]"
      ],
      "metadata": {
        "id": "8nKKL9yhK4HX"
      },
      "execution_count": null,
      "outputs": []
    },
    {
      "cell_type": "code",
      "source": [
        "print(d)"
      ],
      "metadata": {
        "colab": {
          "base_uri": "https://localhost:8080/"
        },
        "id": "PSQSIfM8LMgX",
        "outputId": "680f4f0a-f51c-49d5-f28e-38e33dce1e60"
      },
      "execution_count": null,
      "outputs": [
        {
          "output_type": "stream",
          "name": "stdout",
          "text": [
            "{1: ['Ramu', 'Ram', 'Sita'], 2: 'krishna', 3: 'Mohan'}\n"
          ]
        }
      ]
    },
    {
      "cell_type": "code",
      "source": [
        "d[1]={\"Student\":\"Ramu\",\"Father\":\"Ram\",\"Mother\":\"Sita\"}"
      ],
      "metadata": {
        "id": "ZlAvjs3YLOQ3"
      },
      "execution_count": null,
      "outputs": []
    },
    {
      "cell_type": "code",
      "source": [
        "print(d)"
      ],
      "metadata": {
        "colab": {
          "base_uri": "https://localhost:8080/"
        },
        "id": "JMg1f2HILeUo",
        "outputId": "207fad40-aa3b-42ed-f0f0-83211abecc71"
      },
      "execution_count": null,
      "outputs": [
        {
          "output_type": "stream",
          "name": "stdout",
          "text": [
            "{1: {'Student': 'Ramu', 'Father': 'Ram', 'Mother': 'Sita'}, 2: 'krishna', 3: 'Mohan'}\n"
          ]
        }
      ]
    },
    {
      "cell_type": "code",
      "source": [
        "d.update({4:\"Sona\"})"
      ],
      "metadata": {
        "id": "hV3AxnH6LfQZ"
      },
      "execution_count": null,
      "outputs": []
    },
    {
      "cell_type": "code",
      "source": [
        "print(d)"
      ],
      "metadata": {
        "colab": {
          "base_uri": "https://localhost:8080/"
        },
        "id": "ei1yasZ6L2mY",
        "outputId": "adab6564-ff64-49b0-8fac-7e5135b75100"
      },
      "execution_count": null,
      "outputs": [
        {
          "output_type": "stream",
          "name": "stdout",
          "text": [
            "{1: {'Student': 'Ramu', 'Father': 'Ram', 'Mother': 'Sita'}, 2: 'krishna', 3: 'Mohan', 4: 'Sona'}\n"
          ]
        }
      ]
    },
    {
      "cell_type": "code",
      "source": [
        "d.update({5:\"Soni\",7:\"Sushmita\"})"
      ],
      "metadata": {
        "id": "w40adOjWL3gm"
      },
      "execution_count": null,
      "outputs": []
    },
    {
      "cell_type": "code",
      "source": [
        "print(d)"
      ],
      "metadata": {
        "colab": {
          "base_uri": "https://localhost:8080/"
        },
        "id": "Erix6d6OL_8X",
        "outputId": "de6c527d-57d6-4cd5-cd14-7b651034f9d5"
      },
      "execution_count": null,
      "outputs": [
        {
          "output_type": "stream",
          "name": "stdout",
          "text": [
            "{1: {'Student': 'Ramu', 'Father': 'Ram', 'Mother': 'Sita'}, 2: 'krishna', 3: 'Mohan', 4: 'Sona', 5: 'Soni', 7: 'Sushmita'}\n"
          ]
        }
      ]
    },
    {
      "cell_type": "code",
      "source": [
        "d.items()"
      ],
      "metadata": {
        "colab": {
          "base_uri": "https://localhost:8080/"
        },
        "id": "17p39hRSMBA2",
        "outputId": "2ad2a031-5993-44c0-e26b-727fa3671ff3"
      },
      "execution_count": null,
      "outputs": [
        {
          "output_type": "execute_result",
          "data": {
            "text/plain": [
              "dict_items([(1, {'Student': 'Ramu', 'Father': 'Ram', 'Mother': 'Sita'}), (2, 'krishna'), (3, 'Mohan'), (4, 'Sona'), (5, 'Soni'), (7, 'Sushmita')])"
            ]
          },
          "metadata": {},
          "execution_count": 25
        }
      ]
    },
    {
      "cell_type": "code",
      "source": [
        "d.pop(7)"
      ],
      "metadata": {
        "colab": {
          "base_uri": "https://localhost:8080/",
          "height": 36
        },
        "id": "viIudjRQMQEX",
        "outputId": "0c28b74c-3c75-45fe-ebb6-d8281f291866"
      },
      "execution_count": null,
      "outputs": [
        {
          "output_type": "execute_result",
          "data": {
            "text/plain": [
              "'Sushmita'"
            ],
            "application/vnd.google.colaboratory.intrinsic+json": {
              "type": "string"
            }
          },
          "metadata": {},
          "execution_count": 27
        }
      ]
    },
    {
      "cell_type": "code",
      "source": [
        "print(d)"
      ],
      "metadata": {
        "colab": {
          "base_uri": "https://localhost:8080/"
        },
        "id": "qs4aEpFmMrpm",
        "outputId": "490ac8e7-f005-4eaa-c319-28161cc44884"
      },
      "execution_count": null,
      "outputs": [
        {
          "output_type": "stream",
          "name": "stdout",
          "text": [
            "{1: {'Student': 'Ramu', 'Father': 'Ram', 'Mother': 'Sita'}, 2: 'krishna', 3: 'Mohan', 4: 'Sona', 5: 'Soni'}\n"
          ]
        }
      ]
    },
    {
      "cell_type": "code",
      "source": [
        "d.popitem()"
      ],
      "metadata": {
        "colab": {
          "base_uri": "https://localhost:8080/"
        },
        "id": "HLzvKy4UMx1X",
        "outputId": "e8f9f7f7-2e47-43e2-8fb9-318bdfcde4da"
      },
      "execution_count": null,
      "outputs": [
        {
          "output_type": "execute_result",
          "data": {
            "text/plain": [
              "(5, 'Soni')"
            ]
          },
          "metadata": {},
          "execution_count": 30
        }
      ]
    },
    {
      "cell_type": "code",
      "source": [
        "print(d)"
      ],
      "metadata": {
        "colab": {
          "base_uri": "https://localhost:8080/"
        },
        "id": "PBZff7YCM5I3",
        "outputId": "29350d66-a8ff-493e-c672-39c1b3472bd4"
      },
      "execution_count": null,
      "outputs": [
        {
          "output_type": "stream",
          "name": "stdout",
          "text": [
            "{1: {'Student': 'Ramu', 'Father': 'Ram', 'Mother': 'Sita'}, 2: 'krishna', 3: 'Mohan', 4: 'Sona'}\n"
          ]
        }
      ]
    },
    {
      "cell_type": "code",
      "source": [
        "d.update({1:\"Sonu\"})"
      ],
      "metadata": {
        "id": "Vso5KUqaM-3W"
      },
      "execution_count": null,
      "outputs": []
    },
    {
      "cell_type": "code",
      "source": [
        "print(d)"
      ],
      "metadata": {
        "colab": {
          "base_uri": "https://localhost:8080/"
        },
        "id": "3T38DyyLNKOW",
        "outputId": "cd644e82-5afb-41b4-f20a-c039f5761924"
      },
      "execution_count": null,
      "outputs": [
        {
          "output_type": "stream",
          "name": "stdout",
          "text": [
            "{1: 'Sonu', 2: 'krishna', 3: 'Mohan', 4: 'Sona'}\n"
          ]
        }
      ]
    },
    {
      "cell_type": "code",
      "source": [
        "d.update({5:\"Sonu\"})"
      ],
      "metadata": {
        "id": "jAXcPWJJNLEn"
      },
      "execution_count": null,
      "outputs": []
    },
    {
      "cell_type": "code",
      "source": [
        "d"
      ],
      "metadata": {
        "colab": {
          "base_uri": "https://localhost:8080/"
        },
        "id": "IiEvddy3NXDm",
        "outputId": "4c5b1a83-ccba-4e1e-c54d-b6ef0713ec3e"
      },
      "execution_count": null,
      "outputs": [
        {
          "output_type": "execute_result",
          "data": {
            "text/plain": [
              "{1: 'Sonu', 2: 'krishna', 3: 'Mohan', 4: 'Sona', 5: 'Sonu'}"
            ]
          },
          "metadata": {},
          "execution_count": 35
        }
      ]
    },
    {
      "cell_type": "code",
      "source": [
        "d[10]"
      ],
      "metadata": {
        "colab": {
          "base_uri": "https://localhost:8080/",
          "height": 171
        },
        "id": "yoXbbXrANXoW",
        "outputId": "a55ecb63-7c5f-4b88-c578-8a2180080ccf"
      },
      "execution_count": null,
      "outputs": [
        {
          "output_type": "error",
          "ename": "KeyError",
          "evalue": "ignored",
          "traceback": [
            "\u001b[0;31m---------------------------------------------------------------------------\u001b[0m",
            "\u001b[0;31mKeyError\u001b[0m                                  Traceback (most recent call last)",
            "\u001b[0;32m<ipython-input-36-76a0c2738598>\u001b[0m in \u001b[0;36m<module>\u001b[0;34m\u001b[0m\n\u001b[0;32m----> 1\u001b[0;31m \u001b[0md\u001b[0m\u001b[0;34m[\u001b[0m\u001b[0;36m10\u001b[0m\u001b[0;34m]\u001b[0m\u001b[0;34m\u001b[0m\u001b[0;34m\u001b[0m\u001b[0m\n\u001b[0m",
            "\u001b[0;31mKeyError\u001b[0m: 10"
          ]
        }
      ]
    },
    {
      "cell_type": "code",
      "source": [
        "d.get(10)"
      ],
      "metadata": {
        "id": "McLXGDr4NkvG"
      },
      "execution_count": null,
      "outputs": []
    },
    {
      "cell_type": "code",
      "source": [
        "d.get(1)"
      ],
      "metadata": {
        "colab": {
          "base_uri": "https://localhost:8080/",
          "height": 36
        },
        "id": "EZTYMA3SNqOn",
        "outputId": "f5504a1f-e48a-4c9e-8e7d-0d9cbd09845f"
      },
      "execution_count": null,
      "outputs": [
        {
          "output_type": "execute_result",
          "data": {
            "text/plain": [
              "'Sonu'"
            ],
            "application/vnd.google.colaboratory.intrinsic+json": {
              "type": "string"
            }
          },
          "metadata": {},
          "execution_count": 38
        }
      ]
    },
    {
      "cell_type": "code",
      "source": [
        "d.get(10,\"This value is not available\")"
      ],
      "metadata": {
        "colab": {
          "base_uri": "https://localhost:8080/",
          "height": 36
        },
        "id": "yF1fPV94NsSH",
        "outputId": "7431c8f0-db0e-4215-b29a-e487c385f264"
      },
      "execution_count": null,
      "outputs": [
        {
          "output_type": "execute_result",
          "data": {
            "text/plain": [
              "'This value is not available'"
            ],
            "application/vnd.google.colaboratory.intrinsic+json": {
              "type": "string"
            }
          },
          "metadata": {},
          "execution_count": 40
        }
      ]
    },
    {
      "cell_type": "code",
      "source": [
        "d.get(1,\"This value is not available\")"
      ],
      "metadata": {
        "colab": {
          "base_uri": "https://localhost:8080/",
          "height": 36
        },
        "id": "yqzjfArhNyoH",
        "outputId": "08e7a916-1cdd-4f6f-adf0-30f200c7f20b"
      },
      "execution_count": null,
      "outputs": [
        {
          "output_type": "execute_result",
          "data": {
            "text/plain": [
              "'Sonu'"
            ],
            "application/vnd.google.colaboratory.intrinsic+json": {
              "type": "string"
            }
          },
          "metadata": {},
          "execution_count": 41
        }
      ]
    },
    {
      "cell_type": "markdown",
      "source": [
        "# str   =\"\" ,'', \"\"\"\"\"\",''''''\n",
        "\n",
        "# int = 0-9\n",
        "\n",
        "# float = 0.0-0.9\n",
        "\n",
        "# complex  =ij  where i is Natural number\n",
        "\n",
        "# list  =  []  mutable\n",
        "\n",
        "# tuple  =() immutable\n",
        "\n",
        "# set    = set()  duplicay not maintained\n",
        "\n",
        "# dict   =  {key:value}  # it help us to define index value also\n",
        "\n",
        "# bool   =True or False\n",
        "\n",
        "\n"
      ],
      "metadata": {
        "id": "A6RiCBImN5gH"
      }
    },
    {
      "cell_type": "markdown",
      "source": [
        "# bool\n",
        "\n",
        "> it return only either True or False\n",
        "\n",
        "> constructor of bool()"
      ],
      "metadata": {
        "id": "0-Uj5qbdeYP9"
      }
    },
    {
      "cell_type": "code",
      "source": [
        "bool([])"
      ],
      "metadata": {
        "colab": {
          "base_uri": "https://localhost:8080/"
        },
        "id": "9NpvX1xseb5M",
        "outputId": "65688c4c-dada-4c2f-ab73-575bfde71eda"
      },
      "execution_count": null,
      "outputs": [
        {
          "output_type": "execute_result",
          "data": {
            "text/plain": [
              "False"
            ]
          },
          "metadata": {},
          "execution_count": 1
        }
      ]
    },
    {
      "cell_type": "code",
      "source": [
        "bool([[]])"
      ],
      "metadata": {
        "colab": {
          "base_uri": "https://localhost:8080/"
        },
        "id": "10NwEDaLfA_J",
        "outputId": "d0073edc-2d02-4899-8c56-3961aec1b618"
      },
      "execution_count": null,
      "outputs": [
        {
          "output_type": "execute_result",
          "data": {
            "text/plain": [
              "True"
            ]
          },
          "metadata": {},
          "execution_count": 2
        }
      ]
    },
    {
      "cell_type": "code",
      "source": [
        "a=[[]]"
      ],
      "metadata": {
        "id": "4XzZdYPafHSE"
      },
      "execution_count": null,
      "outputs": []
    },
    {
      "cell_type": "code",
      "source": [
        "a[0]"
      ],
      "metadata": {
        "colab": {
          "base_uri": "https://localhost:8080/"
        },
        "id": "7WMdhVTDfQ2j",
        "outputId": "5511e65a-c123-4d45-ba83-ffc3a4b5d685"
      },
      "execution_count": null,
      "outputs": [
        {
          "output_type": "execute_result",
          "data": {
            "text/plain": [
              "[]"
            ]
          },
          "metadata": {},
          "execution_count": 4
        }
      ]
    },
    {
      "cell_type": "code",
      "source": [
        "len(a)"
      ],
      "metadata": {
        "colab": {
          "base_uri": "https://localhost:8080/"
        },
        "id": "hHycTWDdfS4T",
        "outputId": "cf5ca160-e6b0-4662-89f4-a827de3a2dea"
      },
      "execution_count": null,
      "outputs": [
        {
          "output_type": "execute_result",
          "data": {
            "text/plain": [
              "1"
            ]
          },
          "metadata": {},
          "execution_count": 5
        }
      ]
    },
    {
      "cell_type": "code",
      "source": [
        "c={[]}    # set never contain mutable datatype\n",
        "bool(c)"
      ],
      "metadata": {
        "colab": {
          "base_uri": "https://localhost:8080/",
          "height": 182
        },
        "id": "FuKAWa9KfVwz",
        "outputId": "c0bad0ba-4014-4c95-d944-390fbcacc212"
      },
      "execution_count": null,
      "outputs": [
        {
          "output_type": "error",
          "ename": "TypeError",
          "evalue": "ignored",
          "traceback": [
            "\u001b[0;31m---------------------------------------------------------------------------\u001b[0m",
            "\u001b[0;31mTypeError\u001b[0m                                 Traceback (most recent call last)",
            "\u001b[0;32m<ipython-input-7-20d4bf81b613>\u001b[0m in \u001b[0;36m<module>\u001b[0;34m\u001b[0m\n\u001b[0;32m----> 1\u001b[0;31m \u001b[0mc\u001b[0m\u001b[0;34m=\u001b[0m\u001b[0;34m{\u001b[0m\u001b[0;34m[\u001b[0m\u001b[0;34m]\u001b[0m\u001b[0;34m}\u001b[0m    \u001b[0;31m# set never contain mutable datatype\u001b[0m\u001b[0;34m\u001b[0m\u001b[0;34m\u001b[0m\u001b[0m\n\u001b[0m\u001b[1;32m      2\u001b[0m \u001b[0mbool\u001b[0m\u001b[0;34m(\u001b[0m\u001b[0mc\u001b[0m\u001b[0;34m)\u001b[0m\u001b[0;34m\u001b[0m\u001b[0;34m\u001b[0m\u001b[0m\n",
            "\u001b[0;31mTypeError\u001b[0m: unhashable type: 'list'"
          ]
        }
      ]
    },
    {
      "cell_type": "code",
      "source": [
        "d={{}}\n",
        "bool(d)"
      ],
      "metadata": {
        "colab": {
          "base_uri": "https://localhost:8080/",
          "height": 182
        },
        "id": "Xz5WeXbkff8T",
        "outputId": "106ac80e-4ac5-4f25-de00-ae9b2a8d3bcf"
      },
      "execution_count": null,
      "outputs": [
        {
          "output_type": "error",
          "ename": "TypeError",
          "evalue": "ignored",
          "traceback": [
            "\u001b[0;31m---------------------------------------------------------------------------\u001b[0m",
            "\u001b[0;31mTypeError\u001b[0m                                 Traceback (most recent call last)",
            "\u001b[0;32m<ipython-input-8-4efa4cfea109>\u001b[0m in \u001b[0;36m<module>\u001b[0;34m\u001b[0m\n\u001b[0;32m----> 1\u001b[0;31m \u001b[0md\u001b[0m\u001b[0;34m=\u001b[0m\u001b[0;34m{\u001b[0m\u001b[0;34m{\u001b[0m\u001b[0;34m}\u001b[0m\u001b[0;34m}\u001b[0m\u001b[0;34m\u001b[0m\u001b[0;34m\u001b[0m\u001b[0m\n\u001b[0m\u001b[1;32m      2\u001b[0m \u001b[0mbool\u001b[0m\u001b[0;34m(\u001b[0m\u001b[0md\u001b[0m\u001b[0;34m)\u001b[0m\u001b[0;34m\u001b[0m\u001b[0;34m\u001b[0m\u001b[0m\n",
            "\u001b[0;31mTypeError\u001b[0m: unhashable type: 'dict'"
          ]
        }
      ]
    },
    {
      "cell_type": "code",
      "source": [
        "e={{{}}}\n",
        "# f={{set()}}\n",
        "bool(e)"
      ],
      "metadata": {
        "colab": {
          "base_uri": "https://localhost:8080/",
          "height": 200
        },
        "id": "l8IX607jgK77",
        "outputId": "6d67f0b3-afee-4929-de45-0a106a5ab199"
      },
      "execution_count": null,
      "outputs": [
        {
          "output_type": "error",
          "ename": "TypeError",
          "evalue": "ignored",
          "traceback": [
            "\u001b[0;31m---------------------------------------------------------------------------\u001b[0m",
            "\u001b[0;31mTypeError\u001b[0m                                 Traceback (most recent call last)",
            "\u001b[0;32m<ipython-input-9-d160e23a33c3>\u001b[0m in \u001b[0;36m<module>\u001b[0;34m\u001b[0m\n\u001b[0;32m----> 1\u001b[0;31m \u001b[0me\u001b[0m\u001b[0;34m=\u001b[0m\u001b[0;34m{\u001b[0m\u001b[0;34m{\u001b[0m\u001b[0;34m{\u001b[0m\u001b[0;34m}\u001b[0m\u001b[0;34m}\u001b[0m\u001b[0;34m}\u001b[0m\u001b[0;34m\u001b[0m\u001b[0;34m\u001b[0m\u001b[0m\n\u001b[0m\u001b[1;32m      2\u001b[0m \u001b[0;31m# f={{set()}}\u001b[0m\u001b[0;34m\u001b[0m\u001b[0;34m\u001b[0m\u001b[0;34m\u001b[0m\u001b[0m\n\u001b[1;32m      3\u001b[0m \u001b[0mbool\u001b[0m\u001b[0;34m(\u001b[0m\u001b[0me\u001b[0m\u001b[0;34m)\u001b[0m\u001b[0;34m\u001b[0m\u001b[0;34m\u001b[0m\u001b[0m\n",
            "\u001b[0;31mTypeError\u001b[0m: unhashable type: 'dict'"
          ]
        }
      ]
    },
    {
      "cell_type": "code",
      "source": [
        "bool(0)"
      ],
      "metadata": {
        "colab": {
          "base_uri": "https://localhost:8080/"
        },
        "id": "bzxZsXu1gwU0",
        "outputId": "10507e57-c569-4a09-9987-821b76e86de2"
      },
      "execution_count": null,
      "outputs": [
        {
          "output_type": "execute_result",
          "data": {
            "text/plain": [
              "False"
            ]
          },
          "metadata": {},
          "execution_count": 10
        }
      ]
    },
    {
      "cell_type": "code",
      "source": [
        "bool(\" \")"
      ],
      "metadata": {
        "colab": {
          "base_uri": "https://localhost:8080/"
        },
        "id": "4c9xz1iZg29z",
        "outputId": "af6f9da2-ccd0-4062-df5c-2e48a1e3030c"
      },
      "execution_count": null,
      "outputs": [
        {
          "output_type": "execute_result",
          "data": {
            "text/plain": [
              "True"
            ]
          },
          "metadata": {},
          "execution_count": 12
        }
      ]
    },
    {
      "cell_type": "code",
      "source": [
        "bool(\"{[]}\")"
      ],
      "metadata": {
        "colab": {
          "base_uri": "https://localhost:8080/"
        },
        "id": "B3Tz_L5Og_wb",
        "outputId": "79bd5a58-8785-4ea1-e52c-6af89376d38c"
      },
      "execution_count": null,
      "outputs": [
        {
          "output_type": "execute_result",
          "data": {
            "text/plain": [
              "True"
            ]
          },
          "metadata": {},
          "execution_count": 13
        }
      ]
    },
    {
      "cell_type": "code",
      "source": [
        "bool(0.00000000)"
      ],
      "metadata": {
        "colab": {
          "base_uri": "https://localhost:8080/"
        },
        "id": "PwUUvh_ZhZ9t",
        "outputId": "28aaa1e2-759d-4b65-a52a-2a9f7ecd7e79"
      },
      "execution_count": null,
      "outputs": [
        {
          "output_type": "execute_result",
          "data": {
            "text/plain": [
              "False"
            ]
          },
          "metadata": {},
          "execution_count": 15
        }
      ]
    },
    {
      "cell_type": "code",
      "source": [
        "bool(09)"
      ],
      "metadata": {
        "colab": {
          "base_uri": "https://localhost:8080/",
          "height": 130
        },
        "id": "u5DtmfEYhdDD",
        "outputId": "17c65056-cd51-4a59-ab50-bdfde8630a0d"
      },
      "execution_count": null,
      "outputs": [
        {
          "output_type": "error",
          "ename": "SyntaxError",
          "evalue": "ignored",
          "traceback": [
            "\u001b[0;36m  File \u001b[0;32m\"<ipython-input-16-e5d3047367d5>\"\u001b[0;36m, line \u001b[0;32m1\u001b[0m\n\u001b[0;31m    bool(09)\u001b[0m\n\u001b[0m          ^\u001b[0m\n\u001b[0;31mSyntaxError\u001b[0m\u001b[0;31m:\u001b[0m invalid token\n"
          ]
        }
      ]
    },
    {
      "cell_type": "code",
      "source": [
        "a=09.09999     # float can start with 0 like 09.0\n",
        "bool(a)"
      ],
      "metadata": {
        "colab": {
          "base_uri": "https://localhost:8080/"
        },
        "id": "oxozimv-hq4y",
        "outputId": "0af8f69d-5a26-4da0-d3b8-77ef47788f66"
      },
      "execution_count": null,
      "outputs": [
        {
          "output_type": "execute_result",
          "data": {
            "text/plain": [
              "True"
            ]
          },
          "metadata": {},
          "execution_count": 19
        }
      ]
    },
    {
      "cell_type": "code",
      "source": [
        "bool(1+0j)"
      ],
      "metadata": {
        "colab": {
          "base_uri": "https://localhost:8080/"
        },
        "id": "5BxDP9jfiPLi",
        "outputId": "641a6929-2e85-4513-cc09-2db3950f2e50"
      },
      "execution_count": null,
      "outputs": [
        {
          "output_type": "execute_result",
          "data": {
            "text/plain": [
              "True"
            ]
          },
          "metadata": {},
          "execution_count": 22
        }
      ]
    },
    {
      "cell_type": "markdown",
      "source": [
        "# operator\n",
        "\n",
        "+,-,*, * *,&,%,/,//,and, or, not, is not, in , not in, etc"
      ],
      "metadata": {
        "id": "GJz-Ds7Jhw_D"
      }
    },
    {
      "cell_type": "code",
      "source": [
        "a=10\n",
        "b=20\n",
        "print(a+b)"
      ],
      "metadata": {
        "colab": {
          "base_uri": "https://localhost:8080/"
        },
        "id": "l-3qLF50iLMX",
        "outputId": "85465271-91eb-4b32-fa3f-ade670536536"
      },
      "execution_count": null,
      "outputs": [
        {
          "output_type": "stream",
          "name": "stdout",
          "text": [
            "30\n"
          ]
        }
      ]
    },
    {
      "cell_type": "code",
      "source": [
        "print(a-b)"
      ],
      "metadata": {
        "colab": {
          "base_uri": "https://localhost:8080/"
        },
        "id": "zPFYgUzlj5oT",
        "outputId": "f74a5380-aae7-4096-a089-0fa255cdfdce"
      },
      "execution_count": null,
      "outputs": [
        {
          "output_type": "stream",
          "name": "stdout",
          "text": [
            "-10\n"
          ]
        }
      ]
    },
    {
      "cell_type": "code",
      "source": [
        "print(a*b)"
      ],
      "metadata": {
        "colab": {
          "base_uri": "https://localhost:8080/"
        },
        "id": "NFo-csbSj8zr",
        "outputId": "496acfda-dc47-445a-8153-e3a8b4d71104"
      },
      "execution_count": null,
      "outputs": [
        {
          "output_type": "stream",
          "name": "stdout",
          "text": [
            "200\n"
          ]
        }
      ]
    },
    {
      "cell_type": "code",
      "source": [
        "10%3"
      ],
      "metadata": {
        "colab": {
          "base_uri": "https://localhost:8080/"
        },
        "id": "YZHD-ebokBtb",
        "outputId": "d25c697a-54da-48cd-a4af-667e1039bdeb"
      },
      "execution_count": null,
      "outputs": [
        {
          "output_type": "execute_result",
          "data": {
            "text/plain": [
              "1"
            ]
          },
          "metadata": {},
          "execution_count": 26
        }
      ]
    },
    {
      "cell_type": "code",
      "source": [
        "3%10"
      ],
      "metadata": {
        "colab": {
          "base_uri": "https://localhost:8080/"
        },
        "id": "Vp5SgBa4k9MS",
        "outputId": "893d61e8-5389-4a49-e88d-e86082339c14"
      },
      "execution_count": null,
      "outputs": [
        {
          "output_type": "execute_result",
          "data": {
            "text/plain": [
              "3"
            ]
          },
          "metadata": {},
          "execution_count": 27
        }
      ]
    },
    {
      "cell_type": "code",
      "source": [
        "a"
      ],
      "metadata": {
        "colab": {
          "base_uri": "https://localhost:8080/"
        },
        "id": "ZJcFLvrNlC5F",
        "outputId": "621704cc-2a06-42c4-c6c2-1e9a24211499"
      },
      "execution_count": null,
      "outputs": [
        {
          "output_type": "execute_result",
          "data": {
            "text/plain": [
              "10"
            ]
          },
          "metadata": {},
          "execution_count": 28
        }
      ]
    },
    {
      "cell_type": "code",
      "source": [
        "b"
      ],
      "metadata": {
        "colab": {
          "base_uri": "https://localhost:8080/"
        },
        "id": "NFPYcYW3lY5q",
        "outputId": "933211e2-d85f-4af4-fe99-16c895cdc25f"
      },
      "execution_count": null,
      "outputs": [
        {
          "output_type": "execute_result",
          "data": {
            "text/plain": [
              "20"
            ]
          },
          "metadata": {},
          "execution_count": 29
        }
      ]
    },
    {
      "cell_type": "code",
      "source": [
        "a/b"
      ],
      "metadata": {
        "colab": {
          "base_uri": "https://localhost:8080/"
        },
        "id": "LlKk6ZctlZNC",
        "outputId": "1d4672cd-f583-4d5e-fb54-a5f4f38af03e"
      },
      "execution_count": null,
      "outputs": [
        {
          "output_type": "execute_result",
          "data": {
            "text/plain": [
              "0.5"
            ]
          },
          "metadata": {},
          "execution_count": 30
        }
      ]
    },
    {
      "cell_type": "code",
      "source": [
        "a//b"
      ],
      "metadata": {
        "colab": {
          "base_uri": "https://localhost:8080/"
        },
        "id": "Xk4uPpholduC",
        "outputId": "4906ac03-83a1-400c-b558-e7a8c9c7b1c1"
      },
      "execution_count": null,
      "outputs": [
        {
          "output_type": "execute_result",
          "data": {
            "text/plain": [
              "0"
            ]
          },
          "metadata": {},
          "execution_count": 31
        }
      ]
    },
    {
      "cell_type": "code",
      "source": [
        "b//a"
      ],
      "metadata": {
        "colab": {
          "base_uri": "https://localhost:8080/"
        },
        "id": "8CBn9vPgmRW7",
        "outputId": "02ab5139-20a6-459f-e480-d373e4f16c19"
      },
      "execution_count": null,
      "outputs": [
        {
          "output_type": "execute_result",
          "data": {
            "text/plain": [
              "2"
            ]
          },
          "metadata": {},
          "execution_count": 32
        }
      ]
    },
    {
      "cell_type": "code",
      "source": [
        "a**b"
      ],
      "metadata": {
        "colab": {
          "base_uri": "https://localhost:8080/"
        },
        "id": "Fd1ahDHZmUqk",
        "outputId": "b49908ab-b3fd-4fd4-8865-34462caa927c"
      },
      "execution_count": null,
      "outputs": [
        {
          "output_type": "execute_result",
          "data": {
            "text/plain": [
              "100000000000000000000"
            ]
          },
          "metadata": {},
          "execution_count": 35
        }
      ]
    },
    {
      "cell_type": "code",
      "source": [
        "a>b"
      ],
      "metadata": {
        "colab": {
          "base_uri": "https://localhost:8080/"
        },
        "id": "SZbyfcvbmz8b",
        "outputId": "9dc8be44-b5ba-4357-b06a-51c49e52a399"
      },
      "execution_count": null,
      "outputs": [
        {
          "output_type": "execute_result",
          "data": {
            "text/plain": [
              "False"
            ]
          },
          "metadata": {},
          "execution_count": 36
        }
      ]
    },
    {
      "cell_type": "code",
      "source": [
        "a<b"
      ],
      "metadata": {
        "colab": {
          "base_uri": "https://localhost:8080/"
        },
        "id": "6XLSEnaMnk8C",
        "outputId": "f1b5cd2c-2e07-4776-fea7-87da3f7382ed"
      },
      "execution_count": null,
      "outputs": [
        {
          "output_type": "execute_result",
          "data": {
            "text/plain": [
              "True"
            ]
          },
          "metadata": {},
          "execution_count": 37
        }
      ]
    },
    {
      "cell_type": "code",
      "source": [
        "a>b or a<b"
      ],
      "metadata": {
        "colab": {
          "base_uri": "https://localhost:8080/"
        },
        "id": "dv2VQlVwnria",
        "outputId": "5c4161e0-13bf-4b5e-9c2d-37ac07dca2b2"
      },
      "execution_count": null,
      "outputs": [
        {
          "output_type": "execute_result",
          "data": {
            "text/plain": [
              "True"
            ]
          },
          "metadata": {},
          "execution_count": 38
        }
      ]
    },
    {
      "cell_type": "code",
      "source": [
        "a>b and  a<b"
      ],
      "metadata": {
        "colab": {
          "base_uri": "https://localhost:8080/"
        },
        "id": "thOh7B_dp9bx",
        "outputId": "e445f735-ddb8-4457-fec4-02b114c9f2c3"
      },
      "execution_count": null,
      "outputs": [
        {
          "output_type": "execute_result",
          "data": {
            "text/plain": [
              "False"
            ]
          },
          "metadata": {},
          "execution_count": 39
        }
      ]
    },
    {
      "cell_type": "code",
      "source": [
        "a=10\n",
        "bool(a==10)"
      ],
      "metadata": {
        "colab": {
          "base_uri": "https://localhost:8080/"
        },
        "id": "Anb2CLPOqyD5",
        "outputId": "416e874f-ba63-41db-b03e-7919f3c340bf"
      },
      "execution_count": null,
      "outputs": [
        {
          "output_type": "execute_result",
          "data": {
            "text/plain": [
              "True"
            ]
          },
          "metadata": {},
          "execution_count": 44
        }
      ]
    },
    {
      "cell_type": "code",
      "source": [
        "\n",
        "bool(not a==10)"
      ],
      "metadata": {
        "colab": {
          "base_uri": "https://localhost:8080/"
        },
        "id": "AHP0sejErEUR",
        "outputId": "62b4ae99-36fa-44c5-df47-b78e7fc5dc1f"
      },
      "execution_count": null,
      "outputs": [
        {
          "output_type": "execute_result",
          "data": {
            "text/plain": [
              "False"
            ]
          },
          "metadata": {},
          "execution_count": 47
        }
      ]
    },
    {
      "cell_type": "code",
      "source": [
        "a=\"python\""
      ],
      "metadata": {
        "id": "MSYAdOfMrmZM"
      },
      "execution_count": null,
      "outputs": []
    },
    {
      "cell_type": "code",
      "source": [
        "b=\"python is funny language\""
      ],
      "metadata": {
        "id": "UBMJGDVjr3Ew"
      },
      "execution_count": null,
      "outputs": []
    },
    {
      "cell_type": "code",
      "source": [
        "bool(a in b)"
      ],
      "metadata": {
        "colab": {
          "base_uri": "https://localhost:8080/"
        },
        "id": "ZKKqBu-Tr6ix",
        "outputId": "7e4cc8fa-f9ba-4c4e-8267-8aca4a097344"
      },
      "execution_count": null,
      "outputs": [
        {
          "output_type": "execute_result",
          "data": {
            "text/plain": [
              "True"
            ]
          },
          "metadata": {},
          "execution_count": 52
        }
      ]
    },
    {
      "cell_type": "code",
      "source": [
        "bool(a not in b)"
      ],
      "metadata": {
        "colab": {
          "base_uri": "https://localhost:8080/"
        },
        "id": "5qQr3XbDr_ex",
        "outputId": "ac40d1f0-c5a8-4cd3-ffcc-a9e3e52e7108"
      },
      "execution_count": null,
      "outputs": [
        {
          "output_type": "execute_result",
          "data": {
            "text/plain": [
              "False"
            ]
          },
          "metadata": {},
          "execution_count": 53
        }
      ]
    },
    {
      "cell_type": "code",
      "source": [
        "a in not b"
      ],
      "metadata": {
        "colab": {
          "base_uri": "https://localhost:8080/",
          "height": 130
        },
        "id": "bw3PKWHPsNLA",
        "outputId": "59ae6bff-666b-427b-f71c-d331e4914e60"
      },
      "execution_count": null,
      "outputs": [
        {
          "output_type": "error",
          "ename": "SyntaxError",
          "evalue": "ignored",
          "traceback": [
            "\u001b[0;36m  File \u001b[0;32m\"<ipython-input-54-515011432c2e>\"\u001b[0;36m, line \u001b[0;32m1\u001b[0m\n\u001b[0;31m    a in not b\u001b[0m\n\u001b[0m           ^\u001b[0m\n\u001b[0;31mSyntaxError\u001b[0m\u001b[0;31m:\u001b[0m invalid syntax\n"
          ]
        }
      ]
    },
    {
      "cell_type": "code",
      "source": [
        "a=10\n",
        "b=10"
      ],
      "metadata": {
        "id": "xOpQpu30stHx"
      },
      "execution_count": null,
      "outputs": []
    },
    {
      "cell_type": "code",
      "source": [
        "a is b"
      ],
      "metadata": {
        "colab": {
          "base_uri": "https://localhost:8080/"
        },
        "id": "pGoQXipGs8Cx",
        "outputId": "28a341dc-76d5-49d2-cd5d-859a9ff97a9e"
      },
      "execution_count": null,
      "outputs": [
        {
          "output_type": "execute_result",
          "data": {
            "text/plain": [
              "True"
            ]
          },
          "metadata": {},
          "execution_count": 56
        }
      ]
    },
    {
      "cell_type": "code",
      "source": [
        "bool(a is b)"
      ],
      "metadata": {
        "colab": {
          "base_uri": "https://localhost:8080/"
        },
        "id": "8-cLO5ZGtAt5",
        "outputId": "9393fce7-d1c5-4f89-9075-e7e2f165be6b"
      },
      "execution_count": null,
      "outputs": [
        {
          "output_type": "execute_result",
          "data": {
            "text/plain": [
              "True"
            ]
          },
          "metadata": {},
          "execution_count": 57
        }
      ]
    },
    {
      "cell_type": "code",
      "source": [
        "a is not b"
      ],
      "metadata": {
        "colab": {
          "base_uri": "https://localhost:8080/"
        },
        "id": "khiEgtsrtEfo",
        "outputId": "79418b66-2c6f-41a5-f77a-92d0d1055db4"
      },
      "execution_count": null,
      "outputs": [
        {
          "output_type": "execute_result",
          "data": {
            "text/plain": [
              "False"
            ]
          },
          "metadata": {},
          "execution_count": 58
        }
      ]
    },
    {
      "cell_type": "code",
      "source": [
        "bool(a is not b)"
      ],
      "metadata": {
        "colab": {
          "base_uri": "https://localhost:8080/"
        },
        "id": "lLuc8Slpt6Eg",
        "outputId": "c2096347-adf6-43ba-bc21-b8d3b394fdf3"
      },
      "execution_count": null,
      "outputs": [
        {
          "output_type": "execute_result",
          "data": {
            "text/plain": [
              "False"
            ]
          },
          "metadata": {},
          "execution_count": 59
        }
      ]
    },
    {
      "cell_type": "code",
      "source": [
        "a=(\"krishna\",\"Rahul\")\n",
        "print(type(a))"
      ],
      "metadata": {
        "colab": {
          "base_uri": "https://localhost:8080/"
        },
        "id": "-2qjlLjGt9hh",
        "outputId": "1579c6ec-6ca2-44f0-d5bd-636a6b7e9122"
      },
      "execution_count": null,
      "outputs": [
        {
          "output_type": "stream",
          "name": "stdout",
          "text": [
            "<class 'tuple'>\n"
          ]
        }
      ]
    },
    {
      "cell_type": "code",
      "source": [
        "a.index(\"Rahul\")"
      ],
      "metadata": {
        "id": "KinuPeENxbZ_",
        "outputId": "6197f10e-8250-47fd-af9e-e61e9f4db531",
        "colab": {
          "base_uri": "https://localhost:8080/"
        }
      },
      "execution_count": null,
      "outputs": [
        {
          "output_type": "execute_result",
          "data": {
            "text/plain": [
              "1"
            ]
          },
          "metadata": {},
          "execution_count": 61
        }
      ]
    },
    {
      "cell_type": "code",
      "source": [
        "a=10\n",
        "a=a+1\n",
        "print(a)"
      ],
      "metadata": {
        "id": "5PYfnz2txfS3",
        "colab": {
          "base_uri": "https://localhost:8080/"
        },
        "outputId": "c18570a8-57e8-4a9e-fa35-03bf2c57ca42"
      },
      "execution_count": null,
      "outputs": [
        {
          "output_type": "stream",
          "name": "stdout",
          "text": [
            "11\n"
          ]
        }
      ]
    },
    {
      "cell_type": "code",
      "source": [
        "a=a+1\n",
        "print(a)"
      ],
      "metadata": {
        "colab": {
          "base_uri": "https://localhost:8080/"
        },
        "id": "c-k92VMDHNNH",
        "outputId": "e693f5b4-3563-4756-dd9d-d6c7d74528de"
      },
      "execution_count": null,
      "outputs": [
        {
          "output_type": "stream",
          "name": "stdout",
          "text": [
            "12\n"
          ]
        }
      ]
    },
    {
      "cell_type": "code",
      "source": [
        "a+=1\n",
        "print(a)"
      ],
      "metadata": {
        "colab": {
          "base_uri": "https://localhost:8080/"
        },
        "id": "Zo8huQGsHT-x",
        "outputId": "eae334fc-fa25-49e5-f269-7e33002a0042"
      },
      "execution_count": null,
      "outputs": [
        {
          "output_type": "stream",
          "name": "stdout",
          "text": [
            "13\n"
          ]
        }
      ]
    },
    {
      "cell_type": "code",
      "source": [
        "a=a*2\n",
        "print(a)"
      ],
      "metadata": {
        "colab": {
          "base_uri": "https://localhost:8080/"
        },
        "id": "a35YsZnRHXW6",
        "outputId": "697e6444-206f-438f-ac56-5efac2fae5c4"
      },
      "execution_count": null,
      "outputs": [
        {
          "output_type": "stream",
          "name": "stdout",
          "text": [
            "26\n"
          ]
        }
      ]
    },
    {
      "cell_type": "code",
      "source": [
        "a*=2\n",
        "print(a)"
      ],
      "metadata": {
        "colab": {
          "base_uri": "https://localhost:8080/"
        },
        "id": "t5VB4k3ZHl9Z",
        "outputId": "b1bfbcdd-9ce1-4faa-9abb-71cbfabe01b9"
      },
      "execution_count": null,
      "outputs": [
        {
          "output_type": "stream",
          "name": "stdout",
          "text": [
            "52\n"
          ]
        }
      ]
    },
    {
      "cell_type": "code",
      "source": [
        "a=a/2\n",
        "print(a)"
      ],
      "metadata": {
        "colab": {
          "base_uri": "https://localhost:8080/"
        },
        "id": "MjqqLPmBHqfp",
        "outputId": "76883a71-5a30-4573-e7a8-a1f55399299e"
      },
      "execution_count": null,
      "outputs": [
        {
          "output_type": "stream",
          "name": "stdout",
          "text": [
            "26.0\n"
          ]
        }
      ]
    },
    {
      "cell_type": "code",
      "source": [
        "a/=2\n",
        "print(a)"
      ],
      "metadata": {
        "colab": {
          "base_uri": "https://localhost:8080/"
        },
        "id": "79D32RlLHv6a",
        "outputId": "ecb5678b-758f-4532-e153-42dfce3dbbd3"
      },
      "execution_count": null,
      "outputs": [
        {
          "output_type": "stream",
          "name": "stdout",
          "text": [
            "13.0\n"
          ]
        }
      ]
    },
    {
      "cell_type": "code",
      "source": [
        "a=a%2"
      ],
      "metadata": {
        "id": "qPCm4-dIH1BZ"
      },
      "execution_count": null,
      "outputs": []
    },
    {
      "cell_type": "code",
      "source": [
        "print(a)"
      ],
      "metadata": {
        "colab": {
          "base_uri": "https://localhost:8080/"
        },
        "id": "N77iSJlYIHgJ",
        "outputId": "8b33097a-06a9-48a7-f319-625e5fa07f97"
      },
      "execution_count": null,
      "outputs": [
        {
          "output_type": "stream",
          "name": "stdout",
          "text": [
            "1.0\n"
          ]
        }
      ]
    },
    {
      "cell_type": "code",
      "source": [
        "a%=2\n",
        "print(a)"
      ],
      "metadata": {
        "colab": {
          "base_uri": "https://localhost:8080/"
        },
        "id": "C6gx6NkuIImu",
        "outputId": "1f37d397-15a6-412d-ca00-2d12de96bbb4"
      },
      "execution_count": null,
      "outputs": [
        {
          "output_type": "stream",
          "name": "stdout",
          "text": [
            "1.0\n"
          ]
        }
      ]
    },
    {
      "cell_type": "markdown",
      "source": [
        "# Bitwise Operators\n",
        "\n",
        "~,|,&,<<,>>"
      ],
      "metadata": {
        "id": "_u5fJYZmIO2B"
      }
    },
    {
      "cell_type": "code",
      "source": [
        "~12"
      ],
      "metadata": {
        "colab": {
          "base_uri": "https://localhost:8080/"
        },
        "id": "vJ4Fov-RIcGj",
        "outputId": "8ccabcde-0a06-4aa1-fc35-0c0e161d468a"
      },
      "execution_count": null,
      "outputs": [
        {
          "output_type": "execute_result",
          "data": {
            "text/plain": [
              "-13"
            ]
          },
          "metadata": {},
          "execution_count": 12
        }
      ]
    },
    {
      "cell_type": "code",
      "source": [
        "12|13"
      ],
      "metadata": {
        "colab": {
          "base_uri": "https://localhost:8080/"
        },
        "id": "hB5dzHdyIyxR",
        "outputId": "63f6ad42-1e85-441c-af27-9bae667fe985"
      },
      "execution_count": null,
      "outputs": [
        {
          "output_type": "execute_result",
          "data": {
            "text/plain": [
              "13"
            ]
          },
          "metadata": {},
          "execution_count": 13
        }
      ]
    },
    {
      "cell_type": "code",
      "source": [
        "bin(12)"
      ],
      "metadata": {
        "colab": {
          "base_uri": "https://localhost:8080/",
          "height": 35
        },
        "id": "mlVwLOOzLKCZ",
        "outputId": "28f2ea2b-2916-48b7-b582-13c4187beb78"
      },
      "execution_count": null,
      "outputs": [
        {
          "output_type": "execute_result",
          "data": {
            "text/plain": [
              "'0b1100'"
            ],
            "application/vnd.google.colaboratory.intrinsic+json": {
              "type": "string"
            }
          },
          "metadata": {},
          "execution_count": 14
        }
      ]
    },
    {
      "cell_type": "code",
      "source": [
        "bin(13)"
      ],
      "metadata": {
        "colab": {
          "base_uri": "https://localhost:8080/",
          "height": 35
        },
        "id": "9wKrsxeVLNdB",
        "outputId": "0af813e0-cba8-43ad-dcbd-d56ba1b44714"
      },
      "execution_count": null,
      "outputs": [
        {
          "output_type": "execute_result",
          "data": {
            "text/plain": [
              "'0b1101'"
            ],
            "application/vnd.google.colaboratory.intrinsic+json": {
              "type": "string"
            }
          },
          "metadata": {},
          "execution_count": 15
        }
      ]
    },
    {
      "cell_type": "code",
      "source": [
        "12&13"
      ],
      "metadata": {
        "colab": {
          "base_uri": "https://localhost:8080/"
        },
        "id": "XplaPBcHLRyo",
        "outputId": "8592c14c-9b56-4e7c-e83f-f5364ead71d9"
      },
      "execution_count": null,
      "outputs": [
        {
          "output_type": "execute_result",
          "data": {
            "text/plain": [
              "12"
            ]
          },
          "metadata": {},
          "execution_count": 16
        }
      ]
    },
    {
      "cell_type": "code",
      "source": [
        "12<<2   # left shift"
      ],
      "metadata": {
        "colab": {
          "base_uri": "https://localhost:8080/"
        },
        "id": "_O0I8tDXMslA",
        "outputId": "a0167f1c-7fff-4f26-c4bc-1d847f9a9c42"
      },
      "execution_count": null,
      "outputs": [
        {
          "output_type": "execute_result",
          "data": {
            "text/plain": [
              "48"
            ]
          },
          "metadata": {},
          "execution_count": 17
        }
      ]
    },
    {
      "cell_type": "code",
      "source": [
        "12>>2    # right shift"
      ],
      "metadata": {
        "colab": {
          "base_uri": "https://localhost:8080/"
        },
        "id": "DaBdyWLlNCtZ",
        "outputId": "3ef9c02e-cdfc-47ad-df6c-f7b98f8589c6"
      },
      "execution_count": null,
      "outputs": [
        {
          "output_type": "execute_result",
          "data": {
            "text/plain": [
              "3"
            ]
          },
          "metadata": {},
          "execution_count": 18
        }
      ]
    },
    {
      "cell_type": "code",
      "source": [
        "12>>1"
      ],
      "metadata": {
        "colab": {
          "base_uri": "https://localhost:8080/"
        },
        "id": "tKmUZoMgO9qQ",
        "outputId": "8a4fbdbb-79d4-4866-e94c-0244064d9cb6"
      },
      "execution_count": null,
      "outputs": [
        {
          "output_type": "execute_result",
          "data": {
            "text/plain": [
              "6"
            ]
          },
          "metadata": {},
          "execution_count": 19
        }
      ]
    },
    {
      "cell_type": "code",
      "source": [
        "a=int(input(\"Kindly enter 4 digit atm pin:\"))"
      ],
      "metadata": {
        "colab": {
          "base_uri": "https://localhost:8080/"
        },
        "id": "riOyxDwIPyYy",
        "outputId": "c3e9e597-3835-401a-cf69-e19520089886"
      },
      "execution_count": null,
      "outputs": [
        {
          "name": "stdout",
          "output_type": "stream",
          "text": [
            "Kindly enter 4 digit atm pin:9807\n"
          ]
        }
      ]
    },
    {
      "cell_type": "code",
      "source": [
        "a"
      ],
      "metadata": {
        "colab": {
          "base_uri": "https://localhost:8080/"
        },
        "id": "za6thD2GRHCH",
        "outputId": "b44150be-dcc6-4ba5-cf65-4bee4afe2e62"
      },
      "execution_count": null,
      "outputs": [
        {
          "output_type": "execute_result",
          "data": {
            "text/plain": [
              "9807"
            ]
          },
          "metadata": {},
          "execution_count": 24
        }
      ]
    },
    {
      "cell_type": "code",
      "source": [
        "b=str(a)"
      ],
      "metadata": {
        "id": "es-VQhySRNbn"
      },
      "execution_count": null,
      "outputs": []
    },
    {
      "cell_type": "code",
      "source": [
        "b"
      ],
      "metadata": {
        "colab": {
          "base_uri": "https://localhost:8080/",
          "height": 35
        },
        "id": "_fp-fCyKRqxP",
        "outputId": "91f7ce5b-eefd-472b-a9b8-6b328afc3648"
      },
      "execution_count": null,
      "outputs": [
        {
          "output_type": "execute_result",
          "data": {
            "text/plain": [
              "'9807'"
            ],
            "application/vnd.google.colaboratory.intrinsic+json": {
              "type": "string"
            }
          },
          "metadata": {},
          "execution_count": 26
        }
      ]
    },
    {
      "cell_type": "code",
      "source": [
        "print(\"Hello world\")\n",
        "print(\"Hello world\")\n",
        "print(\"Hello world\")\n",
        "print(\"Hello world\")\n",
        "print(\"Hello world\")\n",
        "print(\"Hello world\")\n",
        "print(\"Hello world\")\n",
        "print(\"Hello world\")\n",
        "print(\"Hello world\")\n",
        "print(\"Hello world\")"
      ],
      "metadata": {
        "colab": {
          "base_uri": "https://localhost:8080/"
        },
        "id": "dK6HRHhqRrEh",
        "outputId": "76c7a98e-458a-4ddd-d83b-8ae023ba091a"
      },
      "execution_count": null,
      "outputs": [
        {
          "output_type": "stream",
          "name": "stdout",
          "text": [
            "Hello world\n",
            "Hello world\n",
            "Hello world\n",
            "Hello world\n",
            "Hello world\n",
            "Hello world\n",
            "Hello world\n",
            "Hello world\n",
            "Hello world\n",
            "Hello world\n"
          ]
        }
      ]
    },
    {
      "cell_type": "markdown",
      "source": [
        "# Loop\n",
        "\n",
        "> For Loop   : ----------> when number of iteration known\n",
        "\n",
        "> While loop : ----------> when number of iteration is not known"
      ],
      "metadata": {
        "id": "qL2zXdJVTlWU"
      }
    },
    {
      "cell_type": "markdown",
      "source": [
        "# Syntex of for loop\n",
        "\n",
        "for condition:\n",
        "\n",
        "  statement \n",
        "  "
      ],
      "metadata": {
        "id": "VO6n1ivmUba_"
      }
    },
    {
      "cell_type": "code",
      "source": [
        "for i in range(11):\n",
        "  print(i,\"Hello world\")"
      ],
      "metadata": {
        "colab": {
          "base_uri": "https://localhost:8080/"
        },
        "id": "Ky2SW-Q3SUCX",
        "outputId": "600146d0-440b-4eaa-deb8-81e1bae2bffb"
      },
      "execution_count": null,
      "outputs": [
        {
          "output_type": "stream",
          "name": "stdout",
          "text": [
            "0 Hello world\n",
            "1 Hello world\n",
            "2 Hello world\n",
            "3 Hello world\n",
            "4 Hello world\n",
            "5 Hello world\n",
            "6 Hello world\n",
            "7 Hello world\n",
            "8 Hello world\n",
            "9 Hello world\n",
            "10 Hello world\n"
          ]
        }
      ]
    },
    {
      "cell_type": "code",
      "source": [
        "range(11)"
      ],
      "metadata": {
        "colab": {
          "base_uri": "https://localhost:8080/"
        },
        "id": "GZ7UrVStTFLn",
        "outputId": "6d6d5378-fa9a-4bd6-de6c-451bce0d80a8"
      },
      "execution_count": null,
      "outputs": [
        {
          "output_type": "execute_result",
          "data": {
            "text/plain": [
              "range(0, 11)"
            ]
          },
          "metadata": {},
          "execution_count": 31
        }
      ]
    },
    {
      "cell_type": "code",
      "source": [
        "a=[\"krishna\",\"ram\", \"Abdul\"]"
      ],
      "metadata": {
        "id": "whI9oS13U4b3"
      },
      "execution_count": null,
      "outputs": []
    },
    {
      "cell_type": "code",
      "source": [
        "for i in a:\n",
        "  print(i)"
      ],
      "metadata": {
        "colab": {
          "base_uri": "https://localhost:8080/"
        },
        "id": "xxOgcQUUVgMH",
        "outputId": "7fd4f0be-2d70-4468-a7b4-c2b4e7ab07d1"
      },
      "execution_count": null,
      "outputs": [
        {
          "output_type": "stream",
          "name": "stdout",
          "text": [
            "krishna\n",
            "ram\n",
            "Abdul\n"
          ]
        }
      ]
    },
    {
      "cell_type": "code",
      "source": [
        "a=[1,2,3,4,5]    # iterable\n",
        "for i in a:    # iterator\n",
        "  print(i)     #iterate"
      ],
      "metadata": {
        "id": "CyOMoHoAWvlf",
        "colab": {
          "base_uri": "https://localhost:8080/"
        },
        "outputId": "119af796-7b47-4730-c5b6-ec75858e0b2e"
      },
      "execution_count": null,
      "outputs": [
        {
          "output_type": "stream",
          "name": "stdout",
          "text": [
            "1\n",
            "2\n",
            "3\n",
            "4\n",
            "5\n"
          ]
        }
      ]
    },
    {
      "cell_type": "code",
      "source": [
        "a=[1,2,3,4,5] \n",
        "i=1\n",
        "if i in a:\n",
        "  print (\"True\")\n",
        "else:\n",
        "  print(\"False\")"
      ],
      "metadata": {
        "colab": {
          "base_uri": "https://localhost:8080/"
        },
        "id": "P0R1vZeVOB2z",
        "outputId": "b8689262-101b-479d-8407-41c5baf8fd68"
      },
      "execution_count": null,
      "outputs": [
        {
          "output_type": "stream",
          "name": "stdout",
          "text": [
            "True\n"
          ]
        }
      ]
    },
    {
      "cell_type": "code",
      "source": [
        "i=\"*\"\n",
        "for i+*\n",
        "print(i)"
      ],
      "metadata": {
        "id": "tugVvdiUOdlc",
        "colab": {
          "base_uri": "https://localhost:8080/",
          "height": 130
        },
        "outputId": "9b0a779b-9d09-47dd-8c46-e99b3917dddc"
      },
      "execution_count": null,
      "outputs": [
        {
          "output_type": "error",
          "ename": "SyntaxError",
          "evalue": "ignored",
          "traceback": [
            "\u001b[0;36m  File \u001b[0;32m\"<ipython-input-4-b84c43940050>\"\u001b[0;36m, line \u001b[0;32m2\u001b[0m\n\u001b[0;31m    for i+*\u001b[0m\n\u001b[0m          ^\u001b[0m\n\u001b[0;31mSyntaxError\u001b[0m\u001b[0;31m:\u001b[0m invalid syntax\n"
          ]
        }
      ]
    },
    {
      "cell_type": "code",
      "source": [
        "for i in range(0,5,1): # column\n",
        "  for j in range(0,5,1): # rows\n",
        "    print(\"*\",end=\"\")\n",
        "  print()"
      ],
      "metadata": {
        "colab": {
          "base_uri": "https://localhost:8080/"
        },
        "id": "f45iQ4I9kFO6",
        "outputId": "b4189b42-34cf-4d5e-8d4e-ceff1f62ebf0"
      },
      "execution_count": null,
      "outputs": [
        {
          "output_type": "stream",
          "name": "stdout",
          "text": [
            "*****\n",
            "*****\n",
            "*****\n",
            "*****\n",
            "*****\n"
          ]
        }
      ]
    },
    {
      "cell_type": "code",
      "source": [
        "for i in range(0,5,1): # column\n",
        "  for j in range(0,i+1,1): # rows\n",
        "    print(\"*\",end=\"\")\n",
        "  print()"
      ],
      "metadata": {
        "colab": {
          "base_uri": "https://localhost:8080/"
        },
        "id": "3tevH3OHkd7x",
        "outputId": "a23f955d-a880-40e5-a86f-b4ace8ab1f65"
      },
      "execution_count": null,
      "outputs": [
        {
          "output_type": "stream",
          "name": "stdout",
          "text": [
            "*\n",
            "**\n",
            "***\n",
            "****\n",
            "*****\n"
          ]
        }
      ]
    },
    {
      "cell_type": "code",
      "source": [
        "for i in range(0,5,1):\n",
        "    print(\" \"*(4-i)+\"*\"*(i+1)+\"*\"*(i))"
      ],
      "metadata": {
        "id": "VdPM5K0ulLyK",
        "colab": {
          "base_uri": "https://localhost:8080/"
        },
        "outputId": "c36c797b-c931-4683-bc84-2be2d2768852"
      },
      "execution_count": null,
      "outputs": [
        {
          "output_type": "stream",
          "name": "stdout",
          "text": [
            "    *\n",
            "   ***\n",
            "  *****\n",
            " *******\n",
            "*********\n"
          ]
        }
      ]
    },
    {
      "cell_type": "code",
      "source": [
        "for i in range(0,5,1):\n",
        "    print(\" \"*(4-i)+\"1 \"*(i+1))"
      ],
      "metadata": {
        "colab": {
          "base_uri": "https://localhost:8080/"
        },
        "id": "V3ML-JsUr6nY",
        "outputId": "a81492de-405e-4d63-ea11-dec23af87846"
      },
      "execution_count": null,
      "outputs": [
        {
          "output_type": "stream",
          "name": "stdout",
          "text": [
            "    1 \n",
            "   1 1 \n",
            "  1 1 1 \n",
            " 1 1 1 1 \n",
            "1 1 1 1 1 \n"
          ]
        }
      ]
    },
    {
      "cell_type": "code",
      "source": [
        "for i in range(0,5,1):\n",
        "  for j in range(0,i+1,1):\n",
        "    print(j+1,end=\"\")\n",
        "  print()\n"
      ],
      "metadata": {
        "colab": {
          "base_uri": "https://localhost:8080/"
        },
        "id": "Zim-UuHNsmWs",
        "outputId": "ebdfc54c-c249-4223-9369-b57e051774f0"
      },
      "execution_count": null,
      "outputs": [
        {
          "output_type": "stream",
          "name": "stdout",
          "text": [
            "1\n",
            "12\n",
            "123\n",
            "1234\n",
            "12345\n"
          ]
        }
      ]
    },
    {
      "cell_type": "markdown",
      "source": [
        "# function"
      ],
      "metadata": {
        "id": "9OdyFbvQuC0m"
      }
    },
    {
      "cell_type": "code",
      "source": [
        "print(\"Hello world\")\n",
        "print(\"Hello world\")\n",
        "print(\"Hello world\")\n",
        "print(\"Hello world\")\n",
        "print(\"Hello world\")"
      ],
      "metadata": {
        "colab": {
          "base_uri": "https://localhost:8080/"
        },
        "id": "dLMDJH67xZpu",
        "outputId": "f1bbac6d-4346-4ba7-f473-d6078d6f6254"
      },
      "execution_count": null,
      "outputs": [
        {
          "output_type": "stream",
          "name": "stdout",
          "text": [
            "Hello world\n",
            "Hello world\n",
            "Hello world\n",
            "Hello world\n",
            "Hello world\n"
          ]
        }
      ]
    },
    {
      "cell_type": "code",
      "source": [
        "for i in range(5):\n",
        "  print(\"Hello world\")"
      ],
      "metadata": {
        "colab": {
          "base_uri": "https://localhost:8080/"
        },
        "id": "759ytiv1ybsh",
        "outputId": "71e2afb5-2bca-467c-f649-131c669f2c4c"
      },
      "execution_count": null,
      "outputs": [
        {
          "output_type": "stream",
          "name": "stdout",
          "text": [
            "Hello world\n",
            "Hello world\n",
            "Hello world\n",
            "Hello world\n",
            "Hello world\n"
          ]
        }
      ]
    },
    {
      "cell_type": "code",
      "source": [
        "def hello():\n",
        "  for i in range(5):\n",
        "    print(\"Hello world\")"
      ],
      "metadata": {
        "id": "AOorVIZZyhfZ"
      },
      "execution_count": null,
      "outputs": []
    },
    {
      "cell_type": "code",
      "source": [
        "print(\"this is krishna\")"
      ],
      "metadata": {
        "colab": {
          "base_uri": "https://localhost:8080/"
        },
        "id": "wl6s7Cr-zC5x",
        "outputId": "1cbb8c8e-3413-4e3e-96e2-536f183737b6"
      },
      "execution_count": null,
      "outputs": [
        {
          "output_type": "stream",
          "name": "stdout",
          "text": [
            "this is krishna\n"
          ]
        }
      ]
    },
    {
      "cell_type": "code",
      "source": [
        "hello()"
      ],
      "metadata": {
        "colab": {
          "base_uri": "https://localhost:8080/"
        },
        "id": "tKvAPZ4KzHV0",
        "outputId": "3821d01a-4968-4324-a8a8-6661a22be49e"
      },
      "execution_count": null,
      "outputs": [
        {
          "output_type": "stream",
          "name": "stdout",
          "text": [
            "Hello world\n",
            "Hello world\n",
            "Hello world\n",
            "Hello world\n",
            "Hello world\n"
          ]
        }
      ]
    },
    {
      "cell_type": "code",
      "source": [
        "print(\"You are Abdul\" )"
      ],
      "metadata": {
        "colab": {
          "base_uri": "https://localhost:8080/"
        },
        "id": "dptRkaPKzdYS",
        "outputId": "bd3b4969-bea2-4692-a7aa-6d2849e84fba"
      },
      "execution_count": null,
      "outputs": [
        {
          "output_type": "stream",
          "name": "stdout",
          "text": [
            "You are Abdul\n"
          ]
        }
      ]
    },
    {
      "cell_type": "code",
      "source": [
        "hello()"
      ],
      "metadata": {
        "colab": {
          "base_uri": "https://localhost:8080/"
        },
        "id": "ceWcq0ZHzmpI",
        "outputId": "e31e9a03-ec72-4dd9-f03b-2b30239bd4bc"
      },
      "execution_count": null,
      "outputs": [
        {
          "output_type": "stream",
          "name": "stdout",
          "text": [
            "Hello world\n",
            "Hello world\n",
            "Hello world\n",
            "Hello world\n",
            "Hello world\n"
          ]
        }
      ]
    },
    {
      "cell_type": "code",
      "source": [
        "def sum():\n",
        "  a=10\n",
        "  b=20\n",
        "  print(a+b)"
      ],
      "metadata": {
        "id": "iCjdUsLzzoMo"
      },
      "execution_count": null,
      "outputs": []
    },
    {
      "cell_type": "code",
      "source": [
        "sum()"
      ],
      "metadata": {
        "colab": {
          "base_uri": "https://localhost:8080/"
        },
        "id": "aQFpMpy-z38Q",
        "outputId": "c3523f5a-e5c9-48b3-9680-ccaf89e03922"
      },
      "execution_count": null,
      "outputs": [
        {
          "output_type": "stream",
          "name": "stdout",
          "text": [
            "30\n"
          ]
        }
      ]
    },
    {
      "cell_type": "code",
      "source": [
        "def sum2(a,b):\n",
        "  print(a+b)"
      ],
      "metadata": {
        "id": "qBDf-87mz5yQ"
      },
      "execution_count": null,
      "outputs": []
    },
    {
      "cell_type": "code",
      "source": [
        "sum2(2,3)"
      ],
      "metadata": {
        "colab": {
          "base_uri": "https://localhost:8080/"
        },
        "id": "EKpzEJyy0EyQ",
        "outputId": "1187187c-8010-4078-93be-bc23a9fa9828"
      },
      "execution_count": null,
      "outputs": [
        {
          "output_type": "stream",
          "name": "stdout",
          "text": [
            "5\n"
          ]
        }
      ]
    },
    {
      "cell_type": "code",
      "source": [
        "sum2(10,20)"
      ],
      "metadata": {
        "id": "p3W0Ildi0GzA",
        "outputId": "dfc98268-d8db-4122-9205-6efc142c1994",
        "colab": {
          "base_uri": "https://localhost:8080/"
        }
      },
      "execution_count": null,
      "outputs": [
        {
          "output_type": "stream",
          "name": "stdout",
          "text": [
            "30\n"
          ]
        }
      ]
    },
    {
      "cell_type": "code",
      "source": [
        "print(\"mango\",\"apple\",\"orange\",end=\"\\n\")\n",
        "print(\"Hello world\")"
      ],
      "metadata": {
        "id": "NWj-P0J80IxR",
        "colab": {
          "base_uri": "https://localhost:8080/"
        },
        "outputId": "6454fbdc-76fa-447e-c6b6-6b188eb3e9a2"
      },
      "execution_count": null,
      "outputs": [
        {
          "output_type": "stream",
          "name": "stdout",
          "text": [
            "mango apple orange\n",
            "Hello world\n"
          ]
        }
      ]
    },
    {
      "cell_type": "code",
      "source": [
        "print(\"mango\",\"apple\",\"orange\",sep=\"_\",end=\" \")\n",
        "print(\"Hello world\")"
      ],
      "metadata": {
        "colab": {
          "base_uri": "https://localhost:8080/"
        },
        "id": "bGjFaMNzGhaX",
        "outputId": "d46e5d37-5f35-4057-8bca-6e4f2a1b4111"
      },
      "execution_count": null,
      "outputs": [
        {
          "output_type": "stream",
          "name": "stdout",
          "text": [
            "mango_apple_orange Hello world\n"
          ]
        }
      ]
    },
    {
      "cell_type": "code",
      "source": [
        "for i in range(4):\n",
        "  print(\"Hello world\")"
      ],
      "metadata": {
        "colab": {
          "base_uri": "https://localhost:8080/"
        },
        "id": "pyxEmV6SGym3",
        "outputId": "dc4d5e45-980b-4477-ac53-dbccd5354e1c"
      },
      "execution_count": null,
      "outputs": [
        {
          "output_type": "stream",
          "name": "stdout",
          "text": [
            "Hello world\n",
            "Hello world\n",
            "Hello world\n",
            "Hello world\n"
          ]
        }
      ]
    },
    {
      "cell_type": "code",
      "source": [
        "for i in range(4):\n",
        "  print(\"Hello world\")"
      ],
      "metadata": {
        "colab": {
          "base_uri": "https://localhost:8080/"
        },
        "id": "n1RKScV9He0K",
        "outputId": "9b41cce6-4ada-42a4-b227-825cb1bd2b9e"
      },
      "execution_count": null,
      "outputs": [
        {
          "output_type": "stream",
          "name": "stdout",
          "text": [
            "Hello world\n",
            "Hello world\n",
            "Hello world\n",
            "Hello world\n"
          ]
        }
      ]
    },
    {
      "cell_type": "code",
      "source": [
        "print(\"hello world\")\n",
        "print(\"hello world\")\n",
        "print(\"hello world\")\n",
        "print(\"hello world\")"
      ],
      "metadata": {
        "id": "fng7MQNcH2ek",
        "colab": {
          "base_uri": "https://localhost:8080/"
        },
        "outputId": "f9ed1ce1-3c2f-4225-9b86-e88023c8a756"
      },
      "execution_count": null,
      "outputs": [
        {
          "output_type": "stream",
          "name": "stdout",
          "text": [
            "hello world\n",
            "hello world\n",
            "hello world\n",
            "hello world\n"
          ]
        }
      ]
    },
    {
      "cell_type": "code",
      "source": [
        "for i in range(4):\n",
        "  print(\"Hello world\")"
      ],
      "metadata": {
        "colab": {
          "base_uri": "https://localhost:8080/"
        },
        "id": "4obtIbTJIjoX",
        "outputId": "14bddc77-fc58-466f-8880-bce11666f62b"
      },
      "execution_count": null,
      "outputs": [
        {
          "output_type": "stream",
          "name": "stdout",
          "text": [
            "Hello world\n",
            "Hello world\n",
            "Hello world\n",
            "Hello world\n"
          ]
        }
      ]
    },
    {
      "cell_type": "code",
      "source": [
        "def hello():\n",
        "  for i in range(4):\n",
        "    print(\"hello world\")"
      ],
      "metadata": {
        "id": "HxuJtvs2IuC9"
      },
      "execution_count": null,
      "outputs": []
    },
    {
      "cell_type": "code",
      "source": [
        "hello()"
      ],
      "metadata": {
        "colab": {
          "base_uri": "https://localhost:8080/"
        },
        "id": "FLHDNIhsJA_8",
        "outputId": "af497049-a1c9-4b48-b7b0-9796cbafdc64"
      },
      "execution_count": null,
      "outputs": [
        {
          "output_type": "stream",
          "name": "stdout",
          "text": [
            "hello world\n",
            "hello world\n",
            "hello world\n",
            "hello world\n"
          ]
        }
      ]
    },
    {
      "cell_type": "code",
      "source": [
        "\n",
        "hello()"
      ],
      "metadata": {
        "colab": {
          "base_uri": "https://localhost:8080/"
        },
        "id": "CHXbeOriJFQE",
        "outputId": "3339b5d8-1736-44cc-ad07-159b80fb1e4b"
      },
      "execution_count": null,
      "outputs": [
        {
          "output_type": "stream",
          "name": "stdout",
          "text": [
            "hello world\n",
            "hello world\n",
            "hello world\n",
            "hello world\n"
          ]
        }
      ]
    },
    {
      "cell_type": "code",
      "source": [
        "def hello(a):\n",
        "  for i in range(a):\n",
        "    print(\"hello world\")"
      ],
      "metadata": {
        "id": "zXO6C9P6JG-c"
      },
      "execution_count": null,
      "outputs": []
    },
    {
      "cell_type": "code",
      "source": [
        "hello(10)"
      ],
      "metadata": {
        "colab": {
          "base_uri": "https://localhost:8080/"
        },
        "id": "HD6iNW5bKVHN",
        "outputId": "775fc4f0-9e22-44ee-931d-9d8984e8d645"
      },
      "execution_count": null,
      "outputs": [
        {
          "output_type": "stream",
          "name": "stdout",
          "text": [
            "hello world\n",
            "hello world\n",
            "hello world\n",
            "hello world\n",
            "hello world\n",
            "hello world\n",
            "hello world\n",
            "hello world\n",
            "hello world\n",
            "hello world\n"
          ]
        }
      ]
    },
    {
      "cell_type": "code",
      "source": [
        "hello()"
      ],
      "metadata": {
        "colab": {
          "base_uri": "https://localhost:8080/",
          "height": 165
        },
        "id": "DxXRc2nkKYF7",
        "outputId": "6855a692-1061-4ce3-80f6-34dd108aef82"
      },
      "execution_count": null,
      "outputs": [
        {
          "output_type": "error",
          "ename": "TypeError",
          "evalue": "ignored",
          "traceback": [
            "\u001b[0;31m---------------------------------------------------------------------------\u001b[0m",
            "\u001b[0;31mTypeError\u001b[0m                                 Traceback (most recent call last)",
            "\u001b[0;32m<ipython-input-17-a75d7781aaeb>\u001b[0m in \u001b[0;36m<module>\u001b[0;34m\u001b[0m\n\u001b[0;32m----> 1\u001b[0;31m \u001b[0mhello\u001b[0m\u001b[0;34m(\u001b[0m\u001b[0;34m)\u001b[0m\u001b[0;34m\u001b[0m\u001b[0;34m\u001b[0m\u001b[0m\n\u001b[0m",
            "\u001b[0;31mTypeError\u001b[0m: hello() missing 1 required positional argument: 'a'"
          ]
        }
      ]
    },
    {
      "cell_type": "code",
      "source": [
        "hello(5)"
      ],
      "metadata": {
        "colab": {
          "base_uri": "https://localhost:8080/"
        },
        "id": "HXu3EdIPKa9D",
        "outputId": "58bed09e-4176-4131-c095-aaf916f5502a"
      },
      "execution_count": null,
      "outputs": [
        {
          "output_type": "stream",
          "name": "stdout",
          "text": [
            "hello world\n",
            "hello world\n",
            "hello world\n",
            "hello world\n"
          ]
        }
      ]
    },
    {
      "cell_type": "code",
      "source": [
        "def sum(a,b,c=0):\n",
        "  print(a+b+c)"
      ],
      "metadata": {
        "id": "5Y8zsW3JKi0E"
      },
      "execution_count": null,
      "outputs": []
    },
    {
      "cell_type": "code",
      "source": [
        "sum(2,3,4)"
      ],
      "metadata": {
        "colab": {
          "base_uri": "https://localhost:8080/"
        },
        "id": "o2PWESwiLcBE",
        "outputId": "78d8cb82-8133-4816-c5a6-7707b478b0da"
      },
      "execution_count": null,
      "outputs": [
        {
          "output_type": "stream",
          "name": "stdout",
          "text": [
            "9\n"
          ]
        }
      ]
    },
    {
      "cell_type": "code",
      "source": [
        "sum(1000000000000,20333.0000,3232344.543445)"
      ],
      "metadata": {
        "colab": {
          "base_uri": "https://localhost:8080/"
        },
        "id": "x05g2sR0LfEU",
        "outputId": "57e1786a-1402-4362-efd9-e51a3d85f03a"
      },
      "execution_count": null,
      "outputs": [
        {
          "output_type": "stream",
          "name": "stdout",
          "text": [
            "1000003252677.5435\n"
          ]
        }
      ]
    },
    {
      "cell_type": "code",
      "source": [
        "sum(2,3)"
      ],
      "metadata": {
        "colab": {
          "base_uri": "https://localhost:8080/"
        },
        "id": "9M3qpIUVLl08",
        "outputId": "a956dec7-2a91-4a03-f974-4d5a85511226"
      },
      "execution_count": null,
      "outputs": [
        {
          "output_type": "stream",
          "name": "stdout",
          "text": [
            "5\n"
          ]
        }
      ]
    },
    {
      "cell_type": "code",
      "source": [
        "sum(2,3,10)"
      ],
      "metadata": {
        "colab": {
          "base_uri": "https://localhost:8080/"
        },
        "id": "z_zmgld4LtA8",
        "outputId": "048a7d04-995a-44a8-f942-42b0f59cebda"
      },
      "execution_count": null,
      "outputs": [
        {
          "output_type": "stream",
          "name": "stdout",
          "text": [
            "15\n"
          ]
        }
      ]
    },
    {
      "cell_type": "code",
      "source": [
        "a=[1,2,3,4,5,6,7]\n"
      ],
      "metadata": {
        "id": "m_d1eMKULvks"
      },
      "execution_count": null,
      "outputs": []
    },
    {
      "cell_type": "code",
      "source": [
        "for i in a:\n",
        "  print(i)"
      ],
      "metadata": {
        "colab": {
          "base_uri": "https://localhost:8080/"
        },
        "id": "4usfVdEDMnKM",
        "outputId": "28ea80bf-3ea7-494b-e326-8344d293ef62"
      },
      "execution_count": null,
      "outputs": [
        {
          "output_type": "stream",
          "name": "stdout",
          "text": [
            "1\n",
            "2\n",
            "3\n",
            "4\n",
            "5\n",
            "6\n",
            "7\n"
          ]
        }
      ]
    },
    {
      "cell_type": "code",
      "source": [
        "cont=0\n",
        "for i in a:\n",
        "  cont=cont+i\n",
        "print(cont)"
      ],
      "metadata": {
        "colab": {
          "base_uri": "https://localhost:8080/"
        },
        "id": "Hhm7sj7VNDV7",
        "outputId": "ea7a3f60-f112-467a-f58d-d84b5f86925d"
      },
      "execution_count": null,
      "outputs": [
        {
          "output_type": "stream",
          "name": "stdout",
          "text": [
            "28\n"
          ]
        }
      ]
    },
    {
      "cell_type": "code",
      "source": [
        "def sum1(a):\n",
        "  cont=0  \n",
        "  for i in a:\n",
        "    cont=cont+i\n",
        "  print(cont)"
      ],
      "metadata": {
        "id": "jS1SgtGLNy-1"
      },
      "execution_count": null,
      "outputs": []
    },
    {
      "cell_type": "code",
      "source": [
        "sum1([3,4,5,6,73,3])"
      ],
      "metadata": {
        "colab": {
          "base_uri": "https://localhost:8080/"
        },
        "id": "lUPD0DIWOTKE",
        "outputId": "db52b924-ca16-48e3-db56-e65e2d5a69aa"
      },
      "execution_count": null,
      "outputs": [
        {
          "output_type": "stream",
          "name": "stdout",
          "text": [
            "94\n"
          ]
        }
      ]
    },
    {
      "cell_type": "code",
      "source": [
        "sum1(34,1)"
      ],
      "metadata": {
        "colab": {
          "base_uri": "https://localhost:8080/",
          "height": 165
        },
        "id": "pQk6T5o-PqgS",
        "outputId": "9f7a911d-9748-4c60-8b02-eb7b960394f0"
      },
      "execution_count": null,
      "outputs": [
        {
          "output_type": "error",
          "ename": "TypeError",
          "evalue": "ignored",
          "traceback": [
            "\u001b[0;31m---------------------------------------------------------------------------\u001b[0m",
            "\u001b[0;31mTypeError\u001b[0m                                 Traceback (most recent call last)",
            "\u001b[0;32m<ipython-input-59-864a8af8aa8c>\u001b[0m in \u001b[0;36m<module>\u001b[0;34m\u001b[0m\n\u001b[0;32m----> 1\u001b[0;31m \u001b[0msum1\u001b[0m\u001b[0;34m(\u001b[0m\u001b[0;36m34\u001b[0m\u001b[0;34m,\u001b[0m\u001b[0;36m1\u001b[0m\u001b[0;34m)\u001b[0m\u001b[0;34m\u001b[0m\u001b[0;34m\u001b[0m\u001b[0m\n\u001b[0m",
            "\u001b[0;31mTypeError\u001b[0m: sum1() takes 1 positional argument but 2 were given"
          ]
        }
      ]
    },
    {
      "cell_type": "code",
      "source": [
        "def sum1(*a):\n",
        "  cont=0  \n",
        "  for i in a:\n",
        "    cont=cont+i\n",
        "  print(cont)"
      ],
      "metadata": {
        "id": "eAHh9DKGP1AR"
      },
      "execution_count": null,
      "outputs": []
    },
    {
      "cell_type": "code",
      "source": [
        "sum1(3,3,4,567,3,323,43.43)"
      ],
      "metadata": {
        "colab": {
          "base_uri": "https://localhost:8080/"
        },
        "id": "iJ2NNETtQG7D",
        "outputId": "2c37a6fb-9b0b-4ac9-db11-2f3640b91691"
      },
      "execution_count": null,
      "outputs": [
        {
          "output_type": "stream",
          "name": "stdout",
          "text": [
            "946.43\n"
          ]
        }
      ]
    },
    {
      "cell_type": "code",
      "source": [
        "krishna=lambda a,b,c,d: print(a+b+c+d)"
      ],
      "metadata": {
        "id": "9dYVmrzPQJ5y"
      },
      "execution_count": null,
      "outputs": []
    },
    {
      "cell_type": "code",
      "source": [
        "krishna(2,3,4,5)"
      ],
      "metadata": {
        "colab": {
          "base_uri": "https://localhost:8080/"
        },
        "id": "y_mFQaG7RBX7",
        "outputId": "04deba09-9d04-469c-e2a3-377883b54192"
      },
      "execution_count": null,
      "outputs": [
        {
          "output_type": "stream",
          "name": "stdout",
          "text": [
            "14\n"
          ]
        }
      ]
    },
    {
      "cell_type": "code",
      "source": [
        "krishna(\"krishna\", \"is\", \"an\", \"AI Triner\")"
      ],
      "metadata": {
        "colab": {
          "base_uri": "https://localhost:8080/"
        },
        "id": "GuvgoCV7RDrj",
        "outputId": "d25da070-c14b-4686-a4f7-35312a18dade"
      },
      "execution_count": null,
      "outputs": [
        {
          "output_type": "stream",
          "name": "stdout",
          "text": [
            "krishnaisanAI Triner\n"
          ]
        }
      ]
    },
    {
      "cell_type": "code",
      "source": [
        "krishna(\"krishna\", \"is\", \"an\", 6)"
      ],
      "metadata": {
        "colab": {
          "base_uri": "https://localhost:8080/",
          "height": 217
        },
        "id": "66G6KmjjRNcT",
        "outputId": "a999f7d9-90b1-4f0e-a110-3c36105d04ab"
      },
      "execution_count": null,
      "outputs": [
        {
          "output_type": "error",
          "ename": "TypeError",
          "evalue": "ignored",
          "traceback": [
            "\u001b[0;31m---------------------------------------------------------------------------\u001b[0m",
            "\u001b[0;31mTypeError\u001b[0m                                 Traceback (most recent call last)",
            "\u001b[0;32m<ipython-input-65-f6448a57ecd5>\u001b[0m in \u001b[0;36m<module>\u001b[0;34m\u001b[0m\n\u001b[0;32m----> 1\u001b[0;31m \u001b[0mkrishna\u001b[0m\u001b[0;34m(\u001b[0m\u001b[0;34m\"krishna\"\u001b[0m\u001b[0;34m,\u001b[0m \u001b[0;34m\"is\"\u001b[0m\u001b[0;34m,\u001b[0m \u001b[0;34m\"an\"\u001b[0m\u001b[0;34m,\u001b[0m \u001b[0;36m6\u001b[0m\u001b[0;34m)\u001b[0m\u001b[0;34m\u001b[0m\u001b[0;34m\u001b[0m\u001b[0m\n\u001b[0m",
            "\u001b[0;32m<ipython-input-62-67e2e20c5151>\u001b[0m in \u001b[0;36m<lambda>\u001b[0;34m(a, b, c, d)\u001b[0m\n\u001b[0;32m----> 1\u001b[0;31m \u001b[0mkrishna\u001b[0m\u001b[0;34m=\u001b[0m\u001b[0;32mlambda\u001b[0m \u001b[0ma\u001b[0m\u001b[0;34m,\u001b[0m\u001b[0mb\u001b[0m\u001b[0;34m,\u001b[0m\u001b[0mc\u001b[0m\u001b[0;34m,\u001b[0m\u001b[0md\u001b[0m\u001b[0;34m:\u001b[0m \u001b[0mprint\u001b[0m\u001b[0;34m(\u001b[0m\u001b[0ma\u001b[0m\u001b[0;34m+\u001b[0m\u001b[0mb\u001b[0m\u001b[0;34m+\u001b[0m\u001b[0mc\u001b[0m\u001b[0;34m+\u001b[0m\u001b[0md\u001b[0m\u001b[0;34m)\u001b[0m\u001b[0;34m\u001b[0m\u001b[0;34m\u001b[0m\u001b[0m\n\u001b[0m",
            "\u001b[0;31mTypeError\u001b[0m: can only concatenate str (not \"int\") to str"
          ]
        }
      ]
    },
    {
      "cell_type": "code",
      "source": [
        "krishna=lambda a,b,c: print(a+b+c)\n",
        "print(\"hello world\")"
      ],
      "metadata": {
        "colab": {
          "base_uri": "https://localhost:8080/"
        },
        "id": "jbz39rQSRXis",
        "outputId": "028c24eb-6374-4bd3-e9b6-9513b53eb63b"
      },
      "execution_count": null,
      "outputs": [
        {
          "output_type": "stream",
          "name": "stdout",
          "text": [
            "hello world\n"
          ]
        }
      ]
    },
    {
      "cell_type": "code",
      "source": [
        "def sum(a,b,c=0):\n",
        "  print(a+b+c)"
      ],
      "metadata": {
        "id": "4anmEJ2_Rvxq"
      },
      "execution_count": null,
      "outputs": []
    },
    {
      "cell_type": "code",
      "source": [
        "krishna=lambda a,b,c: print(a+b+c)"
      ],
      "metadata": {
        "id": "c0LNMF8DSV2s"
      },
      "execution_count": null,
      "outputs": []
    },
    {
      "cell_type": "code",
      "source": [
        "krishna(2,3,4)"
      ],
      "metadata": {
        "colab": {
          "base_uri": "https://localhost:8080/"
        },
        "id": "HCqY87z6SXPj",
        "outputId": "435769bf-ffd0-4a5d-d0c7-16c650d0158d"
      },
      "execution_count": null,
      "outputs": [
        {
          "output_type": "stream",
          "name": "stdout",
          "text": [
            "9\n"
          ]
        }
      ]
    },
    {
      "cell_type": "code",
      "source": [
        "krishna(2,3)"
      ],
      "metadata": {
        "colab": {
          "base_uri": "https://localhost:8080/",
          "height": 165
        },
        "id": "4tHmrgN6SbOr",
        "outputId": "5fecac27-91d0-415d-f3ec-136c8f3e87e5"
      },
      "execution_count": null,
      "outputs": [
        {
          "output_type": "error",
          "ename": "TypeError",
          "evalue": "ignored",
          "traceback": [
            "\u001b[0;31m---------------------------------------------------------------------------\u001b[0m",
            "\u001b[0;31mTypeError\u001b[0m                                 Traceback (most recent call last)",
            "\u001b[0;32m<ipython-input-71-15cc6fa204c9>\u001b[0m in \u001b[0;36m<module>\u001b[0;34m\u001b[0m\n\u001b[0;32m----> 1\u001b[0;31m \u001b[0mkrishna\u001b[0m\u001b[0;34m(\u001b[0m\u001b[0;36m2\u001b[0m\u001b[0;34m,\u001b[0m\u001b[0;36m3\u001b[0m\u001b[0;34m)\u001b[0m\u001b[0;34m\u001b[0m\u001b[0;34m\u001b[0m\u001b[0m\n\u001b[0m",
            "\u001b[0;31mTypeError\u001b[0m: <lambda>() missing 1 required positional argument: 'c'"
          ]
        }
      ]
    },
    {
      "cell_type": "code",
      "source": [
        "krishna=lambda a,b,c=0: print(a+b+c)"
      ],
      "metadata": {
        "id": "g0-UC259SclD"
      },
      "execution_count": null,
      "outputs": []
    },
    {
      "cell_type": "code",
      "source": [
        "krishna(2,3)"
      ],
      "metadata": {
        "colab": {
          "base_uri": "https://localhost:8080/"
        },
        "id": "t5oODcUYSgTD",
        "outputId": "4b4a71b3-f260-4151-ea8e-919327522dbf"
      },
      "execution_count": null,
      "outputs": [
        {
          "output_type": "stream",
          "name": "stdout",
          "text": [
            "5\n"
          ]
        }
      ]
    },
    {
      "cell_type": "code",
      "source": [
        "krishna(2,3,4)"
      ],
      "metadata": {
        "colab": {
          "base_uri": "https://localhost:8080/"
        },
        "id": "MS201uigShfr",
        "outputId": "4ee0d4e6-8ab1-4b1e-ff84-1b0c59d2506b"
      },
      "execution_count": null,
      "outputs": [
        {
          "output_type": "stream",
          "name": "stdout",
          "text": [
            "9\n"
          ]
        }
      ]
    },
    {
      "cell_type": "code",
      "source": [
        "cont=[]\n",
        "for i in range(10):\n",
        "  cont.append(i)\n",
        "print(cont)"
      ],
      "metadata": {
        "colab": {
          "base_uri": "https://localhost:8080/"
        },
        "id": "8_9Xa8srSkCy",
        "outputId": "01da9cd4-f9d2-4210-d387-f2545536ed28"
      },
      "execution_count": null,
      "outputs": [
        {
          "output_type": "stream",
          "name": "stdout",
          "text": [
            "[0, 1, 2, 3, 4, 5, 6, 7, 8, 9]\n"
          ]
        }
      ]
    },
    {
      "cell_type": "code",
      "source": [
        "for i in range(10):\n",
        "  print(i)"
      ],
      "metadata": {
        "colab": {
          "base_uri": "https://localhost:8080/"
        },
        "id": "zNhZXR3mVvFq",
        "outputId": "1b39c62f-38d0-4541-c3bc-f3b7452b1aff"
      },
      "execution_count": null,
      "outputs": [
        {
          "output_type": "stream",
          "name": "stdout",
          "text": [
            "0\n",
            "1\n",
            "2\n",
            "3\n",
            "4\n",
            "5\n",
            "6\n",
            "7\n",
            "8\n",
            "9\n"
          ]
        }
      ]
    },
    {
      "cell_type": "code",
      "source": [
        "[i for i in range(10)]"
      ],
      "metadata": {
        "colab": {
          "base_uri": "https://localhost:8080/"
        },
        "id": "bmBS94F2WJHq",
        "outputId": "d3744301-187a-4176-f177-1c1c2b44a94c"
      },
      "execution_count": null,
      "outputs": [
        {
          "output_type": "execute_result",
          "data": {
            "text/plain": [
              "[0, 1, 2, 3, 4, 5, 6, 7, 8, 9]"
            ]
          },
          "metadata": {},
          "execution_count": 82
        }
      ]
    },
    {
      "cell_type": "code",
      "source": [
        "even_cont=[]\n",
        "for i in range(0,101,2):\n",
        "  even_cont.append(i)\n",
        "print(even_cont)"
      ],
      "metadata": {
        "colab": {
          "base_uri": "https://localhost:8080/"
        },
        "id": "kjykwLyPW_Q7",
        "outputId": "f64448f4-6713-4cbc-cb8b-764ff472ec9c"
      },
      "execution_count": null,
      "outputs": [
        {
          "output_type": "stream",
          "name": "stdout",
          "text": [
            "[0, 2, 4, 6, 8, 10, 12, 14, 16, 18, 20, 22, 24, 26, 28, 30, 32, 34, 36, 38, 40, 42, 44, 46, 48, 50, 52, 54, 56, 58, 60, 62, 64, 66, 68, 70, 72, 74, 76, 78, 80, 82, 84, 86, 88, 90, 92, 94, 96, 98, 100]\n"
          ]
        }
      ]
    },
    {
      "cell_type": "code",
      "source": [
        "even_cont=[]\n",
        "for i in range(0,101,1):\n",
        "  if i%2==0:\n",
        "    even_cont.append(i)\n",
        "print(even_cont)"
      ],
      "metadata": {
        "colab": {
          "base_uri": "https://localhost:8080/"
        },
        "id": "w6JfdblGYw2_",
        "outputId": "ef3f9759-2b07-45db-adcf-abc65b4a608f"
      },
      "execution_count": null,
      "outputs": [
        {
          "output_type": "stream",
          "name": "stdout",
          "text": [
            "[0, 2, 4, 6, 8, 10, 12, 14, 16, 18, 20, 22, 24, 26, 28, 30, 32, 34, 36, 38, 40, 42, 44, 46, 48, 50, 52, 54, 56, 58, 60, 62, 64, 66, 68, 70, 72, 74, 76, 78, 80, 82, 84, 86, 88, 90, 92, 94, 96, 98, 100]\n"
          ]
        }
      ]
    },
    {
      "cell_type": "code",
      "source": [
        "even_cont=[]\n",
        "odd_cont=[]\n",
        "for i in range(0,101,1):\n",
        "  if i%2==0:\n",
        "    even_cont.append(i)\n",
        "  else:\n",
        "    odd_cont.append(i)\n",
        "print(even_cont)\n",
        "print(odd_cont)"
      ],
      "metadata": {
        "colab": {
          "base_uri": "https://localhost:8080/"
        },
        "id": "9n_cUjLOZEo8",
        "outputId": "66ca72ea-dc4e-4e68-d18f-1ccdd831b72a"
      },
      "execution_count": null,
      "outputs": [
        {
          "output_type": "stream",
          "name": "stdout",
          "text": [
            "[0, 2, 4, 6, 8, 10, 12, 14, 16, 18, 20, 22, 24, 26, 28, 30, 32, 34, 36, 38, 40, 42, 44, 46, 48, 50, 52, 54, 56, 58, 60, 62, 64, 66, 68, 70, 72, 74, 76, 78, 80, 82, 84, 86, 88, 90, 92, 94, 96, 98, 100]\n",
            "[1, 3, 5, 7, 9, 11, 13, 15, 17, 19, 21, 23, 25, 27, 29, 31, 33, 35, 37, 39, 41, 43, 45, 47, 49, 51, 53, 55, 57, 59, 61, 63, 65, 67, 69, 71, 73, 75, 77, 79, 81, 83, 85, 87, 89, 91, 93, 95, 97, 99]\n"
          ]
        }
      ]
    },
    {
      "cell_type": "code",
      "source": [
        "even_cont1=[i for i in range(101) if i%2==0]"
      ],
      "metadata": {
        "id": "mw6AR1DpZozb"
      },
      "execution_count": null,
      "outputs": []
    },
    {
      "cell_type": "code",
      "source": [
        "print(even_cont1)"
      ],
      "metadata": {
        "colab": {
          "base_uri": "https://localhost:8080/"
        },
        "id": "G6AHMrxeZ56k",
        "outputId": "732c9d69-dded-4ff8-878d-de586d136e4a"
      },
      "execution_count": null,
      "outputs": [
        {
          "output_type": "stream",
          "name": "stdout",
          "text": [
            "[0, 2, 4, 6, 8, 10, 12, 14, 16, 18, 20, 22, 24, 26, 28, 30, 32, 34, 36, 38, 40, 42, 44, 46, 48, 50, 52, 54, 56, 58, 60, 62, 64, 66, 68, 70, 72, 74, 76, 78, 80, 82, 84, 86, 88, 90, 92, 94, 96, 98, 100]\n"
          ]
        }
      ]
    },
    {
      "cell_type": "code",
      "source": [
        "odd_cont1=[i for i in range(101) if i%2!=0]"
      ],
      "metadata": {
        "id": "8TaJFnWDaBQw"
      },
      "execution_count": null,
      "outputs": []
    },
    {
      "cell_type": "code",
      "source": [
        "print(odd_cont1)"
      ],
      "metadata": {
        "colab": {
          "base_uri": "https://localhost:8080/"
        },
        "id": "xA_638UYaNwR",
        "outputId": "ebabfdaa-5bf9-4b62-b7b6-0ee97065f107"
      },
      "execution_count": null,
      "outputs": [
        {
          "output_type": "stream",
          "name": "stdout",
          "text": [
            "[1, 3, 5, 7, 9, 11, 13, 15, 17, 19, 21, 23, 25, 27, 29, 31, 33, 35, 37, 39, 41, 43, 45, 47, 49, 51, 53, 55, 57, 59, 61, 63, 65, 67, 69, 71, 73, 75, 77, 79, 81, 83, 85, 87, 89, 91, 93, 95, 97, 99]\n"
          ]
        }
      ]
    },
    {
      "cell_type": "markdown",
      "source": [
        "# Object Oriented Programming Struture(OOPs)"
      ],
      "metadata": {
        "id": "AAROwl5NaSie"
      }
    },
    {
      "cell_type": "code",
      "source": [
        "#Top line programming \n",
        "a=10\n",
        "b=20\n",
        "print(a+b)"
      ],
      "metadata": {
        "colab": {
          "base_uri": "https://localhost:8080/"
        },
        "id": "4qpdJQDzPp5n",
        "outputId": "1849072b-8b96-4e07-e236-bf75cfce4e84"
      },
      "execution_count": null,
      "outputs": [
        {
          "output_type": "stream",
          "name": "stdout",
          "text": [
            "30\n"
          ]
        }
      ]
    },
    {
      "cell_type": "code",
      "source": [
        "# Procedural Programming \n",
        "def sum():\n",
        "  a=10\n",
        "  b=20\n",
        "  print(a+b)  "
      ],
      "metadata": {
        "id": "9v5z4Uc9Qgua"
      },
      "execution_count": null,
      "outputs": []
    },
    {
      "cell_type": "code",
      "source": [
        "sum()"
      ],
      "metadata": {
        "colab": {
          "base_uri": "https://localhost:8080/"
        },
        "id": "kc2bUlOEQmgo",
        "outputId": "aae6e2f0-c080-4723-e79b-4cd33bdd85ca"
      },
      "execution_count": null,
      "outputs": [
        {
          "output_type": "stream",
          "name": "stdout",
          "text": [
            "30\n"
          ]
        }
      ]
    },
    {
      "cell_type": "code",
      "source": [
        "# OOPS\n",
        "class Sum:\n",
        "  a=10\n",
        "  b=20\n",
        "  print(a+b)"
      ],
      "metadata": {
        "colab": {
          "base_uri": "https://localhost:8080/"
        },
        "id": "TK_VdjOaQnKY",
        "outputId": "dae73a63-4b7e-412f-e787-c977cd32cc55"
      },
      "execution_count": null,
      "outputs": [
        {
          "output_type": "stream",
          "name": "stdout",
          "text": [
            "30\n"
          ]
        }
      ]
    },
    {
      "cell_type": "code",
      "source": [
        "class Mobile:\n",
        "  def __init__(self):  #constructor \n",
        "    self.color=\"Black\"\n",
        "    self.ram=8\n",
        "    self.rom=128\n",
        "    print(\"class id\",id(self))\n",
        "  def calling(self):\n",
        "    print(\"calling is possible\")\n",
        "  \n",
        "  def chatting(self):\n",
        "    print(\"chatting is possible\")\n",
        "  \n",
        "  def browsing(self):\n",
        "    print(\"browsing is possible\")"
      ],
      "metadata": {
        "id": "BpCI9MXEQwvR"
      },
      "execution_count": null,
      "outputs": []
    },
    {
      "cell_type": "code",
      "source": [
        "apple=Mobile()\n",
        "print(id(apple))"
      ],
      "metadata": {
        "colab": {
          "base_uri": "https://localhost:8080/"
        },
        "id": "2_jnQdNaXjrf",
        "outputId": "dad13e81-a982-4512-d442-2f10cf0a2959"
      },
      "execution_count": null,
      "outputs": [
        {
          "output_type": "stream",
          "name": "stdout",
          "text": [
            "class id 139914404501008\n",
            "139914404501008\n"
          ]
        }
      ]
    },
    {
      "cell_type": "code",
      "source": [
        "vivo=Mobile()\n",
        "print(id(vivo))"
      ],
      "metadata": {
        "colab": {
          "base_uri": "https://localhost:8080/"
        },
        "id": "t28PRrDPZY-1",
        "outputId": "00314429-e2d3-4ea2-a224-066245f7300a"
      },
      "execution_count": null,
      "outputs": [
        {
          "output_type": "stream",
          "name": "stdout",
          "text": [
            "class id 139914404500048\n",
            "139914404500048\n"
          ]
        }
      ]
    },
    {
      "cell_type": "code",
      "source": [
        "class Atm:\n",
        "  def __init__(self):\n",
        "    self.pin=\"\"\n",
        "    self.balance=0\n",
        "    "
      ],
      "metadata": {
        "id": "OvPNnHuEZbA0"
      },
      "execution_count": null,
      "outputs": []
    },
    {
      "cell_type": "code",
      "source": [
        "krishna=Atm()"
      ],
      "metadata": {
        "id": "Jk0F9az-ZfZt"
      },
      "execution_count": null,
      "outputs": []
    },
    {
      "cell_type": "code",
      "source": [
        "krishna.balance=10000"
      ],
      "metadata": {
        "id": "6JlCdEfZcLj7"
      },
      "execution_count": null,
      "outputs": []
    },
    {
      "cell_type": "code",
      "source": [
        "krishna.pin=9807"
      ],
      "metadata": {
        "id": "v9Nfj_yHcQwT"
      },
      "execution_count": null,
      "outputs": []
    },
    {
      "cell_type": "code",
      "source": [
        "Sanskar=Atm()"
      ],
      "metadata": {
        "id": "8kBZy2-pcTNd"
      },
      "execution_count": null,
      "outputs": []
    },
    {
      "cell_type": "code",
      "source": [
        "Sanskar.balance=4000"
      ],
      "metadata": {
        "id": "mET7rSw2cgaj"
      },
      "execution_count": null,
      "outputs": []
    },
    {
      "cell_type": "code",
      "source": [
        "Sanskar.pin=9837"
      ],
      "metadata": {
        "id": "rclXDcUKciqz"
      },
      "execution_count": null,
      "outputs": []
    },
    {
      "cell_type": "code",
      "source": [
        "mayank=Atm()"
      ],
      "metadata": {
        "id": "FqfYwmmXcnEM"
      },
      "execution_count": null,
      "outputs": []
    },
    {
      "cell_type": "code",
      "source": [
        "mayank.balance=16000"
      ],
      "metadata": {
        "id": "W46lBLAVculz"
      },
      "execution_count": null,
      "outputs": []
    },
    {
      "cell_type": "code",
      "source": [
        "mayank.pin=2004"
      ],
      "metadata": {
        "id": "5hTwh-X-cw2Z"
      },
      "execution_count": null,
      "outputs": []
    },
    {
      "cell_type": "code",
      "source": [
        "krishna.balance"
      ],
      "metadata": {
        "colab": {
          "base_uri": "https://localhost:8080/"
        },
        "id": "px40z4XzcygL",
        "outputId": "9bc24096-4cd2-404b-c6a2-c21e193a59db"
      },
      "execution_count": null,
      "outputs": [
        {
          "output_type": "execute_result",
          "data": {
            "text/plain": [
              "10000"
            ]
          },
          "metadata": {},
          "execution_count": 43
        }
      ]
    },
    {
      "cell_type": "code",
      "source": [
        "krishna.pin"
      ],
      "metadata": {
        "colab": {
          "base_uri": "https://localhost:8080/"
        },
        "id": "1MlfKUbCc7Ob",
        "outputId": "159409be-7455-4fba-c741-96a21e78245d"
      },
      "execution_count": null,
      "outputs": [
        {
          "output_type": "execute_result",
          "data": {
            "text/plain": [
              "9807"
            ]
          },
          "metadata": {},
          "execution_count": 44
        }
      ]
    },
    {
      "cell_type": "code",
      "source": [
        "mayank.balance"
      ],
      "metadata": {
        "colab": {
          "base_uri": "https://localhost:8080/"
        },
        "id": "OonALzWyc9Rp",
        "outputId": "74ab2d4c-030b-403b-e2a2-e3edff7058bb"
      },
      "execution_count": null,
      "outputs": [
        {
          "output_type": "execute_result",
          "data": {
            "text/plain": [
              "16000"
            ]
          },
          "metadata": {},
          "execution_count": 45
        }
      ]
    },
    {
      "cell_type": "code",
      "source": [
        "mayank.pin"
      ],
      "metadata": {
        "colab": {
          "base_uri": "https://localhost:8080/"
        },
        "id": "gc44xKl3c_fr",
        "outputId": "74eed439-7cf8-40c0-cb51-c9abeae2cdd6"
      },
      "execution_count": null,
      "outputs": [
        {
          "output_type": "execute_result",
          "data": {
            "text/plain": [
              "2004"
            ]
          },
          "metadata": {},
          "execution_count": 46
        }
      ]
    },
    {
      "cell_type": "code",
      "source": [
        "Sanskar.balance"
      ],
      "metadata": {
        "colab": {
          "base_uri": "https://localhost:8080/"
        },
        "id": "XcYcOKoddA1L",
        "outputId": "1904214b-8eb8-474a-de09-798127ce6513"
      },
      "execution_count": null,
      "outputs": [
        {
          "output_type": "execute_result",
          "data": {
            "text/plain": [
              "4000"
            ]
          },
          "metadata": {},
          "execution_count": 47
        }
      ]
    },
    {
      "cell_type": "code",
      "source": [
        "Sanskar.pin"
      ],
      "metadata": {
        "colab": {
          "base_uri": "https://localhost:8080/"
        },
        "id": "a_9BiMc7dC9L",
        "outputId": "91d69943-79ee-4e43-9aee-0113e6826193"
      },
      "execution_count": null,
      "outputs": [
        {
          "output_type": "execute_result",
          "data": {
            "text/plain": [
              "9837"
            ]
          },
          "metadata": {},
          "execution_count": 48
        }
      ]
    },
    {
      "cell_type": "code",
      "source": [
        "class Atm:\n",
        "  def __init__(self):\n",
        "    self.pin=\"\"\n",
        "    self.balance=0\n",
        "    print(\"\"\"Welcome to Kotak Mahindra Bank\n",
        "    \n",
        "    Here is your options:\n",
        "    \n",
        "    1. Balance Enquiry\n",
        "    2. Change Pin\n",
        "    3. Exit\n",
        "    \"\"\")\n",
        "    self.a=input()\n",
        "  def balance_enquiry(self):\n",
        "    print(\"Welcome to balance enquiry section\")\n",
        "  def chnage_pin(self):\n",
        "    print(\"Welcome to change pin section \")"
      ],
      "metadata": {
        "id": "oZknzMjjdFRT"
      },
      "execution_count": null,
      "outputs": []
    },
    {
      "cell_type": "code",
      "source": [
        "krishna=Atm()"
      ],
      "metadata": {
        "colab": {
          "base_uri": "https://localhost:8080/"
        },
        "id": "vDIxiaJ1fl-v",
        "outputId": "5695be45-43a8-4d83-cff8-b13363ab9114"
      },
      "execution_count": null,
      "outputs": [
        {
          "name": "stdout",
          "output_type": "stream",
          "text": [
            "Welcome to Kotak Mahindra Bank\n",
            "    \n",
            "    Here is your options:\n",
            "    \n",
            "    1. Balance Enquiry\n",
            "    2. Change Pin\n",
            "    3. Exit\n",
            "    \n",
            "1\n"
          ]
        }
      ]
    },
    {
      "cell_type": "code",
      "source": [
        "krishna.blance_enquiry()"
      ],
      "metadata": {
        "colab": {
          "base_uri": "https://localhost:8080/"
        },
        "id": "GBdZZs3Cfncr",
        "outputId": "7c178646-0b24-45c3-ba1a-04ae9748a8eb"
      },
      "execution_count": null,
      "outputs": [
        {
          "output_type": "stream",
          "name": "stdout",
          "text": [
            "Welcome to balance enquiry section\n"
          ]
        }
      ]
    },
    {
      "cell_type": "markdown",
      "source": [
        "# class --> Blueprint\n",
        "# object ---> reference of class\n",
        "# instance variable ---> attributs \n",
        "# method ---> features\n",
        "# encapsulation  --> hiding \n",
        "# abstraction -->\n",
        "# inheritance  \n",
        "# polymorphism\n",
        "\n"
      ],
      "metadata": {
        "id": "8NrXMzvefwDi"
      }
    },
    {
      "cell_type": "code",
      "source": [
        "class Atm:\n",
        "  def __init__(self):\n",
        "    self.pin=\"\"\n",
        "    self.balance=0\n",
        "    print(\"\"\"Welcome to Kotak Mahindra Bank\n",
        "    \n",
        "    Here is your options:\n",
        "    \n",
        "    1. Balance Enquiry\n",
        "    2. Change Pin\n",
        "    3. Set Balance\n",
        "    4. Exit\n",
        "    \"\"\")\n",
        "    self.a=input()\n",
        "    if self.a==\"1\":\n",
        "      self.balance_enquiry()\n",
        "    elif self.a =='2':\n",
        "      self.chnage_pin()\n",
        "    elif self.a=='3':\n",
        "      self.set_balance()\n",
        "    elif self.a=='4':\n",
        "      print(\"Thankyou to banking with us\")\n",
        "    else:\n",
        "      print(\"Kindly choose a valid option.\")\n",
        "\n",
        "\n",
        "  def set_balance(self):\n",
        "    print(\"Welcome to set balance section.\")\n",
        "    set_bal=int(input(\"Kindly enter your balance:\"))\n",
        "    self.balance=set_bal\n",
        "    print(\"You available balance is :{}\".format(self.balance))\n",
        "  def balance_enquiry(self):\n",
        "    print(\"Welcome to balance enquiry section\")\n",
        "  def chnage_pin(self):\n",
        "    print(\"Welcome to change pin section \")"
      ],
      "metadata": {
        "id": "I1rZeWsQd_UC"
      },
      "execution_count": null,
      "outputs": []
    },
    {
      "cell_type": "code",
      "source": [
        "krishna=Atm()"
      ],
      "metadata": {
        "colab": {
          "base_uri": "https://localhost:8080/"
        },
        "id": "Gd2gAcVKgy8e",
        "outputId": "d1bdefd1-8581-4675-8cb0-184182be171f"
      },
      "execution_count": null,
      "outputs": [
        {
          "output_type": "stream",
          "name": "stdout",
          "text": [
            "Welcome to Kotak Mahindra Bank\n",
            "    \n",
            "    Here is your options:\n",
            "    \n",
            "    1. Balance Enquiry\n",
            "    2. Change Pin\n",
            "    3. Set Balance\n",
            "    4. Exit\n",
            "    \n",
            "3\n",
            "Welcome to set balance section.\n",
            "Kindly enter your balance:10000\n",
            "You available balance is :10000\n"
          ]
        }
      ]
    },
    {
      "cell_type": "code",
      "source": [
        "krishna.balance"
      ],
      "metadata": {
        "colab": {
          "base_uri": "https://localhost:8080/"
        },
        "id": "Wz9qK8wHm-P0",
        "outputId": "3a97cdb4-c0dd-464f-9aa0-a7da62f764de"
      },
      "execution_count": null,
      "outputs": [
        {
          "output_type": "execute_result",
          "data": {
            "text/plain": [
              "10000"
            ]
          },
          "metadata": {},
          "execution_count": 33
        }
      ]
    },
    {
      "cell_type": "code",
      "source": [
        "a=10\n",
        "b=20\n",
        "print(a+b)"
      ],
      "metadata": {
        "colab": {
          "base_uri": "https://localhost:8080/"
        },
        "id": "f4eK_5L6g2a9",
        "outputId": "e102480a-e480-403f-fbd6-ef9f6eb8e812"
      },
      "execution_count": null,
      "outputs": [
        {
          "output_type": "stream",
          "name": "stdout",
          "text": [
            "30\n"
          ]
        }
      ]
    },
    {
      "cell_type": "code",
      "source": [],
      "metadata": {
        "id": "d-X3bw0TkIXh"
      },
      "execution_count": null,
      "outputs": []
    },
    {
      "cell_type": "code",
      "source": [
        "def sum():\n",
        "  print(a+b)"
      ],
      "metadata": {
        "id": "JPIVXFftj_KK"
      },
      "execution_count": null,
      "outputs": []
    },
    {
      "cell_type": "code",
      "source": [
        "sum()"
      ],
      "metadata": {
        "colab": {
          "base_uri": "https://localhost:8080/"
        },
        "id": "ZDG9kzq0kDgB",
        "outputId": "aa619806-c8b5-407f-c001-e7ad061e9807"
      },
      "execution_count": null,
      "outputs": [
        {
          "output_type": "stream",
          "name": "stdout",
          "text": [
            "30\n"
          ]
        }
      ]
    },
    {
      "cell_type": "code",
      "source": [
        "def sum2():\n",
        "  global c,d\n",
        "  c=20\n",
        "  d=30\n",
        "  print(c+d)"
      ],
      "metadata": {
        "id": "Pbj-GU0mkGC5"
      },
      "execution_count": null,
      "outputs": []
    },
    {
      "cell_type": "code",
      "source": [
        "sum2()"
      ],
      "metadata": {
        "colab": {
          "base_uri": "https://localhost:8080/"
        },
        "id": "ELy3X9yukV9B",
        "outputId": "ea9312a3-bad6-4997-db0c-765e721feb37"
      },
      "execution_count": null,
      "outputs": [
        {
          "output_type": "stream",
          "name": "stdout",
          "text": [
            "50\n"
          ]
        }
      ]
    },
    {
      "cell_type": "code",
      "source": [
        "print(c+d)"
      ],
      "metadata": {
        "colab": {
          "base_uri": "https://localhost:8080/"
        },
        "id": "lwcxh6SskWqh",
        "outputId": "888a0a2f-1017-4689-b63b-01b6a7fcc3b0"
      },
      "execution_count": null,
      "outputs": [
        {
          "output_type": "stream",
          "name": "stdout",
          "text": [
            "50\n"
          ]
        }
      ]
    },
    {
      "cell_type": "code",
      "source": [
        "print(d+c)"
      ],
      "metadata": {
        "colab": {
          "base_uri": "https://localhost:8080/"
        },
        "id": "NLmfKHxCkcxp",
        "outputId": "5ec059f5-07a2-4271-86fc-fcc0c2da5942"
      },
      "execution_count": null,
      "outputs": [
        {
          "output_type": "stream",
          "name": "stdout",
          "text": [
            "50\n"
          ]
        }
      ]
    },
    {
      "cell_type": "code",
      "source": [
        "age=26\n",
        "name=\"krishna\"\n",
        "print(\"{} age is :{}\".format(age,name))"
      ],
      "metadata": {
        "colab": {
          "base_uri": "https://localhost:8080/"
        },
        "id": "reV3IYptlPXc",
        "outputId": "9155b022-e952-43c4-f050-593b30325d07"
      },
      "execution_count": null,
      "outputs": [
        {
          "output_type": "stream",
          "name": "stdout",
          "text": [
            "26 age is :krishna\n"
          ]
        }
      ]
    },
    {
      "cell_type": "code",
      "source": [
        "print(\"{} age is :{}\".format(name,age))"
      ],
      "metadata": {
        "colab": {
          "base_uri": "https://localhost:8080/"
        },
        "id": "-2BDO-IQn7hd",
        "outputId": "63334c90-6114-46bd-87b8-2dea8e700b7d"
      },
      "execution_count": null,
      "outputs": [
        {
          "output_type": "stream",
          "name": "stdout",
          "text": [
            "krishna age is :26\n"
          ]
        }
      ]
    },
    {
      "cell_type": "code",
      "source": [
        "print(\"{0} age is :{1}\".format(age,name))"
      ],
      "metadata": {
        "colab": {
          "base_uri": "https://localhost:8080/"
        },
        "id": "tcLCjJvboW5g",
        "outputId": "47dcde2d-e22e-4bf3-b89d-c0ecc2e9e8d9"
      },
      "execution_count": null,
      "outputs": [
        {
          "output_type": "stream",
          "name": "stdout",
          "text": [
            "26 age is :krishna\n"
          ]
        }
      ]
    },
    {
      "cell_type": "code",
      "source": [
        "print(\"{1} age is :{0}\".format(age,name))"
      ],
      "metadata": {
        "colab": {
          "base_uri": "https://localhost:8080/"
        },
        "id": "xt_rqXfqogtv",
        "outputId": "f2fdb16a-587f-438d-8173-bf0d1b079dcc"
      },
      "execution_count": null,
      "outputs": [
        {
          "output_type": "stream",
          "name": "stdout",
          "text": [
            "krishna age is :26\n"
          ]
        }
      ]
    },
    {
      "cell_type": "markdown",
      "source": [
        "# f-string"
      ],
      "metadata": {
        "id": "gFDUrwzkoufn"
      }
    },
    {
      "cell_type": "code",
      "source": [
        "print(f\"{name} age is :{age}\")"
      ],
      "metadata": {
        "colab": {
          "base_uri": "https://localhost:8080/"
        },
        "id": "S1zSfHfFo6OA",
        "outputId": "67996809-9a24-4917-f21b-99c68dff9ce2"
      },
      "execution_count": null,
      "outputs": [
        {
          "output_type": "stream",
          "name": "stdout",
          "text": [
            "krishna age is :26\n"
          ]
        }
      ]
    },
    {
      "cell_type": "code",
      "source": [
        "class Atm:\n",
        "  def __init__(self):\n",
        "    self.pin=\"\"\n",
        "    self.balance=0\n",
        "    print(\"\"\"Welcome to Kotak Mahindra Bank\n",
        "    \n",
        "    Here is your options:\n",
        "    \n",
        "    1. Balance Enquiry\n",
        "    2. Change Pin\n",
        "    3. Set Balance\n",
        "    4. Exit\n",
        "    \"\"\")\n",
        "    self.a=input()\n",
        "    if self.a==\"1\":\n",
        "      self.balance_enquiry()\n",
        "    elif self.a =='2':\n",
        "      self.chnage_pin()\n",
        "    elif self.a=='3':\n",
        "      self.set_balance()\n",
        "    elif self.a=='4':\n",
        "      print(\"Thankyou to banking with us\")\n",
        "    else:\n",
        "      print(\"Kindly choose a valid option.\")\n",
        "\n",
        "\n",
        "  def set_balance(self):\n",
        "    print(\"Welcome to set balance section.\")\n",
        "    set_bal=int(input(\"Kindly enter your balance:\"))\n",
        "    self.balance=set_bal\n",
        "    \n",
        "  def balance_enquiry(self):\n",
        "    print(\"You available balance is :{}\".format(self.balance))\n",
        "  def chnage_pin(self):\n",
        "    print(\"Welcome to change pin section \")"
      ],
      "metadata": {
        "id": "-yNRURQUrf5f"
      },
      "execution_count": null,
      "outputs": []
    },
    {
      "cell_type": "code",
      "source": [
        "krishna=Atm()"
      ],
      "metadata": {
        "colab": {
          "base_uri": "https://localhost:8080/"
        },
        "id": "EP8_CZ1vsJvO",
        "outputId": "bf0232fa-2aa6-4e41-a036-b4eef8a7c2a9"
      },
      "execution_count": null,
      "outputs": [
        {
          "output_type": "stream",
          "name": "stdout",
          "text": [
            "Welcome to Kotak Mahindra Bank\n",
            "    \n",
            "    Here is your options:\n",
            "    \n",
            "    1. Balance Enquiry\n",
            "    2. Change Pin\n",
            "    3. Set Balance\n",
            "    4. Exit\n",
            "    \n",
            "1\n",
            "You available balance is :0\n"
          ]
        }
      ]
    },
    {
      "cell_type": "code",
      "source": [
        "import os"
      ],
      "metadata": {
        "id": "8fjXJRvusK_2"
      },
      "execution_count": null,
      "outputs": []
    },
    {
      "cell_type": "code",
      "source": [
        "a=[1,2,3,4,5,6]\n",
        "os.getsize(a)"
      ],
      "metadata": {
        "colab": {
          "base_uri": "https://localhost:8080/",
          "height": 183
        },
        "id": "NZo-N58Kkil5",
        "outputId": "376f2b34-65c6-4739-9c29-d4b7fb52842c"
      },
      "execution_count": null,
      "outputs": [
        {
          "output_type": "error",
          "ename": "AttributeError",
          "evalue": "ignored",
          "traceback": [
            "\u001b[0;31m---------------------------------------------------------------------------\u001b[0m",
            "\u001b[0;31mAttributeError\u001b[0m                            Traceback (most recent call last)",
            "\u001b[0;32m<ipython-input-2-e709b8f61722>\u001b[0m in \u001b[0;36m<module>\u001b[0;34m\u001b[0m\n\u001b[1;32m      1\u001b[0m \u001b[0ma\u001b[0m\u001b[0;34m=\u001b[0m\u001b[0;34m[\u001b[0m\u001b[0;36m1\u001b[0m\u001b[0;34m,\u001b[0m\u001b[0;36m2\u001b[0m\u001b[0;34m,\u001b[0m\u001b[0;36m3\u001b[0m\u001b[0;34m,\u001b[0m\u001b[0;36m4\u001b[0m\u001b[0;34m,\u001b[0m\u001b[0;36m5\u001b[0m\u001b[0;34m,\u001b[0m\u001b[0;36m6\u001b[0m\u001b[0;34m]\u001b[0m\u001b[0;34m\u001b[0m\u001b[0;34m\u001b[0m\u001b[0m\n\u001b[0;32m----> 2\u001b[0;31m \u001b[0mos\u001b[0m\u001b[0;34m.\u001b[0m\u001b[0mgetsize\u001b[0m\u001b[0;34m(\u001b[0m\u001b[0ma\u001b[0m\u001b[0;34m)\u001b[0m\u001b[0;34m\u001b[0m\u001b[0;34m\u001b[0m\u001b[0m\n\u001b[0m",
            "\u001b[0;31mAttributeError\u001b[0m: module 'os' has no attribute 'getsize'"
          ]
        }
      ]
    },
    {
      "cell_type": "code",
      "source": [
        "a=\"     abc     \"\n",
        "a.strip()"
      ],
      "metadata": {
        "colab": {
          "base_uri": "https://localhost:8080/",
          "height": 35
        },
        "id": "mJd9eFpWky1Y",
        "outputId": "e8396348-d8ce-454e-d13d-4b28bbbc711a"
      },
      "execution_count": null,
      "outputs": [
        {
          "output_type": "execute_result",
          "data": {
            "text/plain": [
              "'abc'"
            ],
            "application/vnd.google.colaboratory.intrinsic+json": {
              "type": "string"
            }
          },
          "metadata": {},
          "execution_count": 3
        }
      ]
    },
    {
      "cell_type": "code",
      "source": [
        "a=\"this is krishna\""
      ],
      "metadata": {
        "id": "ATw-Rc7zlUhB"
      },
      "execution_count": null,
      "outputs": []
    },
    {
      "cell_type": "code",
      "source": [
        "a.split()"
      ],
      "metadata": {
        "colab": {
          "base_uri": "https://localhost:8080/"
        },
        "id": "H48c0mG4lhlw",
        "outputId": "ca593939-d422-498e-887f-251b95f58a1c"
      },
      "execution_count": null,
      "outputs": [
        {
          "output_type": "execute_result",
          "data": {
            "text/plain": [
              "['this', 'is', 'krishna']"
            ]
          },
          "metadata": {},
          "execution_count": 5
        }
      ]
    },
    {
      "cell_type": "code",
      "source": [
        "def split1(b):\n",
        "  cont=[]\n",
        "  a=\"\"\n",
        "  for i in b:\n",
        "    if i==\" \":\n",
        "      cont.append(a.strip())\n",
        "      a=\"\"\n",
        "    a=a+i\n",
        "  else:\n",
        "    cont.append(a.strip())\n",
        "  print(cont)"
      ],
      "metadata": {
        "id": "-Sa-wiv_liUw"
      },
      "execution_count": null,
      "outputs": []
    },
    {
      "cell_type": "code",
      "source": [
        "def split2(b):\n",
        "  spliter=[i for i in b a=\"\",a=(a+i).strip() else a.strip() ]"
      ],
      "metadata": {
        "colab": {
          "base_uri": "https://localhost:8080/",
          "height": 130
        },
        "id": "WjFXClU0ztiI",
        "outputId": "36365403-e60d-4e3b-b30c-84c1bccbc23c"
      },
      "execution_count": null,
      "outputs": [
        {
          "output_type": "error",
          "ename": "SyntaxError",
          "evalue": "ignored",
          "traceback": [
            "\u001b[0;36m  File \u001b[0;32m\"<ipython-input-86-e79f49a02865>\"\u001b[0;36m, line \u001b[0;32m2\u001b[0m\n\u001b[0;31m    spliter=[i for i in b a=\"\",a=(a+i).strip() else a.strip() ]\u001b[0m\n\u001b[0m                          ^\u001b[0m\n\u001b[0;31mSyntaxError\u001b[0m\u001b[0;31m:\u001b[0m invalid syntax\n"
          ]
        }
      ]
    },
    {
      "cell_type": "code",
      "source": [
        "a=\"hi this is krishna and I am AI trainer\"\n",
        "split1(a)"
      ],
      "metadata": {
        "colab": {
          "base_uri": "https://localhost:8080/"
        },
        "id": "PIeXPjT5zTkv",
        "outputId": "884bccc1-6eda-4c3a-e53c-6a3c0d018e6f"
      },
      "execution_count": null,
      "outputs": [
        {
          "output_type": "stream",
          "name": "stdout",
          "text": [
            "['hi', 'hi this', 'hi this is', 'hi this is krishna', 'hi this is krishna and', 'hi this is krishna and I', 'hi this is krishna and I am', 'hi this is krishna and I am AI', 'hi this is krishna and I am AI trainer']\n"
          ]
        }
      ]
    },
    {
      "cell_type": "code",
      "source": [
        "class Atm:\n",
        "  def __init__(self):\n",
        "    self.__pin=\"\"\n",
        "    self.__balance=0\n",
        "    print(\"\"\"Welcome to Kotak Mahindra Bank\n",
        "    \n",
        "    Here is your options:\n",
        "    \n",
        "    1. Balance Enquiry\n",
        "    2. Change Pin\n",
        "    3. Set Balance\n",
        "    4. Exit\n",
        "    \"\"\")\n",
        "    self.a=input()\n",
        "    if self.a==\"1\":\n",
        "      self.balance_enquiry()\n",
        "    elif self.a =='2':\n",
        "      self.chnage_pin()\n",
        "    elif self.a=='3':\n",
        "      self.set_balance()\n",
        "    elif self.a=='4':\n",
        "      print(\"Thankyou to banking with us\")\n",
        "    else:\n",
        "      print(\"Kindly choose a valid option.\")\n",
        "\n",
        "\n",
        "  def set_balance(self):\n",
        "    print(\"Welcome to set balance section.\")\n",
        "    set_bal=int(input(\"Kindly enter your balance:\"))\n",
        "    self.__balance=set_bal\n",
        "    \n",
        "  def balance_enquiry(self):\n",
        "    print(\"You available balance is :{}\".format(self.__balance))\n",
        "  def chnage_pin(self):\n",
        "    set_pin=input(\"Kindly set your pin: \")\n",
        "    self.__pin=set_pin"
      ],
      "metadata": {
        "id": "HzDHRTVllvr6"
      },
      "execution_count": null,
      "outputs": []
    },
    {
      "cell_type": "code",
      "source": [
        "krishna=Atm()"
      ],
      "metadata": {
        "colab": {
          "base_uri": "https://localhost:8080/"
        },
        "id": "d6C1JQCtnzN_",
        "outputId": "230b4f5b-d9c4-4c83-c71d-e106d8d3802a"
      },
      "execution_count": null,
      "outputs": [
        {
          "name": "stdout",
          "output_type": "stream",
          "text": [
            "Welcome to Kotak Mahindra Bank\n",
            "    \n",
            "    Here is your options:\n",
            "    \n",
            "    1. Balance Enquiry\n",
            "    2. Change Pin\n",
            "    3. Set Balance\n",
            "    4. Exit\n",
            "    \n",
            "2\n",
            "Kindly set your pin: 9807\n"
          ]
        }
      ]
    },
    {
      "cell_type": "code",
      "source": [
        ".krishna._Atm__balance=10000"
      ],
      "metadata": {
        "colab": {
          "base_uri": "https://localhost:8080/",
          "height": 130
        },
        "id": "ziEp4ph5n1MG",
        "outputId": "bdc19b56-c43c-4200-9ac1-a9b99eb02809"
      },
      "execution_count": null,
      "outputs": [
        {
          "output_type": "error",
          "ename": "SyntaxError",
          "evalue": "ignored",
          "traceback": [
            "\u001b[0;36m  File \u001b[0;32m\"<ipython-input-41-e5be685155dd>\"\u001b[0;36m, line \u001b[0;32m1\u001b[0m\n\u001b[0;31m    .krishna._Atm__balance=10000\u001b[0m\n\u001b[0m    ^\u001b[0m\n\u001b[0;31mSyntaxError\u001b[0m\u001b[0;31m:\u001b[0m invalid syntax\n"
          ]
        }
      ]
    },
    {
      "cell_type": "code",
      "source": [
        "krishna._Atm__balance"
      ],
      "metadata": {
        "colab": {
          "base_uri": "https://localhost:8080/"
        },
        "id": "zxhwzfsAn8nf",
        "outputId": "8f83819c-54fa-4323-aaf3-dc6221246722"
      },
      "execution_count": null,
      "outputs": [
        {
          "output_type": "execute_result",
          "data": {
            "text/plain": [
              "0"
            ]
          },
          "metadata": {},
          "execution_count": 42
        }
      ]
    },
    {
      "cell_type": "code",
      "source": [
        "krishna._Atm__pin"
      ],
      "metadata": {
        "colab": {
          "base_uri": "https://localhost:8080/",
          "height": 35
        },
        "id": "_0eWfYRYrqLO",
        "outputId": "82bed576-3617-4836-b7c1-aeafdfb1d40c"
      },
      "execution_count": null,
      "outputs": [
        {
          "output_type": "execute_result",
          "data": {
            "text/plain": [
              "'9807'"
            ],
            "application/vnd.google.colaboratory.intrinsic+json": {
              "type": "string"
            }
          },
          "metadata": {},
          "execution_count": 48
        }
      ]
    },
    {
      "cell_type": "code",
      "source": [
        "krishna.pin"
      ],
      "metadata": {
        "colab": {
          "base_uri": "https://localhost:8080/",
          "height": 165
        },
        "id": "zBfxLazBr0KV",
        "outputId": "821a0a39-ed28-4670-b113-b3f1ef31f823"
      },
      "execution_count": null,
      "outputs": [
        {
          "output_type": "error",
          "ename": "AttributeError",
          "evalue": "ignored",
          "traceback": [
            "\u001b[0;31m---------------------------------------------------------------------------\u001b[0m",
            "\u001b[0;31mAttributeError\u001b[0m                            Traceback (most recent call last)",
            "\u001b[0;32m<ipython-input-49-4bc9a5ac86db>\u001b[0m in \u001b[0;36m<module>\u001b[0;34m\u001b[0m\n\u001b[0;32m----> 1\u001b[0;31m \u001b[0mkrishna\u001b[0m\u001b[0;34m.\u001b[0m\u001b[0mpin\u001b[0m\u001b[0;34m\u001b[0m\u001b[0;34m\u001b[0m\u001b[0m\n\u001b[0m",
            "\u001b[0;31mAttributeError\u001b[0m: 'Atm' object has no attribute 'pin'"
          ]
        }
      ]
    },
    {
      "cell_type": "code",
      "source": [
        "krishna._Atm__pin"
      ],
      "metadata": {
        "colab": {
          "base_uri": "https://localhost:8080/",
          "height": 35
        },
        "id": "6OJ28wPGr15e",
        "outputId": "4f2aa471-8c33-4257-c7b7-210d854d1167"
      },
      "execution_count": null,
      "outputs": [
        {
          "output_type": "execute_result",
          "data": {
            "text/plain": [
              "'9807'"
            ],
            "application/vnd.google.colaboratory.intrinsic+json": {
              "type": "string"
            }
          },
          "metadata": {},
          "execution_count": 52
        }
      ]
    },
    {
      "cell_type": "code",
      "source": [
        "class Atm:\n",
        "  def __init__(self):\n",
        "    self.__pin=\"\"\n",
        "    self.__balance=0\n",
        "    print(\"\"\"Welcome to Kotak Mahindra Bank\n",
        "    \n",
        "    Here is your options:\n",
        "    \n",
        "    1. Balance Enquiry\n",
        "    2. Change Pin\n",
        "    3. Set Balance\n",
        "    4. Exit\n",
        "    \"\"\")\n",
        "    self.a=input()\n",
        "    if self.a==\"1\":\n",
        "      self.balance_enquiry()\n",
        "    elif self.a =='2':\n",
        "      self.__chnage_pin()\n",
        "    elif self.a=='3':\n",
        "      self.set_balance()\n",
        "    elif self.a=='4':\n",
        "      print(\"Thankyou to banking with us\")\n",
        "    else:\n",
        "      print(\"Kindly choose a valid option.\")\n",
        "\n",
        "\n",
        "  def set_balance(self):\n",
        "    print(\"Welcome to set balance section.\")\n",
        "    set_bal=int(input(\"Kindly enter your balance:\"))\n",
        "    self.__balance=set_bal\n",
        "    \n",
        "  def balance_enquiry(self):\n",
        "    print(\"You available balance is :{}\".format(self.__balance))\n",
        "  def __chnage_pin(self):\n",
        "    set_pin=input(\"Kindly set your pin: \")\n",
        "    self.__pin=set_pin"
      ],
      "metadata": {
        "id": "dg3GlKCDsBxO"
      },
      "execution_count": null,
      "outputs": []
    },
    {
      "cell_type": "code",
      "source": [
        "a=Atm()"
      ],
      "metadata": {
        "colab": {
          "base_uri": "https://localhost:8080/"
        },
        "id": "cBYnvc_jsVJ8",
        "outputId": "d67b16f8-f463-48c9-bb40-475d526fc2df"
      },
      "execution_count": null,
      "outputs": [
        {
          "output_type": "stream",
          "name": "stdout",
          "text": [
            "Welcome to Kotak Mahindra Bank\n",
            "    \n",
            "    Here is your options:\n",
            "    \n",
            "    1. Balance Enquiry\n",
            "    2. Change Pin\n",
            "    3. Set Balance\n",
            "    4. Exit\n",
            "    \n",
            "\n",
            "Kindly choose a valid option.\n"
          ]
        }
      ]
    },
    {
      "cell_type": "code",
      "source": [
        "a.chnage_pin"
      ],
      "metadata": {
        "colab": {
          "base_uri": "https://localhost:8080/",
          "height": 165
        },
        "id": "9ZvHs2QKsaAF",
        "outputId": "37cbb355-83b2-4f04-f17e-2108bb4db454"
      },
      "execution_count": null,
      "outputs": [
        {
          "output_type": "error",
          "ename": "AttributeError",
          "evalue": "ignored",
          "traceback": [
            "\u001b[0;31m---------------------------------------------------------------------------\u001b[0m",
            "\u001b[0;31mAttributeError\u001b[0m                            Traceback (most recent call last)",
            "\u001b[0;32m<ipython-input-58-c1a77eff0012>\u001b[0m in \u001b[0;36m<module>\u001b[0;34m\u001b[0m\n\u001b[0;32m----> 1\u001b[0;31m \u001b[0ma\u001b[0m\u001b[0;34m.\u001b[0m\u001b[0mchnage_pin\u001b[0m\u001b[0;34m\u001b[0m\u001b[0;34m\u001b[0m\u001b[0m\n\u001b[0m",
            "\u001b[0;31mAttributeError\u001b[0m: 'Atm' object has no attribute 'chnage_pin'"
          ]
        }
      ]
    },
    {
      "cell_type": "code",
      "source": [
        "a._Atm__chnage_pin()"
      ],
      "metadata": {
        "colab": {
          "base_uri": "https://localhost:8080/"
        },
        "id": "vsWjRFsZtFeJ",
        "outputId": "48f439ce-2da1-4d35-a017-0fc75f903bab"
      },
      "execution_count": null,
      "outputs": [
        {
          "name": "stdout",
          "output_type": "stream",
          "text": [
            "Kindly set your pin: 1\n"
          ]
        }
      ]
    },
    {
      "cell_type": "code",
      "source": [
        "class __Atm:\n",
        "  def __init__(self):\n",
        "    self.__pin=\"\"\n",
        "    self.__balance=0\n",
        "    print(\"\"\"Welcome to Kotak Mahindra Bank\n",
        "    \n",
        "    Here is your options:\n",
        "    \n",
        "    1. Balance Enquiry\n",
        "    2. Change Pin\n",
        "    3. Set Balance\n",
        "    4. Exit\n",
        "    \"\"\")\n",
        "    self.a=input()\n",
        "    if self.a==\"1\":\n",
        "      self.balance_enquiry()\n",
        "    elif self.a =='2':\n",
        "      self.__chnage_pin()\n",
        "    elif self.a=='3':\n",
        "      self.set_balance()\n",
        "    elif self.a=='4':\n",
        "      print(\"Thankyou to banking with us\")\n",
        "    else:\n",
        "      print(\"Kindly choose a valid option.\")\n",
        "\n",
        "\n",
        "  def set_balance(self):\n",
        "    print(\"Welcome to set balance section.\")\n",
        "    set_bal=int(input(\"Kindly enter your balance:\"))\n",
        "    self.__balance=set_bal\n",
        "    \n",
        "  def balance_enquiry(self):\n",
        "    print(\"You available balance is :{}\".format(self.__balance))\n",
        "  def __chnage_pin(self):\n",
        "    set_pin=input(\"Kindly set your pin: \")\n",
        "    self.__pin=set_pin"
      ],
      "metadata": {
        "id": "xVG00ihutVVu"
      },
      "execution_count": null,
      "outputs": []
    },
    {
      "cell_type": "code",
      "source": [
        "krishna=__Atm()\n"
      ],
      "metadata": {
        "colab": {
          "base_uri": "https://localhost:8080/"
        },
        "id": "iX-hmH_stokW",
        "outputId": "065c42ec-13b5-4c8d-f524-3134e6f04b39"
      },
      "execution_count": null,
      "outputs": [
        {
          "output_type": "stream",
          "name": "stdout",
          "text": [
            "Welcome to Kotak Mahindra Bank\n",
            "    \n",
            "    Here is your options:\n",
            "    \n",
            "    1. Balance Enquiry\n",
            "    2. Change Pin\n",
            "    3. Set Balance\n",
            "    4. Exit\n",
            "    \n",
            "4\n",
            "Thankyou to banking with us\n"
          ]
        }
      ]
    },
    {
      "cell_type": "code",
      "source": [
        "class Atm:\n",
        "  def __init__(self):\n",
        "    self.__pin=\"\"\n",
        "    self.__balance=0\n",
        "    self.menu()\n",
        "  def menu(self):\n",
        "    print(\"\"\"Welcome to Kotak Mahindra Bank\n",
        "    \n",
        "    Here is your options:\n",
        "    \n",
        "    1. Balance Enquiry\n",
        "    2. Change Pin\n",
        "    3. Set Balance\n",
        "    4. Exit\n",
        "    \"\"\")\n",
        "    self.a=input()\n",
        "    if self.a==\"1\":\n",
        "      self.balance_enquiry()\n",
        "    elif self.a =='2':\n",
        "      self.__chnage_pin()\n",
        "    elif self.a=='3':\n",
        "      self.set_balance()\n",
        "    elif self.a=='4':\n",
        "      print(\"Thankyou to banking with us\")\n",
        "    else:\n",
        "      print(\"Kindly choose a valid option.\")\n",
        "\n",
        "  def set_balance(self):\n",
        "    print(\"Welcome to set balance section.\")\n",
        "    set_bal=int(input(\"Kindly enter your balance:\"))\n",
        "    self.__balance=set_bal\n",
        "    self.menu()\n",
        "\n",
        "  def balance_enquiry(self):\n",
        "    print(\"You available balance is :{}\".format(self.__balance))\n",
        "    self.menu()\n",
        "  def __chnage_pin(self):\n",
        "    set_pin=input(\"Kindly set your pin: \")\n",
        "    self.__pin=set_pin\n",
        "    self.menu()"
      ],
      "metadata": {
        "id": "ykCJNXwUtqTl"
      },
      "execution_count": null,
      "outputs": []
    },
    {
      "cell_type": "code",
      "source": [
        "krishna=Atm()"
      ],
      "metadata": {
        "colab": {
          "base_uri": "https://localhost:8080/"
        },
        "id": "_-lXteOWu1VR",
        "outputId": "d9ce3145-0436-42d2-80f3-65b1f46802a4"
      },
      "execution_count": null,
      "outputs": [
        {
          "output_type": "stream",
          "name": "stdout",
          "text": [
            "Welcome to Kotak Mahindra Bank\n",
            "    \n",
            "    Here is your options:\n",
            "    \n",
            "    1. Balance Enquiry\n",
            "    2. Change Pin\n",
            "    3. Set Balance\n",
            "    4. Exit\n",
            "    \n",
            "3\n",
            "Welcome to set balance section.\n",
            "Kindly enter your balance:10000\n",
            "Welcome to Kotak Mahindra Bank\n",
            "    \n",
            "    Here is your options:\n",
            "    \n",
            "    1. Balance Enquiry\n",
            "    2. Change Pin\n",
            "    3. Set Balance\n",
            "    4. Exit\n",
            "    \n",
            "1\n",
            "You available balance is :10000\n"
          ]
        }
      ]
    },
    {
      "cell_type": "code",
      "source": [
        "krishna.menu()"
      ],
      "metadata": {
        "colab": {
          "base_uri": "https://localhost:8080/"
        },
        "id": "TBLmFH4Vu20c",
        "outputId": "8f283726-12c5-4024-f631-b513249b11df"
      },
      "execution_count": null,
      "outputs": [
        {
          "output_type": "stream",
          "name": "stdout",
          "text": [
            "Welcome to Kotak Mahindra Bank\n",
            "    \n",
            "    Here is your options:\n",
            "    \n",
            "    1. Balance Enquiry\n",
            "    2. Change Pin\n",
            "    3. Set Balance\n",
            "    4. Exit\n",
            "    \n",
            "1\n",
            "You available balance is :0\n"
          ]
        }
      ]
    },
    {
      "cell_type": "code",
      "source": [
        "def num():\n",
        "  print(\"this is first number.\")\n",
        "\n",
        "def num2():\n",
        "  num()\n",
        "  print(\"this is second number.\")"
      ],
      "metadata": {
        "id": "_2qpX-qsu5jM"
      },
      "execution_count": null,
      "outputs": []
    },
    {
      "cell_type": "code",
      "source": [
        "num()"
      ],
      "metadata": {
        "colab": {
          "base_uri": "https://localhost:8080/"
        },
        "id": "5J1B5xzfwVv1",
        "outputId": "85ecce01-92fa-4844-905d-2cfc25a41209"
      },
      "execution_count": null,
      "outputs": [
        {
          "output_type": "stream",
          "name": "stdout",
          "text": [
            "this is first number.\n"
          ]
        }
      ]
    },
    {
      "cell_type": "code",
      "source": [
        "num2()"
      ],
      "metadata": {
        "colab": {
          "base_uri": "https://localhost:8080/"
        },
        "id": "3I4-aSTQwijb",
        "outputId": "dc6ee05e-7d2b-4e10-d2c3-7fd2c6cd91d6"
      },
      "execution_count": null,
      "outputs": [
        {
          "output_type": "stream",
          "name": "stdout",
          "text": [
            "this is first number.\n",
            "this is second number.\n"
          ]
        }
      ]
    },
    {
      "cell_type": "code",
      "source": [
        "class Student:\n",
        "  def login(self):\n",
        "    print(\"Welcome to login section\")\n",
        "  \n",
        "  def signup(self):\n",
        "    print(\"Welcome to signup section\")\n",
        "\n",
        "  def certification(self):\n",
        "    print(\"Welcome to certification section\")"
      ],
      "metadata": {
        "id": "aR5qIFtMwjpj"
      },
      "execution_count": null,
      "outputs": []
    },
    {
      "cell_type": "code",
      "source": [
        "class Trainer:\n",
        "  def login(self):\n",
        "    print(\"Welcome to login section\")\n",
        "  \n",
        "  def signup(self):\n",
        "    print(\"Welcome to signup section\")\n",
        "\n",
        "  def revenue(self):\n",
        "    print(\"Welcome to revenue section\")"
      ],
      "metadata": {
        "id": "SJkXHkfLQKBV"
      },
      "execution_count": null,
      "outputs": []
    },
    {
      "cell_type": "code",
      "source": [
        "shiva=Student()"
      ],
      "metadata": {
        "id": "e3MARnzrQa8L"
      },
      "execution_count": null,
      "outputs": []
    },
    {
      "cell_type": "code",
      "source": [
        "class Trainer:\n",
        "\n",
        "  def __init__(self,a,b):\n",
        "    self.a=str(a)\n",
        "    self.b=str(b)\n",
        "    print(type(self.a+self.b))\n",
        "  def login(self):\n",
        "    print(\"Welcome to login section\")\n",
        "  \n",
        "  def signup(self):\n",
        "    print(\"Welcome to signup section\")\n",
        "\n",
        "  def revenue(self):\n",
        "    print(\"Welcome to revenue section\")"
      ],
      "metadata": {
        "id": "sSdrjl9HQfkL"
      },
      "execution_count": null,
      "outputs": []
    },
    {
      "cell_type": "code",
      "source": [
        "krishna=Trainer(2,3)"
      ],
      "metadata": {
        "colab": {
          "base_uri": "https://localhost:8080/"
        },
        "id": "x0C9qrYfVAkj",
        "outputId": "c608fef0-d353-45ec-f080-eb141e769aaf"
      },
      "execution_count": null,
      "outputs": [
        {
          "output_type": "stream",
          "name": "stdout",
          "text": [
            "<class 'str'>\n"
          ]
        }
      ]
    },
    {
      "cell_type": "code",
      "source": [
        "class Dada:\n",
        "  def home(self):\n",
        "    print(\"Dada's home\")"
      ],
      "metadata": {
        "id": "OOiWRsROWgcB"
      },
      "execution_count": null,
      "outputs": []
    },
    {
      "cell_type": "code",
      "source": [
        "class Papa:\n",
        "  def laptop(self):\n",
        "    print(\"papa's laptop\")"
      ],
      "metadata": {
        "id": "LWc0BRkcYXBI"
      },
      "execution_count": null,
      "outputs": []
    },
    {
      "cell_type": "code",
      "source": [
        "Sunil=Papa()"
      ],
      "metadata": {
        "id": "f_YhYv3wYueq"
      },
      "execution_count": null,
      "outputs": []
    },
    {
      "cell_type": "code",
      "source": [
        "Sunil."
      ],
      "metadata": {
        "id": "ZsXFdyzxYuS8"
      },
      "execution_count": null,
      "outputs": []
    },
    {
      "cell_type": "code",
      "source": [],
      "metadata": {
        "id": "LyOW-RsHYuKv"
      },
      "execution_count": null,
      "outputs": []
    },
    {
      "cell_type": "code",
      "source": [],
      "metadata": {
        "id": "G4jsDdGYYt3r"
      },
      "execution_count": null,
      "outputs": []
    },
    {
      "cell_type": "code",
      "source": [],
      "metadata": {
        "id": "PG0wn0EUYi9g"
      },
      "execution_count": null,
      "outputs": []
    },
    {
      "cell_type": "code",
      "source": [],
      "metadata": {
        "id": "YS3MCvR7YrA4"
      },
      "execution_count": null,
      "outputs": []
    }
  ]
}